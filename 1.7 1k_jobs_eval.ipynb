{
  "cells": [
    {
      "cell_type": "markdown",
      "metadata": {
        "id": "view-in-github",
        "colab_type": "text"
      },
      "source": [
        "<a href=\"https://colab.research.google.com/github/Xjkslhstxn/BT4222/blob/main/1.7%201k_jobs_eval.ipynb\" target=\"_parent\"><img src=\"https://colab.research.google.com/assets/colab-badge.svg\" alt=\"Open In Colab\"/></a>"
      ]
    },
    {
      "cell_type": "code",
      "execution_count": null,
      "metadata": {
        "id": "jDiluCaa8-oa"
      },
      "outputs": [],
      "source": [
        "import numpy as np\n",
        "import matplotlib.pyplot as plt\n",
        "import pandas as pd\n",
        "from sklearn.metrics.pairwise import cosine_similarity"
      ]
    },
    {
      "cell_type": "code",
      "source": [
        "from google.colab import drive\n",
        "drive.mount('/content/drive')"
      ],
      "metadata": {
        "colab": {
          "base_uri": "https://localhost:8080/"
        },
        "id": "Ex8tjuAI99Qf",
        "outputId": "1a5553d9-2f23-4838-f6ba-cbb8c7a354fb"
      },
      "execution_count": null,
      "outputs": [
        {
          "output_type": "stream",
          "name": "stdout",
          "text": [
            "Mounted at /content/drive\n"
          ]
        }
      ]
    },
    {
      "cell_type": "code",
      "execution_count": null,
      "metadata": {
        "colab": {
          "base_uri": "https://localhost:8080/"
        },
        "id": "2lcBv7UP8-oc",
        "outputId": "65cd0d2b-4471-4d77-8e96-895473800079"
      },
      "outputs": [
        {
          "output_type": "stream",
          "name": "stdout",
          "text": [
            "/content/drive/MyDrive/bt4222_notebook\n"
          ]
        }
      ],
      "source": [
        "%cd drive/MyDrive/bt4222_notebook/"
      ]
    },
    {
      "cell_type": "code",
      "source": [
        "jobs_df = pd.read_csv('embedded_jobs_IdEncoded.csv')\n",
        "print(jobs_df.head(3))"
      ],
      "metadata": {
        "id": "4g_XFGlJvD1T",
        "colab": {
          "base_uri": "https://localhost:8080/"
        },
        "outputId": "8f7ea9f9-eace-4856-9326-6db8daa1392d"
      },
      "execution_count": null,
      "outputs": [
        {
          "output_type": "stream",
          "name": "stdout",
          "text": [
            "   JobId                                      advertiserurl  \\\n",
            "0      0  https://www.dice.com/jobs/detail/AUTOMATION-TE...   \n",
            "1      1  https://www.dice.com/jobs/detail/Information-S...   \n",
            "2      2  https://www.dice.com/jobs/detail/Business-Solu...   \n",
            "\n",
            "                             company  \\\n",
            "0  Digital Intelligence Systems, LLC   \n",
            "1  University of Chicago/IT Services   \n",
            "2               Galaxy Systems, Inc.   \n",
            "\n",
            "                            employmenttype_jobstatus  \\\n",
            "0  C2H Corp-To-Corp, C2H Independent, C2H W2, 3 M...   \n",
            "1                                          Full Time   \n",
            "2                                          Full Time   \n",
            "\n",
            "                                      jobdescription joblocation_address  \\\n",
            "0  Looking for Selenium engineers...must have sol...         Atlanta, GA   \n",
            "1  The University of Chicago has a rapidly growin...         Chicago, IL   \n",
            "2  GalaxE.SolutionsEvery day, our solutions affec...      Schaumburg, IL   \n",
            "\n",
            "                        jobtitle     postdate  \\\n",
            "0       AUTOMATION TEST ENGINEER   1 hour ago   \n",
            "1  Information Security Engineer   1 week ago   \n",
            "2   Business Solutions Architect  2 weeks ago   \n",
            "\n",
            "                                             shift site_name  \\\n",
            "0  Telecommuting not available|Travel not required       NaN   \n",
            "1  Telecommuting not available|Travel not required       NaN   \n",
            "2  Telecommuting not available|Travel not required       NaN   \n",
            "\n",
            "                                              skills  \\\n",
            "0                                                NaN   \n",
            "1  linux/unix, network monitoring, incident respo...   \n",
            "2  Enterprise Solutions Architecture, business in...   \n",
            "\n",
            "                                 Job_Features_Merged  \\\n",
            "0  AUTOMATION TEST ENGINEER Looking for Selenium ...   \n",
            "1  Information Security Engineer The University o...   \n",
            "2  Business Solutions Architect GalaxE.SolutionsE...   \n",
            "\n",
            "                                      processed_text  \\\n",
            "0  automation test engineer looking selenium engi...   \n",
            "1  information security engineer university chica...   \n",
            "2  business solution architect galaxe.solutionsev...   \n",
            "\n",
            "                                      job_embeddings  \n",
            "0  [-1.36010982e-02  1.65434983e-02  2.71077584e-...  \n",
            "1  [-2.95196809e-02  2.02333070e-02  1.17259566e-...  \n",
            "2  [-1.94818098e-02 -2.27360129e-02  2.15042476e-...  \n"
          ]
        }
      ]
    },
    {
      "cell_type": "code",
      "source": [
        "random_seed = 42\n",
        "sampled_df = jobs_df.sample(n=1000, random_state=random_seed)"
      ],
      "metadata": {
        "id": "BgOQvBKBbkkr"
      },
      "execution_count": null,
      "outputs": []
    },
    {
      "cell_type": "code",
      "source": [
        "sampled_df.to_csv('1k-jobs-eval.csv', index=False)"
      ],
      "metadata": {
        "id": "CPCkK8Zvb5I0"
      },
      "execution_count": null,
      "outputs": []
    },
    {
      "cell_type": "code",
      "source": [],
      "metadata": {
        "id": "eE-HTVSvcYz7"
      },
      "execution_count": null,
      "outputs": []
    }
  ],
  "metadata": {
    "language_info": {
      "name": "python"
    },
    "colab": {
      "provenance": [],
      "include_colab_link": true
    },
    "kernelspec": {
      "name": "python3",
      "display_name": "Python 3"
    }
  },
  "nbformat": 4,
  "nbformat_minor": 0
}