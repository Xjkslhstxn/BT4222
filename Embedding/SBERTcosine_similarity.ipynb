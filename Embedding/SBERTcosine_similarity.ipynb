{
 "cells": [
  {
   "cell_type": "markdown",
   "metadata": {},
   "source": [
    "# Loop 20 times to geneerate user subsamples\n",
    "\n",
    "- Run once to get 20 user subsamples with each 2000 rows\n",
    "- Each user has labels with two courses with top 2 highest similarity Score\n",
    "- Each user has labels with two courses with bottom 2 highest similarity Score\n"
   ]
  },
  {
   "cell_type": "code",
   "execution_count": 86,
   "metadata": {},
   "outputs": [],
   "source": [
    "import pandas as pd\n",
    "import numpy as np\n",
    "from sklearn.metrics.pairwise import cosine_similarity\n",
    "\n",
    "def convert_str_to_array(embed_str):\n",
    "        embed_str = embed_str[1:-1]\n",
    "        str_nums = embed_str.strip().split()\n",
    "        return np.array([float(num) for num in str_nums if num], dtype=float)\n",
    "\n",
    "for j in range(20):\n",
    "\n",
    "    # Loop below code 20 times to get 20 different samples\n",
    "\n",
    "    job_df = pd.read_csv(\"embedded_jobs.csv\")\n",
    "    user_df = pd.read_csv(\"embedded_users.csv\")\n",
    "\n",
    "    # Generate 20 random numbers for random_state\n",
    "    seed = np.random.randint(1000)\n",
    "    user_df['user_embeddings'] = user_df['user_embeddings'].apply(convert_str_to_array)\n",
    "    job_df['job_embeddings'] = job_df['job_embeddings'].apply(convert_str_to_array)\n",
    "\n",
    "    sample_1_user = user_df.sample(n=2000, replace=True, random_state=seed).reset_index(drop=True)\n",
    "    sample_1_job = job_df.sample(n=2000, replace=True, random_state=seed).reset_index(drop=True)\n",
    "\n",
    "    user_embeddings = np.stack(sample_1_user['user_embeddings'].values)\n",
    "    job_embeddings = np.stack(sample_1_job['job_embeddings'].values)\n",
    "\n",
    "    similarity_matrix = cosine_similarity(user_embeddings, job_embeddings)\n",
    "\n",
    "    for label in ['top1_id', 'top1_score', 'top2_id', 'top2_score', 'bottom1_id', 'bottom1_score', 'bottom2_id', 'bottom2_score']:\n",
    "        sample_1_user[label] = None\n",
    "\n",
    "    # Iterate through each user to find top 2 and bottom 2 jobs based on similarity\n",
    "    for i, similarities in enumerate(similarity_matrix):\n",
    "        # Get indices of jobs sorted by similarity for this user\n",
    "        sorted_indices = np.argsort(similarities)\n",
    "\n",
    "        # Top 2 - highest similarity scores\n",
    "        top_indices = sorted_indices[-2:][::-1]  # Reverse to have top1 before top2\n",
    "        sample_1_user.at[i, 'top1_id'], sample_1_user.at[i, 'top2_id'] = sample_1_job.iloc[top_indices]['uniq_id'].values\n",
    "        sample_1_user.at[i, 'top1_score'], sample_1_user.at[i, 'top2_score'] = similarities[top_indices]\n",
    "\n",
    "        # Bottom 2 - lowest similarity scores\n",
    "        bottom_indices = sorted_indices[:2]  # Already in ascending order\n",
    "        sample_1_user.at[i, 'bottom1_id'], sample_1_user.at[i, 'bottom2_id'] = sample_1_job.iloc[bottom_indices]['uniq_id'].values\n",
    "        sample_1_user.at[i, 'bottom1_score'], sample_1_user.at[i, 'bottom2_score'] = similarities[bottom_indices]\n",
    "\n",
    "\n",
    "        sorted_user = sample_1_user.sort_values(by = \"top1_score\", ascending=False).reset_index(drop = True)\n",
    "\n",
    "\n",
    "    # export sorted_user to csv\n",
    "    # Naming convention: UserWithLabel_{number}_{random_state}.csv\n",
    "    sorted_user.to_csv(\"User Samples/UserWithLabel_{}_{}.csv\".format(j, seed), index=False)"
   ]
  },
  {
   "cell_type": "markdown",
   "metadata": {},
   "source": [
    "# Step by Step"
   ]
  },
  {
   "cell_type": "code",
   "execution_count": null,
   "metadata": {},
   "outputs": [],
   "source": [
    "import pandas as pd\n",
    "import numpy as np\n",
    "from sklearn.metrics.pairwise import cosine_similarity\n",
    "\n",
    "job_df = pd.read_csv(\"embedded_jobs.csv\")\n",
    "user_df = pd.read_csv(\"embedded_users.csv\")"
   ]
  },
  {
   "cell_type": "code",
   "execution_count": null,
   "metadata": {},
   "outputs": [],
   "source": [
    "def convert_str_to_array(embed_str):\n",
    "    embed_str = embed_str[1:-1]\n",
    "    str_nums = embed_str.strip().split()\n",
    "    return np.array([float(num) for num in str_nums if num], dtype=float)\n",
    "\n",
    "user_df['user_embeddings'] = user_df['user_embeddings'].apply(convert_str_to_array)\n",
    "job_df['job_embeddings'] = job_df['job_embeddings'].apply(convert_str_to_array)"
   ]
  },
  {
   "cell_type": "markdown",
   "metadata": {},
   "source": [
    "change random state"
   ]
  },
  {
   "cell_type": "code",
   "execution_count": null,
   "metadata": {},
   "outputs": [],
   "source": [
    "sample_1_user = user_df.sample(n=2000, replace=True, random_state=10).reset_index(drop=True)\n",
    "sample_1_job = job_df.sample(n=2000, replace=True, random_state=10).reset_index(drop=True)"
   ]
  },
  {
   "cell_type": "code",
   "execution_count": null,
   "metadata": {},
   "outputs": [],
   "source": [
    "user_embeddings = np.stack(sample_1_user['user_embeddings'].values)\n",
    "job_embeddings = np.stack(sample_1_job['job_embeddings'].values)"
   ]
  },
  {
   "cell_type": "code",
   "execution_count": null,
   "metadata": {},
   "outputs": [
    {
     "data": {
      "text/plain": [
       "array([[ 0.01907146, -0.00829974,  0.01026976, ...,  0.03162427,\n",
       "         0.00513665,  0.06053568],\n",
       "       [ 0.06041826,  0.07092373, -0.0728156 , ..., -0.0166954 ,\n",
       "         0.06578837,  0.05440273],\n",
       "       [-0.01116717, -0.07107158,  0.02084285, ...,  0.0690934 ,\n",
       "         0.02083637, -0.02229924],\n",
       "       [-0.02518902, -0.05464349, -0.06197032, ...,  0.02155872,\n",
       "         0.03550868,  0.04433848],\n",
       "       [-0.0093353 ,  0.01102138, -0.02440982, ...,  0.00815124,\n",
       "        -0.01781286,  0.01758946]])"
      ]
     },
     "execution_count": 71,
     "metadata": {},
     "output_type": "execute_result"
    }
   ],
   "source": [
    "user_embeddings.shape\n",
    "# print first 5 rows of user_embeddings\n",
    "user_embeddings[:5]"
   ]
  },
  {
   "cell_type": "code",
   "execution_count": null,
   "metadata": {},
   "outputs": [],
   "source": [
    "similarity_matrix = cosine_similarity(user_embeddings, job_embeddings)"
   ]
  },
  {
   "cell_type": "code",
   "execution_count": null,
   "metadata": {},
   "outputs": [
    {
     "data": {
      "text/plain": [
       "array([[ 0.17937348,  0.15273761,  0.31704955, ...,  0.10795576,\n",
       "        -0.01074025,  0.11513021],\n",
       "       [ 0.05742402,  0.07904482,  0.19574735, ...,  0.06015576,\n",
       "        -0.08150383,  0.01688816],\n",
       "       [ 0.28481567,  0.21558789,  0.28910754, ...,  0.11903735,\n",
       "         0.00852393,  0.30544184],\n",
       "       ...,\n",
       "       [ 0.00417474, -0.01543332,  0.24896393, ...,  0.05084219,\n",
       "         0.01065689, -0.06013272],\n",
       "       [ 0.21396519,  0.29651304,  0.3797948 , ...,  0.2394706 ,\n",
       "         0.07938975,  0.16682029],\n",
       "       [ 0.06478971,  0.15015662,  0.17746876, ...,  0.09444445,\n",
       "         0.09266419,  0.12881098]])"
      ]
     },
     "execution_count": 73,
     "metadata": {},
     "output_type": "execute_result"
    }
   ],
   "source": [
    "similarity_matrix"
   ]
  },
  {
   "cell_type": "code",
   "execution_count": null,
   "metadata": {},
   "outputs": [],
   "source": [
    "for label in ['top1_id', 'top1_score', 'top2_id', 'top2_score', 'bottom1_id', 'bottom1_score', 'bottom2_id', 'bottom2_score']:\n",
    "    sample_1_user[label] = None\n",
    "\n",
    "# Iterate through each user to find top 2 and bottom 2 jobs based on similarity\n",
    "for i, similarities in enumerate(similarity_matrix):\n",
    "    # Get indices of jobs sorted by similarity for this user\n",
    "    sorted_indices = np.argsort(similarities)\n",
    "\n",
    "    # Top 2 - highest similarity scores\n",
    "    top_indices = sorted_indices[-2:][::-1]  # Reverse to have top1 before top2\n",
    "    sample_1_user.at[i, 'top1_id'], sample_1_user.at[i, 'top2_id'] = sample_1_job.iloc[top_indices]['uniq_id'].values\n",
    "    sample_1_user.at[i, 'top1_score'], sample_1_user.at[i, 'top2_score'] = similarities[top_indices]\n",
    "\n",
    "    # Bottom 2 - lowest similarity scores\n",
    "    bottom_indices = sorted_indices[:2]  # Already in ascending order\n",
    "    sample_1_user.at[i, 'bottom1_id'], sample_1_user.at[i, 'bottom2_id'] = sample_1_job.iloc[bottom_indices]['uniq_id'].values\n",
    "    sample_1_user.at[i, 'bottom1_score'], sample_1_user.at[i, 'bottom2_score'] = similarities[bottom_indices]"
   ]
  },
  {
   "cell_type": "code",
   "execution_count": null,
   "metadata": {},
   "outputs": [
    {
     "data": {
      "text/plain": [
       "[0.6470626271909341,\n",
       " 0.6381081393682041,\n",
       " 0.6354698306932636,\n",
       " 0.6317341422251666,\n",
       " 0.6313921487798048,\n",
       " 0.6093074748454339,\n",
       " 0.6082848621224705,\n",
       " 0.6080725406255236,\n",
       " 0.6060513650397545,\n",
       " 0.6054078349199901]"
      ]
     },
     "execution_count": 75,
     "metadata": {},
     "output_type": "execute_result"
    }
   ],
   "source": [
    "sorted(sample_1_user[\"top1_score\"], reverse=True)[:10]"
   ]
  },
  {
   "cell_type": "code",
   "execution_count": null,
   "metadata": {},
   "outputs": [],
   "source": [
    "sorted_user = sample_1_user.sort_values(by = \"top1_score\", ascending=False).reset_index(drop = True)"
   ]
  },
  {
   "cell_type": "markdown",
   "metadata": {},
   "source": [
    "Export sorted_user to csv"
   ]
  },
  {
   "cell_type": "code",
   "execution_count": null,
   "metadata": {},
   "outputs": [],
   "source": [
    "# export sorted_user to csv\n",
    "# Naming convention: UserWithLabel_{number}_{random_state}.csv\n",
    "sorted_user.to_csv(\"User Samples/UserWithLabel_1_10.csv\", index=False)"
   ]
  },
  {
   "cell_type": "code",
   "execution_count": null,
   "metadata": {},
   "outputs": [
    {
     "data": {
      "text/plain": [
       "'\\nfor i in range(10):\\n   top1_score = sorted_user[\"top1_score\"][i]\\n   top2_score = sorted_user[\"top2_score\"][i]\\n   top1_id = sorted_user[\"top1_id\"][i]\\n   top2_id = sorted_user[\"top2_id\"][i]\\n   text = sorted_user[\"processed_text\"][i]\\n\\n   for row_num, row in sample_1_job.iterrows():\\n      j = 0\\n      if row[\"uniq_id\"] == top1_id:\\n         job_text1 = row[\"processed_text\"]\\n         print(f\"Top 1 Score: {top1_score}, Job Desc: {job_text1}, User Desc: {text}\")\\n         j += 1\\n      elif row[\"uniq_id\"] == top2_id:\\n         job_text2 = row[\"processed_text\"]\\n         print(f\"Top 2 Score: {top2_score}, Job Desc: {job_text2}, User Desc: {text}\")\\n         j += 1\\n      if j == 2:\\n         break\\n'"
      ]
     },
     "execution_count": 78,
     "metadata": {},
     "output_type": "execute_result"
    }
   ],
   "source": [
    "'''\n",
    "for i in range(10):\n",
    "   top1_score = sorted_user[\"top1_score\"][i]\n",
    "   top2_score = sorted_user[\"top2_score\"][i]\n",
    "   top1_id = sorted_user[\"top1_id\"][i]\n",
    "   top2_id = sorted_user[\"top2_id\"][i]\n",
    "   text = sorted_user[\"processed_text\"][i]\n",
    "\n",
    "   for row_num, row in sample_1_job.iterrows():\n",
    "      j = 0\n",
    "      if row[\"uniq_id\"] == top1_id:\n",
    "         job_text1 = row[\"processed_text\"]\n",
    "         print(f\"Top 1 Score: {top1_score}, Job Desc: {job_text1}, User Desc: {text}\")\n",
    "         j += 1\n",
    "      elif row[\"uniq_id\"] == top2_id:\n",
    "         job_text2 = row[\"processed_text\"]\n",
    "         print(f\"Top 2 Score: {top2_score}, Job Desc: {job_text2}, User Desc: {text}\")\n",
    "         j += 1\n",
    "      if j == 2:\n",
    "         break\n",
    "'''"
   ]
  },
  {
   "cell_type": "code",
   "execution_count": null,
   "metadata": {},
   "outputs": [],
   "source": [
    "# value = sample_1_job.loc[sample_1_job['uniq_id'] == '3a087ce73ab876633f799ae6e94e0023', \"Job_Features_Merged\"].iloc[0]\n",
    "# print(value)\n",
    "# print(sample_1_user['Tech_Features_Merged'][0])"
   ]
  }
 ],
 "metadata": {
  "kernelspec": {
   "display_name": "Python 3",
   "language": "python",
   "name": "python3"
  },
  "language_info": {
   "codemirror_mode": {
    "name": "ipython",
    "version": 3
   },
   "file_extension": ".py",
   "mimetype": "text/x-python",
   "name": "python",
   "nbconvert_exporter": "python",
   "pygments_lexer": "ipython3",
   "version": "3.12.0"
  }
 },
 "nbformat": 4,
 "nbformat_minor": 2
}
