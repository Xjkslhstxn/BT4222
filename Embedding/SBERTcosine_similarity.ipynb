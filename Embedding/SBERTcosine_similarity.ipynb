{
 "cells": [
  {
   "cell_type": "code",
   "execution_count": 1,
   "metadata": {},
   "outputs": [],
   "source": [
    "import pandas as pd\n",
    "import numpy as np\n",
    "from sklearn.metrics.pairwise import cosine_similarity\n",
    "\n",
    "job_df = pd.read_csv(\"embedded_jobs.csv\")\n",
    "user_df = pd.read_csv(\"embedded_users.csv\")"
   ]
  },
  {
   "cell_type": "code",
   "execution_count": 2,
   "metadata": {},
   "outputs": [],
   "source": [
    "def convert_str_to_array(embed_str):\n",
    "    embed_str = embed_str[1:-1]\n",
    "    str_nums = embed_str.strip().split()\n",
    "    return np.array([float(num) for num in str_nums if num], dtype=float)\n",
    "\n",
    "user_df['user_embeddings'] = user_df['user_embeddings'].apply(convert_str_to_array)\n",
    "job_df['job_embeddings'] = job_df['job_embeddings'].apply(convert_str_to_array)"
   ]
  },
  {
   "cell_type": "markdown",
   "metadata": {},
   "source": [
    "change random state"
   ]
  },
  {
   "cell_type": "code",
   "execution_count": 3,
   "metadata": {},
   "outputs": [],
   "source": [
    "sample_1_user = user_df.sample(n=2000, replace=True, random_state=0).reset_index(drop=True)\n",
    "sample_1_job = job_df.sample(n=2000, replace=True, random_state=0).reset_index(drop=True)"
   ]
  },
  {
   "cell_type": "code",
   "execution_count": 5,
   "metadata": {},
   "outputs": [],
   "source": [
    "user_embeddings = np.stack(sample_1_user['user_embeddings'].values)\n",
    "job_embeddings = np.stack(sample_1_job['job_embeddings'].values)"
   ]
  },
  {
   "cell_type": "code",
   "execution_count": 6,
   "metadata": {},
   "outputs": [],
   "source": [
    "similarity_matrix = cosine_similarity(user_embeddings, job_embeddings)"
   ]
  },
  {
   "cell_type": "code",
   "execution_count": 7,
   "metadata": {},
   "outputs": [
    {
     "data": {
      "text/plain": [
       "array([[ 0.06409579,  0.08736673,  0.08579661, ...,  0.06047326,\n",
       "         0.43333627,  0.1071565 ],\n",
       "       [ 0.06548012,  0.0382575 , -0.02327894, ...,  0.07977806,\n",
       "         0.06991166,  0.02290556],\n",
       "       [ 0.05159002,  0.10440023, -0.02228508, ...,  0.05652013,\n",
       "         0.30451759,  0.08523632],\n",
       "       ...,\n",
       "       [ 0.13146621,  0.08600752,  0.01596827, ...,  0.05325247,\n",
       "         0.18031842,  0.08367417],\n",
       "       [ 0.10253367,  0.11754141,  0.05703012, ...,  0.12177801,\n",
       "         0.16531908,  0.11984537],\n",
       "       [ 0.16057843,  0.08132413,  0.05407259, ...,  0.1230199 ,\n",
       "         0.21142906,  0.15153718]])"
      ]
     },
     "execution_count": 7,
     "metadata": {},
     "output_type": "execute_result"
    }
   ],
   "source": [
    "similarity_matrix"
   ]
  },
  {
   "cell_type": "code",
   "execution_count": 8,
   "metadata": {},
   "outputs": [],
   "source": [
    "for label in ['top1_id', 'top1_score', 'top2_id', 'top2_score', 'bottom1_id', 'bottom1_score', 'bottom2_id', 'bottom2_score']:\n",
    "    sample_1_user[label] = None\n",
    "\n",
    "# Iterate through each user to find top 2 and bottom 2 jobs based on similarity\n",
    "for i, similarities in enumerate(similarity_matrix):\n",
    "    # Get indices of jobs sorted by similarity for this user\n",
    "    sorted_indices = np.argsort(similarities)\n",
    "\n",
    "    # Top 2 - highest similarity scores\n",
    "    top_indices = sorted_indices[-2:][::-1]  # Reverse to have top1 before top2\n",
    "    sample_1_user.at[i, 'top1_id'], sample_1_user.at[i, 'top2_id'] = sample_1_job.iloc[top_indices]['uniq_id'].values\n",
    "    sample_1_user.at[i, 'top1_score'], sample_1_user.at[i, 'top2_score'] = similarities[top_indices]\n",
    "\n",
    "    # Bottom 2 - lowest similarity scores\n",
    "    bottom_indices = sorted_indices[:2]  # Already in ascending order\n",
    "    sample_1_user.at[i, 'bottom1_id'], sample_1_user.at[i, 'bottom2_id'] = sample_1_job.iloc[bottom_indices]['uniq_id'].values\n",
    "    sample_1_user.at[i, 'bottom1_score'], sample_1_user.at[i, 'bottom2_score'] = similarities[bottom_indices]"
   ]
  },
  {
   "cell_type": "code",
   "execution_count": 22,
   "metadata": {},
   "outputs": [
    {
     "data": {
      "text/plain": [
       "[0.6386429332292312,\n",
       " 0.6350196097229882,\n",
       " 0.6310751242290228,\n",
       " 0.6288761952946105,\n",
       " 0.6220248395075859,\n",
       " 0.6218228210094235,\n",
       " 0.6201664370383289,\n",
       " 0.6180844462593503,\n",
       " 0.6151718518331782,\n",
       " 0.612866585291409]"
      ]
     },
     "execution_count": 22,
     "metadata": {},
     "output_type": "execute_result"
    }
   ],
   "source": [
    "sorted(sample_1_user[\"top1_score\"], reverse=True)[:10]"
   ]
  },
  {
   "cell_type": "code",
   "execution_count": 46,
   "metadata": {},
   "outputs": [],
   "source": [
    "sorted_user = sample_1_user.sort_values(by = \"top1_score\", ascending=False).reset_index(drop = True)"
   ]
  },
  {
   "cell_type": "code",
   "execution_count": 52,
   "metadata": {},
   "outputs": [
    {
     "name": "stdout",
     "output_type": "stream",
     "text": [
      "Top 2 Score: 0.5650869454879932, Job Desc: python-engineer job title : python engineerlocation : midtown nycjob type : contractduration : long termcontact info : matt o'brien - mobrien @ techlink.com - 201-786-2415python engineer cloud aws puppet exp.key technology : • nginx haproxy apache wsgi• git gitflow• python web framework flask django• unit testing using framework unittest• understanding test automation tool selenium• apm tool newrelicinfrastructure : • aws : least 3+ years• docker : 1+ years• thorough understanding tcp ip http• understanding network security various encryption standards• able configure tune web servers• thorough understanding linux reasonable knowledge linux kernel• asic understanding puppet scm tool development language : • python : least 5 year experience• go : 1+ years• javasscript framework bootstrap angularjs• html5 templating frameworks• basic understanding bash scripting• must understanding modular application oop• boto sdk cloud tool terraform• json yaml rest framework python engineer cloud aws puppet exp ., User Desc: pythonrustsql dynamodbpostgresqlsqlite amazon web service ( aws ) google cloudmicrosoft azure pycharmvisual studio code windowswindows subsystem linux ( wsl ) azure devopsgithub discussion discordzoom\n",
      "Top 1 Score: 0.6386429332292312, Job Desc: python developer aws ’ looking career transforms inspires challenge reward come join u ! verisk analytics global supplier risk assessment service decision analytics customer variety market including insurance healthcare financial service supply chain others . ’ thriving public company solid revenue growth earnings office worldwide . ’ continually looking way augment existing market expand new market excellent growth potential . verisk ’ part organization ’ committed serving long-term interest stakeholder including community operate.requirements : • conceptual knowledge broad cloud computing architecture general aws particular . must understand cloud networking shared security model.• two year hand experience various aws service vpc security group network acl ’ ec2 eb s3 glacier rds cloud formation etc.• experience architecting cloud infrastructure amazon web service ( aws ) small medium scale enterprise level applications• two year programming experience language python java required• knowledge devops concept highly recommended.• experience automation technology chef puppet ansible saltstack desirable experience chef ideal • certification aws including solution architect developer sysops administrator devops engineer highly desirable• look self-starter eager learn new technologiesresponsibilities : • work collaboratively project team implement technology direction vision strategy enable cloud technology adoption• develop aws script python cloud formation json others needed• develop cookbook chef managing operation info security application-level code configurations• assist infrastructure operation engineering team deployment cloud based service providers• assist development team cloud migrations• assist dba team cloud migrations• assist ensuring cloud based system aligned architectural guidelines• implement existing aws emerging cloud technology best fit business needs• support development new standard stated direction guidelines• implement resilient scalable enterprise-class solution cloud infrastructureswe offering excellent compensation package . competitive benefit package includes full health care option 401 ( k ) plan generous paid-time-off.if opportunity look exciting challenging please click submit apply . aws service vpc security group network acls ec2 eb s3 glacier rds cloud formation, User Desc: pythonrustsql dynamodbpostgresqlsqlite amazon web service ( aws ) google cloudmicrosoft azure pycharmvisual studio code windowswindows subsystem linux ( wsl ) azure devopsgithub discussion discordzoom\n",
      "Top 2 Score: 0.5296843085277683, Job Desc: platform engineer - aws devops php minimum required skill : java configuration management awswe leading digital agency transforming top brand nonprofit campaign around world digital age . airbnb google unicef mit ford team usa help grow community build platform transform brand cause engage important people.top reason work us1 . work alongside creative professional industry ! 2 . promote within3 . amazing company culture atmosphere ! doing- provide reliable highly-available web infrastructure serf mission-critical sites- provide input design architecture systems- manage contribute email delivery infrastructure - build tool make client service qa analytics production team efficient - continually decrease time identify diagnose resolve issues- learn share new development web operation infrastructure automation email deliverywhat need position- 2+ year experience- experience virtualized cloud environment- configuration management experiencewhat 's you- highly competitive salary 85k-120k- relocation assistance ! - great benefit ! - catered tech talks- game night ! - flexible schedulingso platform/devops engineer looking work one boston 's leading company apply ! applicant must authorized work u.s.please apply directly clicking 'click apply ' word resume ! looking forward receiving resume going position detail you.- fit position ? click link bottom email search open positions.looking forward receiving resume ! cybercoderscybercoders inc proud equal opportunity employerall qualified applicant receive consideration employment without regard race color religion sex national origin disability protected veteran status characteristic protected law.your right work - compliance federal law person hired required verify identity eligibility work united state complete required employment eligibility verification document form upon hire.copyright © 1999 - 2017 . cybercoders inc. right reserved . java configuration management aws - java configuration management aws, User Desc: kotlinphp mysqlpostgresqlredissqlite amazon web service ( aws ) ovh laravelsymfony ktorrabbitmqspring framework composerdockernpmyarn intellij ideaphpstorm ubuntu jira google meetslack chatgpt\n",
      "Top 1 Score: 0.6350196097229882, Job Desc: php developer job descriptionour client looking php developer digital application group . person involve building next generation client 's mobile desktop application aws cloud . must experience phpunit phockito well.must experience mysql familiar trigger stored procedure well experience optimizing queries.must experience least one responsive ui framework reactjs angularjs emberjs.must experience open source tools/frameworks agile process jenkins maven mockito rest-assured cucumber jmeter.exposure amazon cloud service ( aws ) programming language python r scala nosql database dynamodb cassandra considered plus . php aws nosql mongo dynamodb mysql angularjs reactjs emberjs, User Desc: kotlinphp mysqlpostgresqlredissqlite amazon web service ( aws ) ovh laravelsymfony ktorrabbitmqspring framework composerdockernpmyarn intellij ideaphpstorm ubuntu jira google meetslack chatgpt\n",
      "Top 2 Score: 0.5296843085277683, Job Desc: platform engineer - aws devops php minimum required skill : java configuration management awswe leading digital agency transforming top brand nonprofit campaign around world digital age . airbnb google unicef mit ford team usa help grow community build platform transform brand cause engage important people.top reason work us1 . work alongside creative professional industry ! 2 . promote within3 . amazing company culture atmosphere ! doing- provide reliable highly-available web infrastructure serf mission-critical sites- provide input design architecture systems- manage contribute email delivery infrastructure - build tool make client service qa analytics production team efficient - continually decrease time identify diagnose resolve issues- learn share new development web operation infrastructure automation email deliverywhat need position- 2+ year experience- experience virtualized cloud environment- configuration management experiencewhat 's you- highly competitive salary 85k-120k- relocation assistance ! - great benefit ! - catered tech talks- game night ! - flexible schedulingso platform/devops engineer looking work one boston 's leading company apply ! applicant must authorized work u.s.please apply directly clicking 'click apply ' word resume ! looking forward receiving resume going position detail you.- fit position ? click link bottom email search open positions.looking forward receiving resume ! cybercoderscybercoders inc proud equal opportunity employerall qualified applicant receive consideration employment without regard race color religion sex national origin disability protected veteran status characteristic protected law.your right work - compliance federal law person hired required verify identity eligibility work united state complete required employment eligibility verification document form upon hire.copyright © 1999 - 2017 . cybercoders inc. right reserved . java configuration management aws - java configuration management aws, User Desc: kotlinphp mysqlpostgresqlredissqlite amazon web service ( aws ) ovh laravelsymfony ktorrabbitmqspring framework composerdockernpmyarn intellij ideaphpstorm ubuntu jira google meetslack chatgpt\n",
      "Top 1 Score: 0.6310751242290228, Job Desc: sr. bigdata developer java exp - lowell job title : sr. bigdata developer java explocation : lowell maduration : 12+ month job descriptionas senior software engineer help designing developing client ’ next generation service assurance application aws platform . positon serf expert bigdata cloud enabling application monitoring client ’ new next generation wireline network . position requires good communication skill ability work together cross functional technical team organization . strong hand programming ability deep knowledge system architecture functional programming object oriented programming concept . candidate responsible developing new capability application leveraging bigdata processing technology like hadoop kafka spark cassandra integrating existing application architecture . application mix legacy migration new development . resultant cloud enabled application deployed client ’ private cloud well aws ( amazon ) public cloud . qualificationsbachelor ’ degree plus 10+ year experience computer science related field.8+ year software development experience distributed system building large scale applications.8+ year experience core java python junit6+ year experience database sql5+ year experience webservices development using soap / rest4+ year experience bigdata technology & component / framework ( hadoop hbase mapreduce hdfs pig hive sqoop flume oozie yarn ) 3+ strong hands-on development experience micro-services stack ci/cd3+ year experience ability support assessment phase evaluate design code build / deployment etc . relating micro services3+ year experience agile methodology3+ year experience devops git/stash jira jenkinsstrong communication collaboration skillsentrepreneurial drive demonstrated ability achieve stretch goal innovative fast-paced environmentexcellent problem solving analytical skill bonus point : telecom network domain knowledge experience networking protocol tl1 snmp etc . strong plusexperience nosql store ( e.g . mongodb postgresql ) experience search/analytics tool ( e.g . elastic search solr ) experience working large data set thanks & regard jana infovision inc. winner inc 500 deloitte fast 500 mbn 100800 e. campbell rd suite 388 richardson tx 75081tel : 972 427 1948 fax : 972-234-5732email : jana @ infovision.comweb : www.infovision.com sr. bigdata developer java exp, User Desc: javapythonsql bigquerypostgresqlredis amazon web service ( aws ) google cloud fastapispring boot apache kafkaapache sparkquarkusspring framework dockermaven ( build tool ) pip intellij ideapycharmvisual studio code arch confluencejira\n",
      "Top 2 Score: 0.5890671012105584, Job Desc: python developer aws ’ looking career transforms inspires challenge reward come join u ! verisk analytics global supplier risk assessment service decision analytics customer variety market including insurance healthcare financial service supply chain others . ’ thriving public company solid revenue growth earnings office worldwide . ’ continually looking way augment existing market expand new market excellent growth potential . verisk ’ part organization ’ committed serving long-term interest stakeholder including community operate.requirements : • conceptual knowledge broad cloud computing architecture general aws particular . must understand cloud networking shared security model.• two year hand experience various aws service vpc security group network acl ’ ec2 eb s3 glacier rds cloud formation etc.• experience architecting cloud infrastructure amazon web service ( aws ) small medium scale enterprise level applications• two year programming experience language python java required• knowledge devops concept highly recommended.• experience automation technology chef puppet ansible saltstack desirable experience chef ideal • certification aws including solution architect developer sysops administrator devops engineer highly desirable• look self-starter eager learn new technologiesresponsibilities : • work collaboratively project team implement technology direction vision strategy enable cloud technology adoption• develop aws script python cloud formation json others needed• develop cookbook chef managing operation info security application-level code configurations• assist infrastructure operation engineering team deployment cloud based service providers• assist development team cloud migrations• assist dba team cloud migrations• assist ensuring cloud based system aligned architectural guidelines• implement existing aws emerging cloud technology best fit business needs• support development new standard stated direction guidelines• implement resilient scalable enterprise-class solution cloud infrastructureswe offering excellent compensation package . competitive benefit package includes full health care option 401 ( k ) plan generous paid-time-off.if opportunity look exciting challenging please click submit apply . aws service vpc security group network acls ec2 eb s3 glacier rds cloud formation, User Desc: javapythonsql bigquerypostgresqlredis amazon web service ( aws ) google cloud fastapispring boot apache kafkaapache sparkquarkusspring framework dockermaven ( build tool ) pip intellij ideapycharmvisual studio code arch confluencejira\n",
      "Top 1 Score: 0.6288761952946105, Job Desc: .net developer angularjs location : tampaflduration : 1 year possible extensionworking combo web appsmust analytical - head developmentno remote - agile environment scrum stand meetingsmust skype interview - see everyone hire . technical stack : asp.netmvc 5entity frameworkweb api 2angular j javascriptunit testing ( m test preferred ) dependency injectionoracle ( preferred ) .net expert level angular j, User Desc: angularangularjsasp.net corefastapi visual studio solution visual studiovisual studio code window clickupjira microsoft team\n",
      "Top 2 Score: 0.5148671835582623, Job Desc: .net angularjs developer immediate direct manager position midtownny.face face mustour client seeking .net developer . location : new york nyposition type : full time must : -angular javascrpitlike : -node.js-sql database backendplease send resume contact detail visa status.sathya jayabalantechnical recruitermitchell martin inc. phone : 646-300-7041fax : 646-355-0229sjayabalan @ itmmi.com .net angularjs developer, User Desc: angularangularjsasp.net corefastapi visual studio solution visual studiovisual studio code window clickupjira microsoft team\n",
      "Top 1 Score: 0.6220248395075859, Job Desc: c # / asp.net sw engineer window service object information servics assisting great client contract contract hire role ! please reveiw let know good fit ! primary vendor client ! email : lori @ objectinformation.commust window service batch processing - required : • asp.net 4.x mvc webapi• ado.net • c # .net framework 4.0+ • javascript ( legacy version latest version like ecma script 6 plus ) • css3 le sass• html5• http• json• rest services• enterprise level application • linq • t-sql sql server 2008+ • wcf • window service batch processing • xml – configuration• package manager : nuget npm bower/jspm preferred / nice : • visual studio 2015 asp.net 5• spa ( single page apps ) • transpilers like typescript coffeescript babel• web sockets• servicestack• task runner : grunt / gulp• nodejs• bootstrap foundation• aurelia angular reactjs knockout• jquery• application performance code & sql . • entity framework 4.0+ • globalization / international applications• sql service broker similar messaging technology• team work – dev ba ’ webmaster dba ’ • tfs – code & sql ( dbpro / ssdt ) . • tpl / multithreaded • wpf/xaml/silverlight • xsd/xslt/xsl-fo wpf window service tfs sql service broker, User Desc: c # html/cssjavascripttypescriptvisual basic ( .net ) microsoft sql serversqlite amazon web service ( aws ) angularangularjsasp.netasp.net core .net ( 5+ ) .net framework ( 1.0 - 4.8 ) notepad++visual studiovisual studio code ubuntuwindowswindows subsystem linux ( wsl ) jira microsoft teamsskype\n",
      "Top 2 Score: 0.6105396768630968, Job Desc: .net developer angularjs location : tampaflduration : 1 year possible extensionworking combo web appsmust analytical - head developmentno remote - agile environment scrum stand meetingsmust skype interview - see everyone hire . technical stack : asp.netmvc 5entity frameworkweb api 2angular j javascriptunit testing ( m test preferred ) dependency injectionoracle ( preferred ) .net expert level angular j, User Desc: c # html/cssjavascripttypescriptvisual basic ( .net ) microsoft sql serversqlite amazon web service ( aws ) angularangularjsasp.netasp.net core .net ( 5+ ) .net framework ( 1.0 - 4.8 ) notepad++visual studiovisual studio code ubuntuwindowswindows subsystem linux ( wsl ) jira microsoft teamsskype\n",
      "Top 1 Score: 0.6218228210094235, Job Desc: c # / asp.net sw engineer window service object information servics assisting great client contract contract hire role ! please reveiw let know good fit ! primary vendor client ! email : lori @ objectinformation.commust window service batch processing - required : • asp.net 4.x mvc webapi• ado.net • c # .net framework 4.0+ • javascript ( legacy version latest version like ecma script 6 plus ) • css3 le sass• html5• http• json• rest services• enterprise level application • linq • t-sql sql server 2008+ • wcf • window service batch processing • xml – configuration• package manager : nuget npm bower/jspm preferred / nice : • visual studio 2015 asp.net 5• spa ( single page apps ) • transpilers like typescript coffeescript babel• web sockets• servicestack• task runner : grunt / gulp• nodejs• bootstrap foundation• aurelia angular reactjs knockout• jquery• application performance code & sql . • entity framework 4.0+ • globalization / international applications• sql service broker similar messaging technology• team work – dev ba ’ webmaster dba ’ • tfs – code & sql ( dbpro / ssdt ) . • tpl / multithreaded • wpf/xaml/silverlight • xsd/xslt/xsl-fo wpf window service tfs sql service broker, User Desc: apexhtml/cssjavajavascriptrsqltypescript elasticsearchfirebase realtime databasemicrosoft sql serveroracle amazon web service ( aws ) cloudflaregoogle cloudibm cloud watsonmanaged hostingmicrosoft azureoracle cloud infrastructure ( oci ) angularjsasp.netasp.net coreblazorexpressnestjsnext.jsnode.jsreactwordpress .net ( 5+ ) .net framework ( 1.0 - 4.8 ) .net mauiapache kafkaapache sparkreact native dockermsbuildnpmnugetvisual studio solution notepad++visual studiovisual studio code window azure devopsnotion google chatgoogle meetmicrosoft teamsskypetelegramzoom chatgpt github copilot\n",
      "Top 2 Score: 0.6181264986621635, Job Desc: full stack java developer one greater boston ’ growing saas start-ups specializes bill material software established start-up hardware company looking java engineer add growing team . client allows hardware manufacturing company log application via cloud make change application user view anywhere world . ideal candidate experienced java development worked cloud-based saas product . interested working small team getting ground floor growing company working exciting new product apply ! responsibility : • working developing highly scalable application daily• building testing maintaining code base • add new feature product collaborating team design implementation features• participate weekly meeting progress applicationrequirements : • 3-7+ year java development experience• experience building client-facing java application • strong background javascript development• familiarity experience aws amazon cloud servicesdesired skill : • speak communicate effectively russian• experience building client-facing application angular.js• experience building personal project scala professional projectsbenefits : • medical vision dental insurance• pto including vacation time• equity company• free parking java javascript aws amazon web service angular.js scala, User Desc: apexhtml/cssjavajavascriptrsqltypescript elasticsearchfirebase realtime databasemicrosoft sql serveroracle amazon web service ( aws ) cloudflaregoogle cloudibm cloud watsonmanaged hostingmicrosoft azureoracle cloud infrastructure ( oci ) angularjsasp.netasp.net coreblazorexpressnestjsnext.jsnode.jsreactwordpress .net ( 5+ ) .net framework ( 1.0 - 4.8 ) .net mauiapache kafkaapache sparkreact native dockermsbuildnpmnugetvisual studio solution notepad++visual studiovisual studio code window azure devopsnotion google chatgoogle meetmicrosoft teamsskypetelegramzoom chatgpt github copilot\n",
      "Top 2 Score: 0.5834866280624624, Job Desc: python-engineer job title : python engineerlocation : midtown nycjob type : contractduration : long termcontact info : matt o'brien - mobrien @ techlink.com - 201-786-2415python engineer cloud aws puppet exp.key technology : • nginx haproxy apache wsgi• git gitflow• python web framework flask django• unit testing using framework unittest• understanding test automation tool selenium• apm tool newrelicinfrastructure : • aws : least 3+ years• docker : 1+ years• thorough understanding tcp ip http• understanding network security various encryption standards• able configure tune web servers• thorough understanding linux reasonable knowledge linux kernel• asic understanding puppet scm tool development language : • python : least 5 year experience• go : 1+ years• javasscript framework bootstrap angularjs• html5 templating frameworks• basic understanding bash scripting• must understanding modular application oop• boto sdk cloud tool terraform• json yaml rest framework python engineer cloud aws puppet exp ., User Desc: python amazon web service ( aws ) google cloud apache kafka dockerhomebrewkubernetespulumiterraform atomintellij ideasublime textvisual studio code macos confluencejira slackzoom\n",
      "Top 1 Score: 0.6201664370383289, Job Desc: python developer aws ’ looking career transforms inspires challenge reward come join u ! verisk analytics global supplier risk assessment service decision analytics customer variety market including insurance healthcare financial service supply chain others . ’ thriving public company solid revenue growth earnings office worldwide . ’ continually looking way augment existing market expand new market excellent growth potential . verisk ’ part organization ’ committed serving long-term interest stakeholder including community operate.requirements : • conceptual knowledge broad cloud computing architecture general aws particular . must understand cloud networking shared security model.• two year hand experience various aws service vpc security group network acl ’ ec2 eb s3 glacier rds cloud formation etc.• experience architecting cloud infrastructure amazon web service ( aws ) small medium scale enterprise level applications• two year programming experience language python java required• knowledge devops concept highly recommended.• experience automation technology chef puppet ansible saltstack desirable experience chef ideal • certification aws including solution architect developer sysops administrator devops engineer highly desirable• look self-starter eager learn new technologiesresponsibilities : • work collaboratively project team implement technology direction vision strategy enable cloud technology adoption• develop aws script python cloud formation json others needed• develop cookbook chef managing operation info security application-level code configurations• assist infrastructure operation engineering team deployment cloud based service providers• assist development team cloud migrations• assist dba team cloud migrations• assist ensuring cloud based system aligned architectural guidelines• implement existing aws emerging cloud technology best fit business needs• support development new standard stated direction guidelines• implement resilient scalable enterprise-class solution cloud infrastructureswe offering excellent compensation package . competitive benefit package includes full health care option 401 ( k ) plan generous paid-time-off.if opportunity look exciting challenging please click submit apply . aws service vpc security group network acls ec2 eb s3 glacier rds cloud formation, User Desc: python amazon web service ( aws ) google cloud apache kafka dockerhomebrewkubernetespulumiterraform atomintellij ideasublime textvisual studio code macos confluencejira slackzoom\n",
      "Top 1 Score: 0.6180844462593503, Job Desc: front end engineer client mobile game live streaming platform community . looking senior front-end engineer join growing team . experience modern j framework required . person must self-starter comfortable demand building evolving maintaining great user experience within stable high-availability infrastructure.challenges tackle service scale tb data million request per dayimplementing high-traffic chat servicegamifying streaming service engaging usersdata-driven ux designqualificationsmore 4 year experience software development roleat least 1 year deep experience angularjs ember reactextremely strong javascript skillsexcellent software architecture skill passion maintainable organized codeexperience grunt gulpexperience socket based web servicesexperience mysql/postgresqlstrong experience designing implementing highly-optimized web experience javascript angular, User Desc: darthtml/cssjavajavascriptkotlinphppythonrsqltypescript cloud firestoremariadbmicrosoft sql servermongodbmysqloraclepostgresqlredissqlite amazon web service ( aws ) cloudflaredigital oceanfirebasegoogle cloud laravelnestjsnext.jsreactspring bootsveltevue.jswordpress apache kafkaelectronflutteropenglrabbitmqreact nativespring framework dockergoogle testgradlekubernetes android studiovisual studio codewebstorm debianother linux-basedred hatubuntuwindowswindows subsystem linux ( wsl ) discordgoogle meetmicrosoft teamsskypeslacktelegramwhatsappzoom bing aichatgpt\n",
      "Top 2 Score: 0.6041899875125312, Job Desc: full stack java developer one greater boston ’ growing saas start-ups specializes bill material software established start-up hardware company looking java engineer add growing team . client allows hardware manufacturing company log application via cloud make change application user view anywhere world . ideal candidate experienced java development worked cloud-based saas product . interested working small team getting ground floor growing company working exciting new product apply ! responsibility : • working developing highly scalable application daily• building testing maintaining code base • add new feature product collaborating team design implementation features• participate weekly meeting progress applicationrequirements : • 3-7+ year java development experience• experience building client-facing java application • strong background javascript development• familiarity experience aws amazon cloud servicesdesired skill : • speak communicate effectively russian• experience building client-facing application angular.js• experience building personal project scala professional projectsbenefits : • medical vision dental insurance• pto including vacation time• equity company• free parking java javascript aws amazon web service angular.js scala, User Desc: darthtml/cssjavajavascriptkotlinphppythonrsqltypescript cloud firestoremariadbmicrosoft sql servermongodbmysqloraclepostgresqlredissqlite amazon web service ( aws ) cloudflaredigital oceanfirebasegoogle cloud laravelnestjsnext.jsreactspring bootsveltevue.jswordpress apache kafkaelectronflutteropenglrabbitmqreact nativespring framework dockergoogle testgradlekubernetes android studiovisual studio codewebstorm debianother linux-basedred hatubuntuwindowswindows subsystem linux ( wsl ) discordgoogle meetmicrosoft teamsskypeslacktelegramwhatsappzoom bing aichatgpt\n",
      "Top 1 Score: 0.6151718518331782, Job Desc: c # / asp.net sw engineer window service object information servics assisting great client contract contract hire role ! please reveiw let know good fit ! primary vendor client ! email : lori @ objectinformation.commust window service batch processing - required : • asp.net 4.x mvc webapi• ado.net • c # .net framework 4.0+ • javascript ( legacy version latest version like ecma script 6 plus ) • css3 le sass• html5• http• json• rest services• enterprise level application • linq • t-sql sql server 2008+ • wcf • window service batch processing • xml – configuration• package manager : nuget npm bower/jspm preferred / nice : • visual studio 2015 asp.net 5• spa ( single page apps ) • transpilers like typescript coffeescript babel• web sockets• servicestack• task runner : grunt / gulp• nodejs• bootstrap foundation• aurelia angular reactjs knockout• jquery• application performance code & sql . • entity framework 4.0+ • globalization / international applications• sql service broker similar messaging technology• team work – dev ba ’ webmaster dba ’ • tfs – code & sql ( dbpro / ssdt ) . • tpl / multithreaded • wpf/xaml/silverlight • xsd/xslt/xsl-fo wpf window service tfs sql service broker, User Desc: c # html/cssjavascriptsqltypescript microsoft sql serveroracle amazon web service ( aws ) google cloudmicrosoft azureoracle cloud infrastructure ( oci ) asp.netasp.net coreblazorjquerynext.jsnode.jsreact .net ( 5+ ) .net framework ( 1.0 - 4.8 ) .net mauiopenglreact native dockerkubernetesmsbuildnpmnugetunity 3dvisual studio solutionwebpack notepad++visual studiovisual studio code ioswindowswindows subsystem linux ( wsl ) microsoft plannerwikis discordmicrosoft teamszoom bing aichatgptgoogle bard aiwolframalpha\n",
      "Top 2 Score: 0.5555306060078047, Job Desc: full stack java developer one greater boston ’ growing saas start-ups specializes bill material software established start-up hardware company looking java engineer add growing team . client allows hardware manufacturing company log application via cloud make change application user view anywhere world . ideal candidate experienced java development worked cloud-based saas product . interested working small team getting ground floor growing company working exciting new product apply ! responsibility : • working developing highly scalable application daily• building testing maintaining code base • add new feature product collaborating team design implementation features• participate weekly meeting progress applicationrequirements : • 3-7+ year java development experience• experience building client-facing java application • strong background javascript development• familiarity experience aws amazon cloud servicesdesired skill : • speak communicate effectively russian• experience building client-facing application angular.js• experience building personal project scala professional projectsbenefits : • medical vision dental insurance• pto including vacation time• equity company• free parking java javascript aws amazon web service angular.js scala, User Desc: c # html/cssjavascriptsqltypescript microsoft sql serveroracle amazon web service ( aws ) google cloudmicrosoft azureoracle cloud infrastructure ( oci ) asp.netasp.net coreblazorjquerynext.jsnode.jsreact .net ( 5+ ) .net framework ( 1.0 - 4.8 ) .net mauiopenglreact native dockerkubernetesmsbuildnpmnugetunity 3dvisual studio solutionwebpack notepad++visual studiovisual studio code ioswindowswindows subsystem linux ( wsl ) microsoft plannerwikis discordmicrosoft teamszoom bing aichatgptgoogle bard aiwolframalpha\n",
      "Top 1 Score: 0.612866585291409, Job Desc: php developer job descriptionour client looking php developer digital application group . person involve building next generation client 's mobile desktop application aws cloud . must experience phpunit phockito well.must experience mysql familiar trigger stored procedure well experience optimizing queries.must experience least one responsive ui framework reactjs angularjs emberjs.must experience open source tools/frameworks agile process jenkins maven mockito rest-assured cucumber jmeter.exposure amazon cloud service ( aws ) programming language python r scala nosql database dynamodb cassandra considered plus . php aws nosql mongo dynamodb mysql angularjs reactjs emberjs, User Desc: phpsqltypescript firebase realtime databasemysqlpostgresql amazon web service ( aws ) firebaserendervultr laravelnode.jssymfonyvue.js visual studio code iosmacos trello google meet chatgpt github copilot\n",
      "Top 2 Score: 0.45853086775946045, Job Desc: php developer @ sfo ca hi looking * php developerrole : php developerlocation : sfo castart date : asap duration : long term primary skill : * php * rest api & soap * apachesecondary skill * oops concept * mysql * javascript - yui * mvc achitechtureregards bhupendra pandey * technical support managerness digital engineeringa division ness technologies1000 town center way suite 210 canonsburg pa 15317 tel : +1 724.514.4213 bhupendra.pandey @ ness.com | www.ness.com| linkedin.com | facebook.com php rest api & soap, User Desc: phpsqltypescript firebase realtime databasemysqlpostgresql amazon web service ( aws ) firebaserendervultr laravelnode.jssymfonyvue.js visual studio code iosmacos trello google meet chatgpt github copilot\n"
     ]
    }
   ],
   "source": [
    "'''\n",
    "for i in range(10):\n",
    "   top1_score = sorted_user[\"top1_score\"][i]\n",
    "   top2_score = sorted_user[\"top2_score\"][i]\n",
    "   top1_id = sorted_user[\"top1_id\"][i]\n",
    "   top2_id = sorted_user[\"top2_id\"][i]\n",
    "   text = sorted_user[\"processed_text\"][i]\n",
    "\n",
    "   for row_num, row in sample_1_job.iterrows():\n",
    "      j = 0\n",
    "      if row[\"uniq_id\"] == top1_id:\n",
    "         job_text1 = row[\"processed_text\"]\n",
    "         print(f\"Top 1 Score: {top1_score}, Job Desc: {job_text1}, User Desc: {text}\")\n",
    "         j += 1\n",
    "      elif row[\"uniq_id\"] == top2_id:\n",
    "         job_text2 = row[\"processed_text\"]\n",
    "         print(f\"Top 2 Score: {top2_score}, Job Desc: {job_text2}, User Desc: {text}\")\n",
    "         j += 1\n",
    "      if j == 2:\n",
    "         break\n",
    "'''"
   ]
  },
  {
   "cell_type": "code",
   "execution_count": 11,
   "metadata": {},
   "outputs": [
    {
     "name": "stdout",
     "output_type": "stream",
     "text": [
      "Python Developer, AWS If you’re looking for a career that transforms, inspires, challenges, and rewards you, then come join us! Verisk Analytics is a global supplier of risk assessment services and decision analytics for customers in a variety of markets, including insurance, healthcare, financial services, supply chain, and others. We’re a thriving public company with solid revenue growth and earnings and offices worldwide. And we’re continually looking for ways to augment our existing markets and expand into new markets with excellent growth potential. At Verisk, you’ll be part of an organization that’s committed to serving the long-term interests of our stakeholders, including the communities where we operate.Requirements:• Conceptual knowledge of broad cloud computing architectures in general, and AWS in particular. Must understand cloud networking and the shared security model.• Two years of hands on experience with various AWS services such as VPC, Security Groups, Network ACL’s, EC2, EBS, S3, Glacier, RDS, Cloud Formations, etc.• Experience architecting cloud infrastructures on Amazon Web Services (AWS) for small, medium scale and enterprise level applications• Two years of programming experience in languages such as Python or Java is required• Knowledge of DevOps concepts is highly recommended.• Experience with automation technologies such as Chef, Puppet, Ansible, and SaltStack is desirable; experience with Chef is ideal • Certifications on AWS including Solutions Architect, Developer, SysOps Administrator, or DevOps Engineer are highly desirable• Look for a self-starter who is eager to learn new technologiesResponsibilities:• Work collaboratively with project teams to implement the technology direction, vision, and strategy to enable Cloud technology adoption• Develop AWS scripts in Python, Cloud Formation JSON, and others as needed• Develop cookbooks in Chef for managing operations, info security, and application-level code and configurations• Assist infrastructure operations and engineering teams in deployment of cloud based service providers• Assist development teams with cloud migrations• Assist DBA teams with cloud migrations• Assist in ensuring that cloud based systems are aligned to architectural guidelines• Implement existing AWS and emerging cloud technologies that best fit business needs• Support development of new standards, stated directions, and guidelines• Implement resilient, scalable, enterprise-class solutions in cloud infrastructuresWe are offering an excellent compensation package. Our competitive benefits package includes full health care options, a 401(k) plan, and generous Paid-Time-Off.If this opportunity looks exciting and challenging to you, please click Submit Now to apply. AWS services, VPC, Security Groups, Network ACLs, EC2, EBS, S3, Glacier, RDS, Cloud Formations\n",
      "Rust;Solidity;TypeScript Amazon Web Services (AWS);Digital Ocean;Scaleway Express;Next.js;Node.js;React Docker;Homebrew;npm;Yarn DataGrip;WebStorm MacOS Notion Google Meet;Slack;Zoom ChatGPT GitHub Copilot;Synk Code\n"
     ]
    }
   ],
   "source": [
    "value = sample_1_job.loc[sample_1_job['uniq_id'] == '3a087ce73ab876633f799ae6e94e0023', \"Job_Features_Merged\"].iloc[0]\n",
    "print(value)\n",
    "print(sample_1_user['Tech_Features_Merged'][0])"
   ]
  }
 ],
 "metadata": {
  "kernelspec": {
   "display_name": "Python 3",
   "language": "python",
   "name": "python3"
  },
  "language_info": {
   "codemirror_mode": {
    "name": "ipython",
    "version": 3
   },
   "file_extension": ".py",
   "mimetype": "text/x-python",
   "name": "python",
   "nbconvert_exporter": "python",
   "pygments_lexer": "ipython3",
   "version": "3.11.4"
  }
 },
 "nbformat": 4,
 "nbformat_minor": 2
}
