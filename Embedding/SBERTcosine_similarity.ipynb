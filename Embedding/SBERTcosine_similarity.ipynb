{
 "cells": [
  {
   "cell_type": "markdown",
   "metadata": {},
   "source": [
    "# Loop 20 times to geneerate user subsamples\n",
    "\n",
    "- Run once to get 20 user subsamples with each 2000 rows\n",
    "- Each user has labels with two courses with top 2 highest similarity Score\n",
    "- Each user has labels with two courses with bottom 2 highest similarity Score\n"
   ]
  },
  {
   "cell_type": "code",
   "execution_count": 57,
   "metadata": {},
   "outputs": [],
   "source": [
    "import pandas as pd\n",
    "import numpy as np\n",
    "from sklearn.metrics.pairwise import cosine_similarity\n",
    "\n",
    "def convert_str_to_array(embed_str):\n",
    "        embed_str = embed_str[1:-1]\n",
    "        str_nums = embed_str.strip().split()\n",
    "        return np.array([float(num) for num in str_nums if num], dtype=float)\n",
    "\n",
    "for j in range(20):\n",
    "\n",
    "    # Loop below code 20 times to get 20 different samples\n",
    "    job_df = pd.read_csv(\"embedded_jobs_IdEncoded.csv\")\n",
    "    user_df = pd.read_csv(\"embedded_users_IdEncoded.csv\")\n",
    "\n",
    "    user_df['user_embeddings'] = user_df['user_embeddings'].apply(convert_str_to_array)\n",
    "    job_df['job_embeddings'] = job_df['job_embeddings'].apply(convert_str_to_array)\n",
    "\n",
    "    seed = j # Set seed to get reproducible results\n",
    "    sample_1_user = user_df.sample(n=2000, replace=True, random_state=seed).reset_index(drop=True)\n",
    "    sample_1_job = job_df.sample(n=2000, replace=True, random_state=seed).reset_index(drop=True)\n",
    "\n",
    "    user_embeddings = np.stack(sample_1_user['user_embeddings'].values)\n",
    "    job_embeddings = np.stack(sample_1_job['job_embeddings'].values)\n",
    "\n",
    "    similarity_matrix = cosine_similarity(user_embeddings, job_embeddings)\n",
    "\n",
    "    for label in ['top1_id', 'top1_score', 'top2_id', 'top2_score', 'bottom1_id', 'bottom1_score', 'bottom2_id', 'bottom2_score']:\n",
    "        sample_1_user[label] = None\n",
    "\n",
    "    # Iterate through each user to find top 2 and bottom 2 jobs based on similarity\n",
    "    for i, similarities in enumerate(similarity_matrix):\n",
    "        # Get indices of jobs sorted by similarity for this user\n",
    "        sorted_indices = np.argsort(similarities)\n",
    "\n",
    "        # Top 2 - highest similarity scores\n",
    "        top_indices = sorted_indices[-2:][::-1]  # Reverse to have top1 before top2\n",
    "        sample_1_user.at[i, 'top1_id'], sample_1_user.at[i, 'top2_id'] = sample_1_job.iloc[top_indices]['JobId'].values\n",
    "        sample_1_user.at[i, 'top1_score'], sample_1_user.at[i, 'top2_score'] = similarities[top_indices]\n",
    "\n",
    "        # Bottom 2 - lowest similarity scores\n",
    "        bottom_indices = sorted_indices[:2]  # Already in ascending order\n",
    "        sample_1_user.at[i, 'bottom1_id'], sample_1_user.at[i, 'bottom2_id'] = sample_1_job.iloc[bottom_indices]['JobId'].values\n",
    "        sample_1_user.at[i, 'bottom1_score'], sample_1_user.at[i, 'bottom2_score'] = similarities[bottom_indices]\n",
    "\n",
    "\n",
    "        sorted_user = sample_1_user.sort_values(by = \"top1_score\", ascending=False).reset_index(drop = True)\n",
    "\n",
    "    # export sorted_user to csv\n",
    "    # Naming convention: UserWithLabel_{number}_{random_state}.csv\n",
    "    sorted_user.to_csv(\"User Samples/UserWithLabel_{}.csv\".format(j), index=False)"
   ]
  },
  {
   "cell_type": "markdown",
   "metadata": {},
   "source": [
    "# Step by Step"
   ]
  },
  {
   "cell_type": "code",
   "execution_count": 1,
   "metadata": {},
   "outputs": [],
   "source": [
    "import pandas as pd\n",
    "import numpy as np\n",
    "from sklearn.metrics.pairwise import cosine_similarity\n",
    "\n",
    "job_df = pd.read_csv(\"embedded_jobs_IdEncoded.csv\")\n",
    "user_df = pd.read_csv(\"embedded_users_IdEncoded.csv\")"
   ]
  },
  {
   "cell_type": "code",
   "execution_count": 6,
   "metadata": {},
   "outputs": [],
   "source": [
    "# 612.0\t2121.0\t9.431214e-01\n",
    "# check jobId 612.0 and userId 2121.0 row\n",
    "user_id = 612.0\n",
    "job_id = 2121.0\n",
    "job_df[job_df['JobId'] == job_id]\n",
    "# get  processed_text\n",
    "job_text = job_df[job_df['JobId'] == job_id]['processed_text'].values[0]"
   ]
  },
  {
   "cell_type": "code",
   "execution_count": 8,
   "metadata": {},
   "outputs": [
    {
     "name": "stdout",
     "output_type": "stream",
     "text": [
      "c # / asp.net sw engineer window service object information servics assisting great client contract contract hire role ! please reveiw let know good fit ! primary vendor client ! email : lori @ objectinformation.commust window service batch processing - required : • asp.net 4.x mvc webapi• ado.net • c # .net framework 4.0+ • javascript ( legacy version latest version like ecma script 6 plus ) • css3 le sass• html5• http• json• rest services• enterprise level application • linq • t-sql sql server 2008+ • wcf • window service batch processing • xml – configuration• package manager : nuget npm bower/jspm preferred / nice : • visual studio 2015 asp.net 5• spa ( single page apps ) • transpilers like typescript coffeescript babel• web sockets• servicestack• task runner : grunt / gulp• nodejs• bootstrap foundation• aurelia angular reactjs knockout• jquery• application performance code & sql . • entity framework 4.0+ • globalization / international applications• sql service broker similar messaging technology• team work – dev ba ’ webmaster dba ’ • tfs – code & sql ( dbpro / ssdt ) . • tpl / multithreaded • wpf/xaml/silverlight • xsd/xslt/xsl-fo wpf window service tfs sql service broker\n"
     ]
    }
   ],
   "source": [
    "print(job_text)"
   ]
  },
  {
   "cell_type": "code",
   "execution_count": 5,
   "metadata": {},
   "outputs": [
    {
     "data": {
      "text/html": [
       "<div>\n",
       "<style scoped>\n",
       "    .dataframe tbody tr th:only-of-type {\n",
       "        vertical-align: middle;\n",
       "    }\n",
       "\n",
       "    .dataframe tbody tr th {\n",
       "        vertical-align: top;\n",
       "    }\n",
       "\n",
       "    .dataframe thead th {\n",
       "        text-align: right;\n",
       "    }\n",
       "</style>\n",
       "<table border=\"1\" class=\"dataframe\">\n",
       "  <thead>\n",
       "    <tr style=\"text-align: right;\">\n",
       "      <th></th>\n",
       "      <th>UserId</th>\n",
       "      <th>Q120</th>\n",
       "      <th>MainBranch</th>\n",
       "      <th>Age</th>\n",
       "      <th>Employment</th>\n",
       "      <th>RemoteWork</th>\n",
       "      <th>CodingActivities</th>\n",
       "      <th>EdLevel</th>\n",
       "      <th>LearnCode</th>\n",
       "      <th>LearnCodeOnline</th>\n",
       "      <th>...</th>\n",
       "      <th>TimeSearching</th>\n",
       "      <th>TimeAnswering</th>\n",
       "      <th>ProfessionalTech</th>\n",
       "      <th>Industry</th>\n",
       "      <th>SurveyLength</th>\n",
       "      <th>SurveyEase</th>\n",
       "      <th>ConvertedCompYearly</th>\n",
       "      <th>Tech_Features_Merged</th>\n",
       "      <th>processed_text</th>\n",
       "      <th>user_embeddings</th>\n",
       "    </tr>\n",
       "  </thead>\n",
       "  <tbody>\n",
       "    <tr>\n",
       "      <th>612</th>\n",
       "      <td>612</td>\n",
       "      <td>I agree</td>\n",
       "      <td>I am a developer by profession</td>\n",
       "      <td>35-44 years old</td>\n",
       "      <td>Employed, full-time</td>\n",
       "      <td>Hybrid (some remote, some in-person)</td>\n",
       "      <td>I don’t code outside of work</td>\n",
       "      <td>Bachelor’s degree (B.A., B.S., B.Eng., etc.)</td>\n",
       "      <td>On the job training;Other online resources (e....</td>\n",
       "      <td>Formal documentation provided by the owner of ...</td>\n",
       "      <td>...</td>\n",
       "      <td>15-30 minutes a day</td>\n",
       "      <td>15-30 minutes a day</td>\n",
       "      <td>DevOps function</td>\n",
       "      <td>Higher Education</td>\n",
       "      <td>Appropriate in length</td>\n",
       "      <td>Easy</td>\n",
       "      <td>107000.0</td>\n",
       "      <td>C#;HTML/CSS;JavaScript;SQL Microsoft SQL Serve...</td>\n",
       "      <td>c # html/cssjavascriptsql microsoft sql server...</td>\n",
       "      <td>[-3.50331590e-02 -8.11742023e-02 -6.90628812e-...</td>\n",
       "    </tr>\n",
       "  </tbody>\n",
       "</table>\n",
       "<p>1 rows × 87 columns</p>\n",
       "</div>"
      ],
      "text/plain": [
       "     UserId     Q120                      MainBranch              Age  \\\n",
       "612     612  I agree  I am a developer by profession  35-44 years old   \n",
       "\n",
       "              Employment                            RemoteWork  \\\n",
       "612  Employed, full-time  Hybrid (some remote, some in-person)   \n",
       "\n",
       "                 CodingActivities  \\\n",
       "612  I don’t code outside of work   \n",
       "\n",
       "                                          EdLevel  \\\n",
       "612  Bachelor’s degree (B.A., B.S., B.Eng., etc.)   \n",
       "\n",
       "                                             LearnCode  \\\n",
       "612  On the job training;Other online resources (e....   \n",
       "\n",
       "                                       LearnCodeOnline  ...  \\\n",
       "612  Formal documentation provided by the owner of ...  ...   \n",
       "\n",
       "           TimeSearching        TimeAnswering ProfessionalTech  \\\n",
       "612  15-30 minutes a day  15-30 minutes a day  DevOps function   \n",
       "\n",
       "             Industry           SurveyLength SurveyEase ConvertedCompYearly  \\\n",
       "612  Higher Education  Appropriate in length       Easy            107000.0   \n",
       "\n",
       "                                  Tech_Features_Merged  \\\n",
       "612  C#;HTML/CSS;JavaScript;SQL Microsoft SQL Serve...   \n",
       "\n",
       "                                        processed_text  \\\n",
       "612  c # html/cssjavascriptsql microsoft sql server...   \n",
       "\n",
       "                                       user_embeddings  \n",
       "612  [-3.50331590e-02 -8.11742023e-02 -6.90628812e-...  \n",
       "\n",
       "[1 rows x 87 columns]"
      ]
     },
     "execution_count": 5,
     "metadata": {},
     "output_type": "execute_result"
    }
   ],
   "source": [
    "user_df[user_df['UserId'] == user_id]"
   ]
  },
  {
   "cell_type": "code",
   "execution_count": 41,
   "metadata": {},
   "outputs": [],
   "source": [
    "def convert_str_to_array(embed_str):\n",
    "    embed_str = embed_str[1:-1]\n",
    "    str_nums = embed_str.strip().split()\n",
    "    return np.array([float(num) for num in str_nums if num], dtype=float)\n",
    "\n",
    "user_df['user_embeddings'] = user_df['user_embeddings'].apply(convert_str_to_array)\n",
    "job_df['job_embeddings'] = job_df['job_embeddings'].apply(convert_str_to_array)"
   ]
  },
  {
   "cell_type": "markdown",
   "metadata": {},
   "source": [
    "change random state"
   ]
  },
  {
   "cell_type": "code",
   "execution_count": 42,
   "metadata": {},
   "outputs": [],
   "source": [
    "sample_1_user = user_df.sample(n=2000, replace=True, random_state=10).reset_index(drop=True)\n",
    "sample_1_job = job_df.sample(n=2000, replace=True, random_state=10).reset_index(drop=True)"
   ]
  },
  {
   "cell_type": "code",
   "execution_count": 43,
   "metadata": {},
   "outputs": [],
   "source": [
    "user_embeddings = np.stack(sample_1_user['user_embeddings'].values)\n",
    "job_embeddings = np.stack(sample_1_job['job_embeddings'].values)"
   ]
  },
  {
   "cell_type": "code",
   "execution_count": 44,
   "metadata": {},
   "outputs": [
    {
     "data": {
      "text/plain": [
       "array([[ 0.01907146, -0.00829974,  0.01026976, ...,  0.03162427,\n",
       "         0.00513665,  0.06053568],\n",
       "       [ 0.06041826,  0.07092373, -0.0728156 , ..., -0.0166954 ,\n",
       "         0.06578837,  0.05440273],\n",
       "       [-0.01116717, -0.07107158,  0.02084285, ...,  0.0690934 ,\n",
       "         0.02083637, -0.02229924],\n",
       "       [-0.02518902, -0.05464349, -0.06197032, ...,  0.02155872,\n",
       "         0.03550868,  0.04433848],\n",
       "       [-0.0093353 ,  0.01102138, -0.02440982, ...,  0.00815124,\n",
       "        -0.01781286,  0.01758946]])"
      ]
     },
     "execution_count": 44,
     "metadata": {},
     "output_type": "execute_result"
    }
   ],
   "source": [
    "user_embeddings.shape\n",
    "# print first 5 rows of user_embeddings\n",
    "user_embeddings[:5]"
   ]
  },
  {
   "cell_type": "code",
   "execution_count": 45,
   "metadata": {},
   "outputs": [],
   "source": [
    "similarity_matrix = cosine_similarity(user_embeddings, job_embeddings)"
   ]
  },
  {
   "cell_type": "code",
   "execution_count": 46,
   "metadata": {},
   "outputs": [
    {
     "data": {
      "text/plain": [
       "array([[ 0.17937348,  0.15273761,  0.31704955, ...,  0.10795576,\n",
       "        -0.01074025,  0.11513021],\n",
       "       [ 0.05742402,  0.07904482,  0.19574735, ...,  0.06015576,\n",
       "        -0.08150383,  0.01688816],\n",
       "       [ 0.28481567,  0.21558789,  0.28910754, ...,  0.11903735,\n",
       "         0.00852393,  0.30544184],\n",
       "       ...,\n",
       "       [ 0.00417474, -0.01543332,  0.24896393, ...,  0.05084219,\n",
       "         0.01065689, -0.06013272],\n",
       "       [ 0.21396519,  0.29651304,  0.3797948 , ...,  0.2394706 ,\n",
       "         0.07938975,  0.16682029],\n",
       "       [ 0.06478971,  0.15015662,  0.17746876, ...,  0.09444445,\n",
       "         0.09266419,  0.12881098]])"
      ]
     },
     "execution_count": 46,
     "metadata": {},
     "output_type": "execute_result"
    }
   ],
   "source": [
    "similarity_matrix"
   ]
  },
  {
   "cell_type": "code",
   "execution_count": 48,
   "metadata": {},
   "outputs": [],
   "source": [
    "for label in ['top1_id', 'top1_score', 'top2_id', 'top2_score', 'bottom1_id', 'bottom1_score', 'bottom2_id', 'bottom2_score']:\n",
    "    sample_1_user[label] = None\n",
    "\n",
    "# Iterate through each user to find top 2 and bottom 2 jobs based on similarity\n",
    "for i, similarities in enumerate(similarity_matrix):\n",
    "    # Get indices of jobs sorted by similarity for this user\n",
    "    sorted_indices = np.argsort(similarities)\n",
    "\n",
    "    # Top 2 - highest similarity scores\n",
    "    top_indices = sorted_indices[-2:][::-1]  # Reverse to have top1 before top2\n",
    "    sample_1_user.at[i, 'top1_id'], sample_1_user.at[i, 'top2_id'] = sample_1_job.iloc[top_indices]['JobId'].values\n",
    "    sample_1_user.at[i, 'top1_score'], sample_1_user.at[i, 'top2_score'] = similarities[top_indices]\n",
    "\n",
    "    # Bottom 2 - lowest similarity scores\n",
    "    bottom_indices = sorted_indices[:2]  # Already in ascending order\n",
    "    sample_1_user.at[i, 'bottom1_id'], sample_1_user.at[i, 'bottom2_id'] = sample_1_job.iloc[bottom_indices]['JobId'].values\n",
    "    sample_1_user.at[i, 'bottom1_score'], sample_1_user.at[i, 'bottom2_score'] = similarities[bottom_indices]"
   ]
  },
  {
   "cell_type": "code",
   "execution_count": 49,
   "metadata": {},
   "outputs": [
    {
     "data": {
      "text/plain": [
       "[0.6470626271909341,\n",
       " 0.6381081393682041,\n",
       " 0.6354698306932636,\n",
       " 0.6317341422251666,\n",
       " 0.6313921487798048,\n",
       " 0.6093074748454339,\n",
       " 0.6082848621224705,\n",
       " 0.6080725406255236,\n",
       " 0.6060513650397545,\n",
       " 0.6054078349199901]"
      ]
     },
     "execution_count": 49,
     "metadata": {},
     "output_type": "execute_result"
    }
   ],
   "source": [
    "sorted(sample_1_user[\"top1_score\"], reverse=True)[:10]"
   ]
  },
  {
   "cell_type": "code",
   "execution_count": 50,
   "metadata": {},
   "outputs": [],
   "source": [
    "sorted_user = sample_1_user.sort_values(by = \"top1_score\", ascending=False).reset_index(drop = True)"
   ]
  },
  {
   "cell_type": "markdown",
   "metadata": {},
   "source": [
    "Export sorted_user to csv"
   ]
  },
  {
   "cell_type": "code",
   "execution_count": 51,
   "metadata": {},
   "outputs": [],
   "source": [
    "# export sorted_user to csv\n",
    "# Naming convention: UserWithLabel_{number}_{random_state}.csv\n",
    "sorted_user.to_csv(\"User Samples/UserWithLabel_1_10.csv\", index=False)"
   ]
  },
  {
   "cell_type": "code",
   "execution_count": null,
   "metadata": {},
   "outputs": [
    {
     "data": {
      "text/plain": [
       "'\\nfor i in range(10):\\n   top1_score = sorted_user[\"top1_score\"][i]\\n   top2_score = sorted_user[\"top2_score\"][i]\\n   top1_id = sorted_user[\"top1_id\"][i]\\n   top2_id = sorted_user[\"top2_id\"][i]\\n   text = sorted_user[\"processed_text\"][i]\\n\\n   for row_num, row in sample_1_job.iterrows():\\n      j = 0\\n      if row[\"uniq_id\"] == top1_id:\\n         job_text1 = row[\"processed_text\"]\\n         print(f\"Top 1 Score: {top1_score}, Job Desc: {job_text1}, User Desc: {text}\")\\n         j += 1\\n      elif row[\"uniq_id\"] == top2_id:\\n         job_text2 = row[\"processed_text\"]\\n         print(f\"Top 2 Score: {top2_score}, Job Desc: {job_text2}, User Desc: {text}\")\\n         j += 1\\n      if j == 2:\\n         break\\n'"
      ]
     },
     "execution_count": 78,
     "metadata": {},
     "output_type": "execute_result"
    }
   ],
   "source": [
    "'''\n",
    "for i in range(10):\n",
    "   top1_score = sorted_user[\"top1_score\"][i]\n",
    "   top2_score = sorted_user[\"top2_score\"][i]\n",
    "   top1_id = sorted_user[\"top1_id\"][i]\n",
    "   top2_id = sorted_user[\"top2_id\"][i]\n",
    "   text = sorted_user[\"processed_text\"][i]\n",
    "\n",
    "   for row_num, row in sample_1_job.iterrows():\n",
    "      j = 0\n",
    "      if row[\"uniq_id\"] == top1_id:\n",
    "         job_text1 = row[\"processed_text\"]\n",
    "         print(f\"Top 1 Score: {top1_score}, Job Desc: {job_text1}, User Desc: {text}\")\n",
    "         j += 1\n",
    "      elif row[\"uniq_id\"] == top2_id:\n",
    "         job_text2 = row[\"processed_text\"]\n",
    "         print(f\"Top 2 Score: {top2_score}, Job Desc: {job_text2}, User Desc: {text}\")\n",
    "         j += 1\n",
    "      if j == 2:\n",
    "         break\n",
    "'''"
   ]
  },
  {
   "cell_type": "code",
   "execution_count": null,
   "metadata": {},
   "outputs": [],
   "source": [
    "# value = sample_1_job.loc[sample_1_job['uniq_id'] == '3a087ce73ab876633f799ae6e94e0023', \"Job_Features_Merged\"].iloc[0]\n",
    "# print(value)\n",
    "# print(sample_1_user['Tech_Features_Merged'][0])"
   ]
  },
  {
   "cell_type": "code",
   "execution_count": 52,
   "metadata": {},
   "outputs": [],
   "source": [
    "sample = pd.read_csv(\"User Samples/UserWithLabel_1_10.csv\")"
   ]
  },
  {
   "cell_type": "code",
   "execution_count": 53,
   "metadata": {},
   "outputs": [
    {
     "data": {
      "text/html": [
       "<div>\n",
       "<style scoped>\n",
       "    .dataframe tbody tr th:only-of-type {\n",
       "        vertical-align: middle;\n",
       "    }\n",
       "\n",
       "    .dataframe tbody tr th {\n",
       "        vertical-align: top;\n",
       "    }\n",
       "\n",
       "    .dataframe thead th {\n",
       "        text-align: right;\n",
       "    }\n",
       "</style>\n",
       "<table border=\"1\" class=\"dataframe\">\n",
       "  <thead>\n",
       "    <tr style=\"text-align: right;\">\n",
       "      <th></th>\n",
       "      <th>UserId</th>\n",
       "      <th>Q120</th>\n",
       "      <th>MainBranch</th>\n",
       "      <th>Age</th>\n",
       "      <th>Employment</th>\n",
       "      <th>RemoteWork</th>\n",
       "      <th>CodingActivities</th>\n",
       "      <th>EdLevel</th>\n",
       "      <th>LearnCode</th>\n",
       "      <th>LearnCodeOnline</th>\n",
       "      <th>...</th>\n",
       "      <th>processed_text</th>\n",
       "      <th>user_embeddings</th>\n",
       "      <th>top1_id</th>\n",
       "      <th>top1_score</th>\n",
       "      <th>top2_id</th>\n",
       "      <th>top2_score</th>\n",
       "      <th>bottom1_id</th>\n",
       "      <th>bottom1_score</th>\n",
       "      <th>bottom2_id</th>\n",
       "      <th>bottom2_score</th>\n",
       "    </tr>\n",
       "  </thead>\n",
       "  <tbody>\n",
       "    <tr>\n",
       "      <th>0</th>\n",
       "      <td>28190</td>\n",
       "      <td>I agree</td>\n",
       "      <td>I am a developer by profession</td>\n",
       "      <td>35-44 years old</td>\n",
       "      <td>Employed, full-time</td>\n",
       "      <td>Remote</td>\n",
       "      <td>Professional development or self-paced learnin...</td>\n",
       "      <td>Some college/university study without earning ...</td>\n",
       "      <td>Online Courses or Certification;Other online r...</td>\n",
       "      <td>Formal documentation provided by the owner of ...</td>\n",
       "      <td>...</td>\n",
       "      <td>clojurematlabrust cassandramysql dockerkuberne...</td>\n",
       "      <td>[ 2.66014918e-04  4.04817984e-02 -5.81969786e-...</td>\n",
       "      <td>13709</td>\n",
       "      <td>0.647063</td>\n",
       "      <td>19691</td>\n",
       "      <td>0.590856</td>\n",
       "      <td>10922</td>\n",
       "      <td>-0.041791</td>\n",
       "      <td>5437</td>\n",
       "      <td>-0.040766</td>\n",
       "    </tr>\n",
       "    <tr>\n",
       "      <th>1</th>\n",
       "      <td>43341</td>\n",
       "      <td>I agree</td>\n",
       "      <td>I am a developer by profession</td>\n",
       "      <td>45-54 years old</td>\n",
       "      <td>Employed, full-time</td>\n",
       "      <td>In-person</td>\n",
       "      <td>Bootstrapping a business;Professional developm...</td>\n",
       "      <td>Bachelor’s degree (B.A., B.S., B.Eng., etc.)</td>\n",
       "      <td>Online Courses or Certification;Other online r...</td>\n",
       "      <td>Formal documentation provided by the owner of ...</td>\n",
       "      <td>...</td>\n",
       "      <td>javavba cassandracouch dbcouchbaseelasticsearc...</td>\n",
       "      <td>[ 4.82776798e-02  2.40340363e-02 -4.90590185e-...</td>\n",
       "      <td>19691</td>\n",
       "      <td>0.638108</td>\n",
       "      <td>13709</td>\n",
       "      <td>0.584382</td>\n",
       "      <td>3056</td>\n",
       "      <td>-0.030339</td>\n",
       "      <td>9811</td>\n",
       "      <td>0.017976</td>\n",
       "    </tr>\n",
       "    <tr>\n",
       "      <th>2</th>\n",
       "      <td>49101</td>\n",
       "      <td>I agree</td>\n",
       "      <td>I am a developer by profession</td>\n",
       "      <td>35-44 years old</td>\n",
       "      <td>Employed, full-time</td>\n",
       "      <td>Hybrid (some remote, some in-person)</td>\n",
       "      <td>Hobby</td>\n",
       "      <td>Bachelor’s degree (B.A., B.S., B.Eng., etc.)</td>\n",
       "      <td>Books / Physical media;Colleague;On the job tr...</td>\n",
       "      <td>Blogs with tips and tricks;Books;How-to videos...</td>\n",
       "      <td>...</td>\n",
       "      <td>c # pythonsql microsoft sql server amazon web ...</td>\n",
       "      <td>[-4.45472635e-02 -6.79084435e-02 -7.72617683e-...</td>\n",
       "      <td>13818</td>\n",
       "      <td>0.635470</td>\n",
       "      <td>10654</td>\n",
       "      <td>0.604364</td>\n",
       "      <td>3056</td>\n",
       "      <td>-0.017526</td>\n",
       "      <td>1694</td>\n",
       "      <td>-0.011122</td>\n",
       "    </tr>\n",
       "  </tbody>\n",
       "</table>\n",
       "<p>3 rows × 95 columns</p>\n",
       "</div>"
      ],
      "text/plain": [
       "   UserId     Q120                      MainBranch              Age  \\\n",
       "0   28190  I agree  I am a developer by profession  35-44 years old   \n",
       "1   43341  I agree  I am a developer by profession  45-54 years old   \n",
       "2   49101  I agree  I am a developer by profession  35-44 years old   \n",
       "\n",
       "            Employment                            RemoteWork  \\\n",
       "0  Employed, full-time                                Remote   \n",
       "1  Employed, full-time                             In-person   \n",
       "2  Employed, full-time  Hybrid (some remote, some in-person)   \n",
       "\n",
       "                                    CodingActivities  \\\n",
       "0  Professional development or self-paced learnin...   \n",
       "1  Bootstrapping a business;Professional developm...   \n",
       "2                                              Hobby   \n",
       "\n",
       "                                             EdLevel  \\\n",
       "0  Some college/university study without earning ...   \n",
       "1       Bachelor’s degree (B.A., B.S., B.Eng., etc.)   \n",
       "2       Bachelor’s degree (B.A., B.S., B.Eng., etc.)   \n",
       "\n",
       "                                           LearnCode  \\\n",
       "0  Online Courses or Certification;Other online r...   \n",
       "1  Online Courses or Certification;Other online r...   \n",
       "2  Books / Physical media;Colleague;On the job tr...   \n",
       "\n",
       "                                     LearnCodeOnline  ...  \\\n",
       "0  Formal documentation provided by the owner of ...  ...   \n",
       "1  Formal documentation provided by the owner of ...  ...   \n",
       "2  Blogs with tips and tricks;Books;How-to videos...  ...   \n",
       "\n",
       "                                      processed_text  \\\n",
       "0  clojurematlabrust cassandramysql dockerkuberne...   \n",
       "1  javavba cassandracouch dbcouchbaseelasticsearc...   \n",
       "2  c # pythonsql microsoft sql server amazon web ...   \n",
       "\n",
       "                                     user_embeddings top1_id top1_score  \\\n",
       "0  [ 2.66014918e-04  4.04817984e-02 -5.81969786e-...   13709   0.647063   \n",
       "1  [ 4.82776798e-02  2.40340363e-02 -4.90590185e-...   19691   0.638108   \n",
       "2  [-4.45472635e-02 -6.79084435e-02 -7.72617683e-...   13818   0.635470   \n",
       "\n",
       "  top2_id top2_score bottom1_id bottom1_score bottom2_id bottom2_score  \n",
       "0   19691   0.590856      10922     -0.041791       5437     -0.040766  \n",
       "1   13709   0.584382       3056     -0.030339       9811      0.017976  \n",
       "2   10654   0.604364       3056     -0.017526       1694     -0.011122  \n",
       "\n",
       "[3 rows x 95 columns]"
      ]
     },
     "execution_count": 53,
     "metadata": {},
     "output_type": "execute_result"
    }
   ],
   "source": [
    "sample.head(3)"
   ]
  }
 ],
 "metadata": {
  "kernelspec": {
   "display_name": "Python 3",
   "language": "python",
   "name": "python3"
  },
  "language_info": {
   "codemirror_mode": {
    "name": "ipython",
    "version": 3
   },
   "file_extension": ".py",
   "mimetype": "text/x-python",
   "name": "python",
   "nbconvert_exporter": "python",
   "pygments_lexer": "ipython3",
   "version": "3.12.0"
  }
 },
 "nbformat": 4,
 "nbformat_minor": 2
}
