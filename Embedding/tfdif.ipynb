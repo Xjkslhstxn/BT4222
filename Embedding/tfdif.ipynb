{
 "cells": [
  {
   "cell_type": "code",
   "execution_count": 1,
   "metadata": {},
   "outputs": [],
   "source": [
    "import numpy as np\n",
    "import matplotlib.pyplot as plt\n",
    "import pandas as pd\n",
    "import seaborn as sns\n",
    "### Natural Language Processing\n",
    "from sklearn.feature_extraction.text import TfidfVectorizer\n",
    "from sklearn.metrics.pairwise import cosine_similarity"
   ]
  },
  {
   "cell_type": "code",
   "execution_count": 2,
   "metadata": {},
   "outputs": [],
   "source": [
    "user_data = pd.read_csv(\"processed_users.csv\")\n",
    "job_data = pd.read_csv(\"processed_jobs.csv\")"
   ]
  },
  {
   "cell_type": "code",
   "execution_count": 3,
   "metadata": {},
   "outputs": [
    {
     "name": "stdout",
     "output_type": "stream",
     "text": [
      "(50000, 412)\n",
      "(22000, 412)\n"
     ]
    }
   ],
   "source": [
    "tfidf = TfidfVectorizer(stop_words=\"english\", max_features=412)\n",
    "tfidf_scores_user = tfidf.fit_transform(user_data[\"processed_text\"])\n",
    "print(tfidf_scores_user.shape)\n",
    "tfidf_scores_job = tfidf.fit_transform(job_data[\"processed_text\"])\n",
    "print(tfidf_scores_job.shape)"
   ]
  },
  {
   "cell_type": "code",
   "execution_count": 4,
   "metadata": {},
   "outputs": [
    {
     "name": "stdout",
     "output_type": "stream",
     "text": [
      "  (0, 270)\t0.29896684465454776\n",
      "  (0, 182)\t0.18761247975805795\n",
      "  (0, 162)\t0.2412128772892128\n",
      "  (0, 84)\t0.3656047259658325\n",
      "  (0, 120)\t0.46715632738385837\n",
      "  (0, 73)\t0.12351607935001294\n",
      "  (0, 361)\t0.1053707709406454\n",
      "  (0, 205)\t0.24169395998826512\n",
      "  (0, 167)\t0.32454052216383394\n",
      "  (0, 28)\t0.15518672716324416\n",
      "  (0, 350)\t0.15841787565339954\n",
      "  (0, 402)\t0.15841787565339954\n",
      "  (0, 14)\t0.15841787565339954\n",
      "  (0, 351)\t0.3709596936718242\n",
      "  (0, 40)\t0.19557723425470563\n",
      "[[0.02226211]]\n"
     ]
    },
    {
     "name": "stderr",
     "output_type": "stream",
     "text": [
      "C:\\Users\\User\\AppData\\Local\\Temp\\ipykernel_1780\\165045762.py:5: SettingWithCopyWarning: \n",
      "A value is trying to be set on a copy of a slice from a DataFrame\n",
      "\n",
      "See the caveats in the documentation: https://pandas.pydata.org/pandas-docs/stable/user_guide/indexing.html#returning-a-view-versus-a-copy\n",
      "  user_data[\"embedScore\"][i] = (tfidf_scores_user[i])\n",
      "C:\\Users\\User\\AppData\\Local\\Temp\\ipykernel_1780\\165045762.py:8: SettingWithCopyWarning: \n",
      "A value is trying to be set on a copy of a slice from a DataFrame\n",
      "\n",
      "See the caveats in the documentation: https://pandas.pydata.org/pandas-docs/stable/user_guide/indexing.html#returning-a-view-versus-a-copy\n",
      "  job_data[\"embedScore\"][i] = (tfidf_scores_job[i])\n"
     ]
    }
   ],
   "source": [
    "print((np.array(tfidf_scores_user[0])))\n",
    "print(cosine_similarity((tfidf_scores_job[0]), (tfidf_scores_user[50])))\n",
    "user_data[\"embedScore\"] = 0\n",
    "for i in range(tfidf_scores_user.shape[0]):\n",
    "    user_data[\"embedScore\"][i] = (tfidf_scores_user[i])\n",
    "job_data[\"embedScore\"] = 0\n",
    "for i in range(tfidf_scores_job.shape[0]):\n",
    "    job_data[\"embedScore\"][i] = (tfidf_scores_job[i])"
   ]
  },
  {
   "cell_type": "code",
   "execution_count": 5,
   "metadata": {},
   "outputs": [
    {
     "name": "stdout",
     "output_type": "stream",
     "text": [
      "<class 'numpy.ndarray'>\n"
     ]
    }
   ],
   "source": [
    "print(type(np.array(user_data[\"embedScore\"])))"
   ]
  },
  {
   "cell_type": "code",
   "execution_count": 6,
   "metadata": {},
   "outputs": [],
   "source": [
    "sample_1_user = user_data.sample(n=2000, replace=True, random_state=0).reset_index(drop=True)\n",
    "sample_1_job = job_data.sample(n=2000, replace=True, random_state=0).reset_index(drop=True)"
   ]
  },
  {
   "cell_type": "code",
   "execution_count": 7,
   "metadata": {},
   "outputs": [
    {
     "name": "stdout",
     "output_type": "stream",
     "text": [
      "(2000, 412)\n",
      "[[0.         0.         0.         ... 0.         0.         0.        ]\n",
      " [0.         0.         0.         ... 0.         0.         0.        ]\n",
      " [0.         0.         0.         ... 0.         0.         0.        ]\n",
      " ...\n",
      " [0.         0.         0.         ... 0.         0.21563854 0.        ]\n",
      " [0.         0.         0.         ... 0.         0.         0.        ]\n",
      " [0.         0.         0.         ... 0.         0.         0.        ]]\n"
     ]
    }
   ],
   "source": [
    "user_embeddings = np.stack([(embed.toarray())[0] for embed in sample_1_user['embedScore']])\n",
    "job_embeddings = np.stack([(embed.toarray())[0] for embed in sample_1_job['embedScore']])\n",
    "print(user_embeddings.shape)\n",
    "print(user_embeddings)"
   ]
  },
  {
   "cell_type": "code",
   "execution_count": 8,
   "metadata": {},
   "outputs": [
    {
     "name": "stdout",
     "output_type": "stream",
     "text": [
      "(50000, 412)\n",
      "[[0.         0.         0.         ... 0.         0.         0.        ]\n",
      " [0.         0.         0.         ... 0.         0.         0.        ]\n",
      " [0.         0.         0.         ... 0.         0.         0.        ]\n",
      " ...\n",
      " [0.         0.         0.         ... 0.         0.         0.        ]\n",
      " [0.         0.27807729 0.         ... 0.         0.         0.        ]\n",
      " [0.         0.         0.         ... 0.         0.13049072 0.        ]]\n"
     ]
    }
   ],
   "source": [
    "'''user_embeddings = np.stack([(embed.toarray())[0] for embed in user_data['embedScore']])\n",
    "job_embeddings = np.stack([(embed.toarray())[0] for embed in job_data['embedScore']])\n",
    "print(user_embeddings.shape)\n",
    "print(user_embeddings)'''"
   ]
  },
  {
   "cell_type": "code",
   "execution_count": 8,
   "metadata": {},
   "outputs": [],
   "source": [
    "similarity_matrix = cosine_similarity(user_embeddings, job_embeddings)"
   ]
  },
  {
   "cell_type": "code",
   "execution_count": 9,
   "metadata": {},
   "outputs": [
    {
     "name": "stdout",
     "output_type": "stream",
     "text": [
      "[[0.02188591 0.04523697 0.01302367 ... 0.06218721 0.05332512 0.05334182]\n",
      " [0.         0.         0.03214097 ... 0.         0.         0.        ]\n",
      " [0.03600192 0.01555996 0.05480425 ... 0.05045725 0.03368119 0.04096359]\n",
      " ...\n",
      " [0.         0.03559064 0.0404162  ... 0.06257632 0.02947435 0.09332763]\n",
      " [0.         0.02937003 0.0279402  ... 0.06752486 0.04798037 0.        ]\n",
      " [0.02712491 0.01718636 0.         ... 0.         0.02717231 0.        ]]\n"
     ]
    }
   ],
   "source": [
    "print(similarity_matrix)"
   ]
  },
  {
   "cell_type": "code",
   "execution_count": 10,
   "metadata": {},
   "outputs": [],
   "source": [
    "for label in ['top1_id', 'top1_score', 'top2_id', 'top2_score', 'bottom1_id', 'bottom1_score', 'bottom2_id', 'bottom2_score']:\n",
    "    user_data[label] = None\n",
    "\n",
    "# Iterate through each user to find top 2 and bottom 2 jobs based on similarity\n",
    "for i, similarities in enumerate(similarity_matrix):\n",
    "    # Get indices of jobs sorted by similarity for this user\n",
    "    sorted_indices = np.argsort(similarities)\n",
    "\n",
    "    # Top 2 - highest similarity scores\n",
    "    top_indices = sorted_indices[-2:][::-1]  # Reverse to have top1 before top2\n",
    "    user_data.at[i, 'top1_id'], user_data.at[i, 'top2_id'] = job_data.iloc[top_indices]['uniq_id'].values\n",
    "    user_data.at[i, 'top1_score'], user_data.at[i, 'top2_score'] = similarities[top_indices]\n",
    "\n",
    "    # Bottom 2 - lowest similarity scores\n",
    "    bottom_indices = sorted_indices[:2]  # Already in ascending order\n",
    "    user_data.at[i, 'bottom1_id'], user_data.at[i, 'bottom2_id'] = job_data.iloc[bottom_indices]['uniq_id'].values\n",
    "    user_data.at[i, 'bottom1_score'], user_data.at[i, 'bottom2_score'] = similarities[bottom_indices]\n"
   ]
  },
  {
   "cell_type": "code",
   "execution_count": 11,
   "metadata": {},
   "outputs": [
    {
     "name": "stdout",
     "output_type": "stream",
     "text": [
      "   ResponseId     Q120                      MainBranch                 Age  \\\n",
      "0       22607  I agree  I am a developer by profession     35-44 years old   \n",
      "1        5640  I agree  I am a developer by profession     25-34 years old   \n",
      "2        1154  I agree  I am a developer by profession     55-64 years old   \n",
      "3       76622  I agree           I am learning to code  Under 18 years old   \n",
      "4        8538  I agree  I am a developer by profession     35-44 years old   \n",
      "5        4560  I agree  I am a developer by profession     35-44 years old   \n",
      "6       33635  I agree  I am a developer by profession     18-24 years old   \n",
      "7       58490  I agree  I am a developer by profession     25-34 years old   \n",
      "8       16570  I agree  I am a developer by profession     35-44 years old   \n",
      "9       86356  I agree  I am a developer by profession     25-34 years old   \n",
      "\n",
      "                                          Employment  \\\n",
      "0                                Employed, full-time   \n",
      "1                                Employed, full-time   \n",
      "2  Independent contractor, freelancer, or self-em...   \n",
      "3                                 Student, full-time   \n",
      "4                                Employed, full-time   \n",
      "5                                Employed, full-time   \n",
      "6             Student, full-time;Employed, part-time   \n",
      "7  Independent contractor, freelancer, or self-em...   \n",
      "8  Independent contractor, freelancer, or self-em...   \n",
      "9                                Employed, full-time   \n",
      "\n",
      "                             RemoteWork  \\\n",
      "0  Hybrid (some remote, some in-person)   \n",
      "1                             In-person   \n",
      "2                                Remote   \n",
      "3                                   NaN   \n",
      "4                                Remote   \n",
      "5                                Remote   \n",
      "6  Hybrid (some remote, some in-person)   \n",
      "7                                Remote   \n",
      "8                                Remote   \n",
      "9  Hybrid (some remote, some in-person)   \n",
      "\n",
      "                                    CodingActivities  \\\n",
      "0                                              Hobby   \n",
      "1  Hobby;Professional development or self-paced l...   \n",
      "2                                              Hobby   \n",
      "3                                                NaN   \n",
      "4           Hobby;Contribute to open-source projects   \n",
      "5  Hobby;Professional development or self-paced l...   \n",
      "6                                              Hobby   \n",
      "7  Hobby;Bootstrapping a business;Freelance/contr...   \n",
      "8                                              Hobby   \n",
      "9  Professional development or self-paced learnin...   \n",
      "\n",
      "                                             EdLevel  \\\n",
      "0       Bachelor’s degree (B.A., B.S., B.Eng., etc.)   \n",
      "1       Bachelor’s degree (B.A., B.S., B.Eng., etc.)   \n",
      "2  Secondary school (e.g. American high school, G...   \n",
      "3                          Primary/elementary school   \n",
      "4                Associate degree (A.A., A.S., etc.)   \n",
      "5    Master’s degree (M.A., M.S., M.Eng., MBA, etc.)   \n",
      "6       Bachelor’s degree (B.A., B.S., B.Eng., etc.)   \n",
      "7  Some college/university study without earning ...   \n",
      "8  Some college/university study without earning ...   \n",
      "9       Bachelor’s degree (B.A., B.S., B.Eng., etc.)   \n",
      "\n",
      "                                           LearnCode  \\\n",
      "0  Books / Physical media;Online Courses or Certi...   \n",
      "1  Books / Physical media;Colleague;On the job tr...   \n",
      "2  Books / Physical media;Colleague;Other online ...   \n",
      "3  Online Courses or Certification;Other online r...   \n",
      "4  Books / Physical media;On the job training;Oth...   \n",
      "5  Online Courses or Certification;Other online r...   \n",
      "6  On the job training;Other online resources (e....   \n",
      "7  Other online resources (e.g., videos, blogs, f...   \n",
      "8  Books / Physical media;Colleague;Online Course...   \n",
      "9  On the job training;Other online resources (e....   \n",
      "\n",
      "                                     LearnCodeOnline  ...  \\\n",
      "0  Formal documentation provided by the owner of ...  ...   \n",
      "1  Blogs with tips and tricks;How-to videos;Writt...  ...   \n",
      "2  Formal documentation provided by the owner of ...  ...   \n",
      "3  Formal documentation provided by the owner of ...  ...   \n",
      "4  Formal documentation provided by the owner of ...  ...   \n",
      "5  How-to videos;Video-based Online Courses;Writt...  ...   \n",
      "6  Formal documentation provided by the owner of ...  ...   \n",
      "7  Formal documentation provided by the owner of ...  ...   \n",
      "8  Formal documentation provided by the owner of ...  ...   \n",
      "9  Formal documentation provided by the owner of ...  ...   \n",
      "\n",
      "                                      processed_text  \\\n",
      "0  bash/shell ( shell ) gophpsqltypescript elasti...   \n",
      "1  python dynamodbsnowflake amazon web service ( ...   \n",
      "2  assemblybash/shell ( shell ) lisppowershellpro...   \n",
      "3  cc # c++html/cssjavascriptphppythonrustsqltype...   \n",
      "4  bash/shell ( shell ) html/cssjavascriptpython ...   \n",
      "5  c++gopythonsql cassandraclickhousedynamodbmong...   \n",
      "6  c # c++gdscriptpythonrust mariadb .net ( 5+ ) ...   \n",
      "7  c # html/cssjavascriptphppythonrustsql mysqlpo...   \n",
      "8                                              macos   \n",
      "9  gojavakotlintypescript postgresqlredissolr nex...   \n",
      "\n",
      "                                          embedScore  \\\n",
      "0    (0, 270)\\t0.29896684465454776\\n  (0, 182)\\t0...   \n",
      "1    (0, 52)\\t0.2253614348372718\\n  (0, 131)\\t0.3...   \n",
      "2    (0, 392)\\t0.3894941193450359\\n  (0, 324)\\t0....   \n",
      "3    (0, 87)\\t0.19486628225930375\\n  (0, 137)\\t0....   \n",
      "4    (0, 410)\\t0.2357192426604043\\n  (0, 251)\\t0....   \n",
      "5    (0, 23)\\t0.5221358905862626\\n  (0, 83)\\t0.64...   \n",
      "6    (0, 411)\\t0.45890547180374774\\n  (0, 263)\\t0...   \n",
      "7    (0, 138)\\t0.4329109174040014\\n  (0, 179)\\t0....   \n",
      "8                                      (0, 252)\\t1.0   \n",
      "9    (0, 213)\\t0.3391820166248049\\n  (0, 196)\\t0....   \n",
      "\n",
      "                            top1_id top1_score  \\\n",
      "0  b94da5a7046d35757bd4164d4976302d   0.335268   \n",
      "1  30b92ce60b637b9d21351ea97d006e44    0.24844   \n",
      "2  1035e9851dbb04c72c3c9b77040d3deb   0.279409   \n",
      "3  92480912eab1f730484bf64a13da69ad   0.292586   \n",
      "4  8ac93f8b7d4c59489df52be06e364a60   0.530412   \n",
      "5  fe4d8816cae1d455653d3eff029d2c8e   0.273098   \n",
      "6  18ca3012a05ec78f282e26fcc57a8794   0.244935   \n",
      "7  d7e492936e2fb5251c5d3a7db924c643   0.421449   \n",
      "8  49b95a0bb453b909883acffc6004cec9   0.322315   \n",
      "9  ab7dbb823fac4d672a2809c72e5ee3e9   0.391215   \n",
      "\n",
      "                            top2_id top2_score  \\\n",
      "0  13b451ba77ba7e3a2546c5bd0b1baddf   0.262761   \n",
      "1  e88096adfa4d109ca064eb9679e70f73   0.236993   \n",
      "2  c3a92b16b7821c4433cfc21dcb0477eb   0.278175   \n",
      "3  ef6700a12409306685c7f12459926e9f   0.276237   \n",
      "4  a0d6e6f35dd02f411ab22443769769e4   0.401397   \n",
      "5  288dbadcdb9d908a6645602a5744f699    0.26594   \n",
      "6  7bb99088f0a78c85c2e813226fd2c9e2   0.233206   \n",
      "7  19b06553e1c171269a809e2f75270323   0.416443   \n",
      "8  e560a4a02db560043eace40b5215e6fd   0.251392   \n",
      "9  b1e1996275ffbee56126b7e986707a8b   0.335227   \n",
      "\n",
      "                         bottom1_id bottom1_score  \\\n",
      "0  b518b7b9e049c2dd6964259f3214fa65           0.0   \n",
      "1  418ff92580b270ef4e7c14f0ddfc36b4           0.0   \n",
      "2  85b2d90dba2dca9d5f9a4776b2e79573           0.0   \n",
      "3  418ff92580b270ef4e7c14f0ddfc36b4           0.0   \n",
      "4  418ff92580b270ef4e7c14f0ddfc36b4           0.0   \n",
      "5  418ff92580b270ef4e7c14f0ddfc36b4           0.0   \n",
      "6  94c59e9083b4dcd250d8cd07475e671e           0.0   \n",
      "7  cefe6029871ab14c478bbd91a4b1b940           0.0   \n",
      "8  418ff92580b270ef4e7c14f0ddfc36b4           0.0   \n",
      "9  aed0f251fbd3fc0aae269079fb84b975           0.0   \n",
      "\n",
      "                         bottom2_id bottom2_score  \n",
      "0  33a661996ba92df2df8c3059bd992f07           0.0  \n",
      "1  d8fbb5baf176162cb64c16c8ad22617b           0.0  \n",
      "2  e3cd231f363ff952d50371d05e3d72d9           0.0  \n",
      "3  a671bbf5067b2bdb706fcaaca40630e4           0.0  \n",
      "4  b0cbdf1817d09e4c93b00d5ebe9060cd           0.0  \n",
      "5  079105ac360e34c4bd013a9e7000591a           0.0  \n",
      "6  2f8cbebc4307c52ba121a8a82a56c63e           0.0  \n",
      "7  76170a1cb88975428acdb594ea344b9d           0.0  \n",
      "8  48e09618812c5156cc789101c8ce7c50           0.0  \n",
      "9  d974ebe06326878011786af69f8daaf5           0.0  \n",
      "\n",
      "[10 rows x 95 columns]\n"
     ]
    }
   ],
   "source": [
    "print(user_data.head(10))\n"
   ]
  }
 ],
 "metadata": {
  "kernelspec": {
   "display_name": "Python 3",
   "language": "python",
   "name": "python3"
  },
  "language_info": {
   "codemirror_mode": {
    "name": "ipython",
    "version": 3
   },
   "file_extension": ".py",
   "mimetype": "text/x-python",
   "name": "python",
   "nbconvert_exporter": "python",
   "pygments_lexer": "ipython3",
   "version": "3.10.6"
  }
 },
 "nbformat": 4,
 "nbformat_minor": 2
}
