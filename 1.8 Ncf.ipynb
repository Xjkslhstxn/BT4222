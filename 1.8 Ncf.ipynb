{
  "nbformat": 4,
  "nbformat_minor": 0,
  "metadata": {
    "colab": {
      "provenance": [],
      "include_colab_link": true
    },
    "kernelspec": {
      "name": "python3",
      "display_name": "Python 3"
    },
    "language_info": {
      "name": "python"
    }
  },
  "cells": [
    {
      "cell_type": "markdown",
      "metadata": {
        "id": "view-in-github",
        "colab_type": "text"
      },
      "source": [
        "<a href=\"https://colab.research.google.com/github/Xjkslhstxn/BT4222/blob/main/1.8%20Ncf.ipynb\" target=\"_parent\"><img src=\"https://colab.research.google.com/assets/colab-badge.svg\" alt=\"Open In Colab\"/></a>"
      ]
    },
    {
      "cell_type": "markdown",
      "source": [
        "## Neural Collaborative Filtering And MLP\n"
      ],
      "metadata": {
        "id": "BaxCmFL1iq_O"
      }
    },
    {
      "cell_type": "markdown",
      "source": [
        "### Setting up the environment (~4mins)\n"
      ],
      "metadata": {
        "id": "xSJsEA9ZNduh"
      }
    },
    {
      "cell_type": "code",
      "execution_count": null,
      "metadata": {
        "id": "DczE5pqyNSe9",
        "colab": {
          "base_uri": "https://localhost:8080/"
        },
        "outputId": "f314ef34-5ce5-46fc-81ce-a0bbd00253b0"
      },
      "outputs": [
        {
          "output_type": "stream",
          "name": "stdout",
          "text": [
            "--2024-04-08 13:18:50--  https://repo.anaconda.com/miniconda/Miniconda3-py39_23.5.2-0-Linux-x86_64.sh\n",
            "Resolving repo.anaconda.com (repo.anaconda.com)... 104.16.130.3, 104.16.131.3, 2606:4700::6810:8303, ...\n",
            "Connecting to repo.anaconda.com (repo.anaconda.com)|104.16.130.3|:443... connected.\n",
            "HTTP request sent, awaiting response... 200 OK\n",
            "Length: 93409434 (89M) [application/x-sh]\n",
            "Saving to: ‘Miniconda3-py39_23.5.2-0-Linux-x86_64.sh.2’\n",
            "\n",
            "Miniconda3-py39_23. 100%[===================>]  89.08M   132MB/s    in 0.7s    \n",
            "\n",
            "2024-04-08 13:18:51 (132 MB/s) - ‘Miniconda3-py39_23.5.2-0-Linux-x86_64.sh.2’ saved [93409434/93409434]\n",
            "\n",
            "PREFIX=/usr/local\n",
            "Unpacking payload ...\n",
            "                                                                            \n",
            "Installing base environment...\n",
            "\n",
            "\n",
            "Downloading and Extracting Packages\n",
            "\n",
            "Preparing transaction: - \b\bdone\n",
            "Executing transaction: | \b\bdone\n",
            "installation finished.\n",
            "WARNING:\n",
            "    You currently have a PYTHONPATH environment variable set. This may cause\n",
            "    unexpected behavior when running the Python interpreter in Miniconda3.\n",
            "    For best results, please verify that your PYTHONPATH only points to\n",
            "    directories of packages that are compatible with the Python interpreter\n",
            "    in Miniconda3: /usr/local\n",
            "Requirement already satisfied: pyOpenSSL==22.0.0 in /usr/local/lib/python3.9/site-packages (22.0.0)\n",
            "Requirement already satisfied: cryptography>=35.0 in /usr/local/lib/python3.9/site-packages (from pyOpenSSL==22.0.0) (39.0.1)\n",
            "Requirement already satisfied: cffi>=1.12 in /usr/local/lib/python3.9/site-packages (from cryptography>=35.0->pyOpenSSL==22.0.0) (1.15.1)\n",
            "Requirement already satisfied: pycparser in /usr/local/lib/python3.9/site-packages (from cffi>=1.12->cryptography>=35.0->pyOpenSSL==22.0.0) (2.21)\n",
            "\u001b[33mWARNING: Running pip as the 'root' user can result in broken permissions and conflicting behaviour with the system package manager. It is recommended to use a virtual environment instead: https://pip.pypa.io/warnings/venv\u001b[0m\u001b[33m\n",
            "\u001b[0mRequirement already satisfied: recommenders[examples] in /usr/local/lib/python3.9/site-packages (1.1.1)\n",
            "Requirement already satisfied: numpy>=1.19 in /usr/local/lib/python3.9/site-packages (from recommenders[examples]) (1.26.4)\n",
            "Requirement already satisfied: pandas<2,>1.0.3 in /usr/local/lib/python3.9/site-packages (from recommenders[examples]) (1.5.3)\n",
            "Requirement already satisfied: scipy<2,>=1.0.0 in /usr/local/lib/python3.9/site-packages (from recommenders[examples]) (1.13.0)\n",
            "Requirement already satisfied: tqdm<5,>=4.31.1 in /usr/local/lib/python3.9/site-packages (from recommenders[examples]) (4.65.0)\n",
            "Requirement already satisfied: matplotlib<4,>=2.2.2 in /usr/local/lib/python3.9/site-packages (from recommenders[examples]) (3.8.4)\n",
            "Requirement already satisfied: scikit-learn<1.0.3,>=0.22.1 in /usr/local/lib/python3.9/site-packages (from recommenders[examples]) (1.0.2)\n",
            "Requirement already satisfied: numba<1,>=0.38.1 in /usr/local/lib/python3.9/site-packages (from recommenders[examples]) (0.59.1)\n",
            "Requirement already satisfied: lightfm<2,>=1.15 in /usr/local/lib/python3.9/site-packages (from recommenders[examples]) (1.17)\n",
            "Requirement already satisfied: lightgbm>=2.2.1 in /usr/local/lib/python3.9/site-packages (from recommenders[examples]) (4.3.0)\n",
            "Requirement already satisfied: memory-profiler<1,>=0.54.0 in /usr/local/lib/python3.9/site-packages (from recommenders[examples]) (0.61.0)\n",
            "Requirement already satisfied: nltk<4,>=3.4 in /usr/local/lib/python3.9/site-packages (from recommenders[examples]) (3.8.1)\n",
            "Requirement already satisfied: seaborn<1,>=0.8.1 in /usr/local/lib/python3.9/site-packages (from recommenders[examples]) (0.13.2)\n",
            "Requirement already satisfied: transformers<5,>=2.5.0 in /usr/local/lib/python3.9/site-packages (from recommenders[examples]) (4.39.3)\n",
            "Requirement already satisfied: bottleneck<2,>=1.2.1 in /usr/local/lib/python3.9/site-packages (from recommenders[examples]) (1.3.8)\n",
            "Requirement already satisfied: category-encoders<2,>=1.3.0 in /usr/local/lib/python3.9/site-packages (from recommenders[examples]) (1.3.0)\n",
            "Requirement already satisfied: jinja2<3.1,>=2 in /usr/local/lib/python3.9/site-packages (from recommenders[examples]) (3.0.3)\n",
            "Requirement already satisfied: pyyaml<6,>=5.4.1 in /usr/local/lib/python3.9/site-packages (from recommenders[examples]) (5.4.1)\n",
            "Requirement already satisfied: requests<3,>=2.0.0 in /usr/local/lib/python3.9/site-packages (from recommenders[examples]) (2.31.0)\n",
            "Requirement already satisfied: cornac<2,>=1.1.2 in /usr/local/lib/python3.9/site-packages (from recommenders[examples]) (1.18.0)\n",
            "Requirement already satisfied: retrying>=1.3.3 in /usr/local/lib/python3.9/site-packages (from recommenders[examples]) (1.3.4)\n",
            "Requirement already satisfied: pandera[strategies]>=0.6.5 in /usr/local/lib/python3.9/site-packages (from recommenders[examples]) (0.18.3)\n",
            "Requirement already satisfied: scikit-surprise>=1.0.6 in /usr/local/lib/python3.9/site-packages (from recommenders[examples]) (1.1.3)\n",
            "Requirement already satisfied: azure.mgmt.cosmosdb<1,>=0.8.0 in /usr/local/lib/python3.9/site-packages (from recommenders[examples]) (0.16.0)\n",
            "Requirement already satisfied: hyperopt<1,>=0.1.2 in /usr/local/lib/python3.9/site-packages (from recommenders[examples]) (0.2.7)\n",
            "Requirement already satisfied: ipykernel<7,>=4.6.1 in /usr/local/lib/python3.9/site-packages (from recommenders[examples]) (6.29.4)\n",
            "Requirement already satisfied: jupyter<2,>=1 in /usr/local/lib/python3.9/site-packages (from recommenders[examples]) (1.0.0)\n",
            "Requirement already satisfied: locust<2,>=1 in /usr/local/lib/python3.9/site-packages (from recommenders[examples]) (1.6.0)\n",
            "Requirement already satisfied: papermill<3,>=2.1.2 in /usr/local/lib/python3.9/site-packages (from recommenders[examples]) (2.5.0)\n",
            "Requirement already satisfied: scrapbook<1.0.0,>=0.5.0 in /usr/local/lib/python3.9/site-packages (from recommenders[examples]) (0.5.0)\n",
            "Requirement already satisfied: msrest>=0.5.0 in /usr/local/lib/python3.9/site-packages (from azure.mgmt.cosmosdb<1,>=0.8.0->recommenders[examples]) (0.7.1)\n",
            "Requirement already satisfied: msrestazure<2.0.0,>=0.4.32 in /usr/local/lib/python3.9/site-packages (from azure.mgmt.cosmosdb<1,>=0.8.0->recommenders[examples]) (0.6.4)\n",
            "Requirement already satisfied: azure-common~=1.1 in /usr/local/lib/python3.9/site-packages (from azure.mgmt.cosmosdb<1,>=0.8.0->recommenders[examples]) (1.1.28)\n",
            "Requirement already satisfied: statsmodels>=0.6.1 in /usr/local/lib/python3.9/site-packages (from category-encoders<2,>=1.3.0->recommenders[examples]) (0.14.1)\n",
            "Requirement already satisfied: patsy>=0.4.1 in /usr/local/lib/python3.9/site-packages (from category-encoders<2,>=1.3.0->recommenders[examples]) (0.5.6)\n",
            "Requirement already satisfied: powerlaw in /usr/local/lib/python3.9/site-packages (from cornac<2,>=1.1.2->recommenders[examples]) (1.5)\n",
            "Requirement already satisfied: six in /usr/local/lib/python3.9/site-packages (from hyperopt<1,>=0.1.2->recommenders[examples]) (1.16.0)\n",
            "Requirement already satisfied: networkx>=2.2 in /usr/local/lib/python3.9/site-packages (from hyperopt<1,>=0.1.2->recommenders[examples]) (3.2.1)\n",
            "Requirement already satisfied: future in /usr/local/lib/python3.9/site-packages (from hyperopt<1,>=0.1.2->recommenders[examples]) (1.0.0)\n",
            "Requirement already satisfied: cloudpickle in /usr/local/lib/python3.9/site-packages (from hyperopt<1,>=0.1.2->recommenders[examples]) (3.0.0)\n",
            "Requirement already satisfied: py4j in /usr/local/lib/python3.9/site-packages (from hyperopt<1,>=0.1.2->recommenders[examples]) (0.10.9.7)\n",
            "Requirement already satisfied: comm>=0.1.1 in /usr/local/lib/python3.9/site-packages (from ipykernel<7,>=4.6.1->recommenders[examples]) (0.2.2)\n",
            "Requirement already satisfied: debugpy>=1.6.5 in /usr/local/lib/python3.9/site-packages (from ipykernel<7,>=4.6.1->recommenders[examples]) (1.8.1)\n",
            "Requirement already satisfied: ipython>=7.23.1 in /usr/local/lib/python3.9/site-packages (from ipykernel<7,>=4.6.1->recommenders[examples]) (8.18.1)\n",
            "Requirement already satisfied: jupyter-client>=6.1.12 in /usr/local/lib/python3.9/site-packages (from ipykernel<7,>=4.6.1->recommenders[examples]) (8.6.1)\n",
            "Requirement already satisfied: jupyter-core!=5.0.*,>=4.12 in /usr/local/lib/python3.9/site-packages (from ipykernel<7,>=4.6.1->recommenders[examples]) (5.7.2)\n",
            "Requirement already satisfied: matplotlib-inline>=0.1 in /usr/local/lib/python3.9/site-packages (from ipykernel<7,>=4.6.1->recommenders[examples]) (0.1.6)\n",
            "Requirement already satisfied: nest-asyncio in /usr/local/lib/python3.9/site-packages (from ipykernel<7,>=4.6.1->recommenders[examples]) (1.6.0)\n",
            "Requirement already satisfied: packaging in /usr/local/lib/python3.9/site-packages (from ipykernel<7,>=4.6.1->recommenders[examples]) (23.0)\n",
            "Requirement already satisfied: psutil in /usr/local/lib/python3.9/site-packages (from ipykernel<7,>=4.6.1->recommenders[examples]) (5.9.8)\n",
            "Requirement already satisfied: pyzmq>=24 in /usr/local/lib/python3.9/site-packages (from ipykernel<7,>=4.6.1->recommenders[examples]) (25.1.2)\n",
            "Requirement already satisfied: tornado>=6.1 in /usr/local/lib/python3.9/site-packages (from ipykernel<7,>=4.6.1->recommenders[examples]) (6.4)\n",
            "Requirement already satisfied: traitlets>=5.4.0 in /usr/local/lib/python3.9/site-packages (from ipykernel<7,>=4.6.1->recommenders[examples]) (5.14.2)\n",
            "Requirement already satisfied: MarkupSafe>=2.0 in /usr/local/lib/python3.9/site-packages (from jinja2<3.1,>=2->recommenders[examples]) (2.1.5)\n",
            "Requirement already satisfied: notebook in /usr/local/lib/python3.9/site-packages (from jupyter<2,>=1->recommenders[examples]) (7.1.2)\n",
            "Requirement already satisfied: qtconsole in /usr/local/lib/python3.9/site-packages (from jupyter<2,>=1->recommenders[examples]) (5.5.1)\n",
            "Requirement already satisfied: jupyter-console in /usr/local/lib/python3.9/site-packages (from jupyter<2,>=1->recommenders[examples]) (6.6.3)\n",
            "Requirement already satisfied: nbconvert in /usr/local/lib/python3.9/site-packages (from jupyter<2,>=1->recommenders[examples]) (7.16.3)\n",
            "Requirement already satisfied: ipywidgets in /usr/local/lib/python3.9/site-packages (from jupyter<2,>=1->recommenders[examples]) (8.1.2)\n",
            "Requirement already satisfied: gevent>=20.9.0 in /usr/local/lib/python3.9/site-packages (from locust<2,>=1->recommenders[examples]) (24.2.1)\n",
            "Requirement already satisfied: flask==1.1.2 in /usr/local/lib/python3.9/site-packages (from locust<2,>=1->recommenders[examples]) (1.1.2)\n",
            "Requirement already satisfied: Werkzeug>=1.0.1 in /usr/local/lib/python3.9/site-packages (from locust<2,>=1->recommenders[examples]) (3.0.2)\n",
            "Requirement already satisfied: msgpack>=0.6.2 in /usr/local/lib/python3.9/site-packages (from locust<2,>=1->recommenders[examples]) (1.0.8)\n",
            "Requirement already satisfied: geventhttpclient>=1.4.4 in /usr/local/lib/python3.9/site-packages (from locust<2,>=1->recommenders[examples]) (2.0.12)\n",
            "Requirement already satisfied: ConfigArgParse>=1.0 in /usr/local/lib/python3.9/site-packages (from locust<2,>=1->recommenders[examples]) (1.7)\n",
            "Requirement already satisfied: Flask-BasicAuth>=0.2.0 in /usr/local/lib/python3.9/site-packages (from locust<2,>=1->recommenders[examples]) (0.2.0)\n",
            "Requirement already satisfied: Flask-Cors>=3.0.10 in /usr/local/lib/python3.9/site-packages (from locust<2,>=1->recommenders[examples]) (4.0.0)\n",
            "Requirement already satisfied: itsdangerous>=0.24 in /usr/local/lib/python3.9/site-packages (from flask==1.1.2->locust<2,>=1->recommenders[examples]) (2.1.2)\n",
            "Requirement already satisfied: click>=5.1 in /usr/local/lib/python3.9/site-packages (from flask==1.1.2->locust<2,>=1->recommenders[examples]) (8.1.7)\n",
            "Requirement already satisfied: contourpy>=1.0.1 in /usr/local/lib/python3.9/site-packages (from matplotlib<4,>=2.2.2->recommenders[examples]) (1.2.1)\n",
            "Requirement already satisfied: cycler>=0.10 in /usr/local/lib/python3.9/site-packages (from matplotlib<4,>=2.2.2->recommenders[examples]) (0.12.1)\n",
            "Requirement already satisfied: fonttools>=4.22.0 in /usr/local/lib/python3.9/site-packages (from matplotlib<4,>=2.2.2->recommenders[examples]) (4.51.0)\n",
            "Requirement already satisfied: kiwisolver>=1.3.1 in /usr/local/lib/python3.9/site-packages (from matplotlib<4,>=2.2.2->recommenders[examples]) (1.4.5)\n",
            "Requirement already satisfied: pillow>=8 in /usr/local/lib/python3.9/site-packages (from matplotlib<4,>=2.2.2->recommenders[examples]) (10.3.0)\n",
            "Requirement already satisfied: pyparsing>=2.3.1 in /usr/local/lib/python3.9/site-packages (from matplotlib<4,>=2.2.2->recommenders[examples]) (3.1.2)\n",
            "Requirement already satisfied: python-dateutil>=2.7 in /usr/local/lib/python3.9/site-packages (from matplotlib<4,>=2.2.2->recommenders[examples]) (2.9.0.post0)\n",
            "Requirement already satisfied: importlib-resources>=3.2.0 in /usr/local/lib/python3.9/site-packages (from matplotlib<4,>=2.2.2->recommenders[examples]) (6.4.0)\n",
            "Requirement already satisfied: joblib in /usr/local/lib/python3.9/site-packages (from nltk<4,>=3.4->recommenders[examples]) (1.3.2)\n",
            "Requirement already satisfied: regex>=2021.8.3 in /usr/local/lib/python3.9/site-packages (from nltk<4,>=3.4->recommenders[examples]) (2023.12.25)\n",
            "Requirement already satisfied: llvmlite<0.43,>=0.42.0dev0 in /usr/local/lib/python3.9/site-packages (from numba<1,>=0.38.1->recommenders[examples]) (0.42.0)\n",
            "Requirement already satisfied: pytz>=2020.1 in /usr/local/lib/python3.9/site-packages (from pandas<2,>1.0.3->recommenders[examples]) (2024.1)\n",
            "Requirement already satisfied: multimethod<=1.10.0 in /usr/local/lib/python3.9/site-packages (from pandera[strategies]>=0.6.5->recommenders[examples]) (1.10)\n",
            "Requirement already satisfied: pydantic in /usr/local/lib/python3.9/site-packages (from pandera[strategies]>=0.6.5->recommenders[examples]) (2.6.4)\n",
            "Requirement already satisfied: typeguard>=3.0.2 in /usr/local/lib/python3.9/site-packages (from pandera[strategies]>=0.6.5->recommenders[examples]) (4.2.1)\n",
            "Requirement already satisfied: typing-inspect>=0.6.0 in /usr/local/lib/python3.9/site-packages (from pandera[strategies]>=0.6.5->recommenders[examples]) (0.9.0)\n",
            "Requirement already satisfied: wrapt in /usr/local/lib/python3.9/site-packages (from pandera[strategies]>=0.6.5->recommenders[examples]) (1.16.0)\n",
            "Requirement already satisfied: hypothesis>=6.92.7 in /usr/local/lib/python3.9/site-packages (from pandera[strategies]>=0.6.5->recommenders[examples]) (6.100.0)\n",
            "Requirement already satisfied: nbformat>=5.1.2 in /usr/local/lib/python3.9/site-packages (from papermill<3,>=2.1.2->recommenders[examples]) (5.10.4)\n",
            "Requirement already satisfied: nbclient>=0.2.0 in /usr/local/lib/python3.9/site-packages (from papermill<3,>=2.1.2->recommenders[examples]) (0.10.0)\n",
            "Requirement already satisfied: entrypoints in /usr/local/lib/python3.9/site-packages (from papermill<3,>=2.1.2->recommenders[examples]) (0.4)\n",
            "Requirement already satisfied: tenacity>=5.0.2 in /usr/local/lib/python3.9/site-packages (from papermill<3,>=2.1.2->recommenders[examples]) (8.2.3)\n",
            "Requirement already satisfied: charset-normalizer<4,>=2 in /usr/local/lib/python3.9/site-packages (from requests<3,>=2.0.0->recommenders[examples]) (2.0.4)\n",
            "Requirement already satisfied: idna<4,>=2.5 in /usr/local/lib/python3.9/site-packages (from requests<3,>=2.0.0->recommenders[examples]) (3.4)\n",
            "Requirement already satisfied: urllib3<3,>=1.21.1 in /usr/local/lib/python3.9/site-packages (from requests<3,>=2.0.0->recommenders[examples]) (1.26.16)\n",
            "Requirement already satisfied: certifi>=2017.4.17 in /usr/local/lib/python3.9/site-packages (from requests<3,>=2.0.0->recommenders[examples]) (2023.5.7)\n",
            "Requirement already satisfied: threadpoolctl>=2.0.0 in /usr/local/lib/python3.9/site-packages (from scikit-learn<1.0.3,>=0.22.1->recommenders[examples]) (3.4.0)\n",
            "Requirement already satisfied: jsonschema in /usr/local/lib/python3.9/site-packages (from scrapbook<1.0.0,>=0.5.0->recommenders[examples]) (4.21.1)\n",
            "Requirement already satisfied: pyarrow in /usr/local/lib/python3.9/site-packages (from scrapbook<1.0.0,>=0.5.0->recommenders[examples]) (15.0.2)\n",
            "Requirement already satisfied: filelock in /usr/local/lib/python3.9/site-packages (from transformers<5,>=2.5.0->recommenders[examples]) (3.13.3)\n",
            "Requirement already satisfied: huggingface-hub<1.0,>=0.19.3 in /usr/local/lib/python3.9/site-packages (from transformers<5,>=2.5.0->recommenders[examples]) (0.22.2)\n",
            "Requirement already satisfied: tokenizers<0.19,>=0.14 in /usr/local/lib/python3.9/site-packages (from transformers<5,>=2.5.0->recommenders[examples]) (0.15.2)\n",
            "Requirement already satisfied: safetensors>=0.4.1 in /usr/local/lib/python3.9/site-packages (from transformers<5,>=2.5.0->recommenders[examples]) (0.4.2)\n",
            "Requirement already satisfied: zope.event in /usr/local/lib/python3.9/site-packages (from gevent>=20.9.0->locust<2,>=1->recommenders[examples]) (5.0)\n",
            "Requirement already satisfied: zope.interface in /usr/local/lib/python3.9/site-packages (from gevent>=20.9.0->locust<2,>=1->recommenders[examples]) (6.2)\n",
            "Requirement already satisfied: greenlet>=2.0.0 in /usr/local/lib/python3.9/site-packages (from gevent>=20.9.0->locust<2,>=1->recommenders[examples]) (3.0.3)\n",
            "Requirement already satisfied: brotli in /usr/local/lib/python3.9/site-packages (from geventhttpclient>=1.4.4->locust<2,>=1->recommenders[examples]) (1.1.0)\n",
            "Requirement already satisfied: fsspec>=2023.5.0 in /usr/local/lib/python3.9/site-packages (from huggingface-hub<1.0,>=0.19.3->transformers<5,>=2.5.0->recommenders[examples]) (2024.3.1)\n",
            "Requirement already satisfied: typing-extensions>=3.7.4.3 in /usr/local/lib/python3.9/site-packages (from huggingface-hub<1.0,>=0.19.3->transformers<5,>=2.5.0->recommenders[examples]) (4.11.0)\n",
            "Requirement already satisfied: attrs>=22.2.0 in /usr/local/lib/python3.9/site-packages (from hypothesis>=6.92.7->pandera[strategies]>=0.6.5->recommenders[examples]) (23.2.0)\n",
            "Requirement already satisfied: sortedcontainers<3.0.0,>=2.1.0 in /usr/local/lib/python3.9/site-packages (from hypothesis>=6.92.7->pandera[strategies]>=0.6.5->recommenders[examples]) (2.4.0)\n",
            "Requirement already satisfied: exceptiongroup>=1.0.0 in /usr/local/lib/python3.9/site-packages (from hypothesis>=6.92.7->pandera[strategies]>=0.6.5->recommenders[examples]) (1.2.0)\n",
            "Requirement already satisfied: zipp>=3.1.0 in /usr/local/lib/python3.9/site-packages (from importlib-resources>=3.2.0->matplotlib<4,>=2.2.2->recommenders[examples]) (3.18.1)\n",
            "Requirement already satisfied: decorator in /usr/local/lib/python3.9/site-packages (from ipython>=7.23.1->ipykernel<7,>=4.6.1->recommenders[examples]) (5.1.1)\n",
            "Requirement already satisfied: jedi>=0.16 in /usr/local/lib/python3.9/site-packages (from ipython>=7.23.1->ipykernel<7,>=4.6.1->recommenders[examples]) (0.19.1)\n",
            "Requirement already satisfied: prompt-toolkit<3.1.0,>=3.0.41 in /usr/local/lib/python3.9/site-packages (from ipython>=7.23.1->ipykernel<7,>=4.6.1->recommenders[examples]) (3.0.43)\n",
            "Requirement already satisfied: pygments>=2.4.0 in /usr/local/lib/python3.9/site-packages (from ipython>=7.23.1->ipykernel<7,>=4.6.1->recommenders[examples]) (2.17.2)\n",
            "Requirement already satisfied: stack-data in /usr/local/lib/python3.9/site-packages (from ipython>=7.23.1->ipykernel<7,>=4.6.1->recommenders[examples]) (0.6.3)\n",
            "Requirement already satisfied: pexpect>4.3 in /usr/local/lib/python3.9/site-packages (from ipython>=7.23.1->ipykernel<7,>=4.6.1->recommenders[examples]) (4.9.0)\n",
            "Requirement already satisfied: importlib-metadata>=4.8.3 in /usr/local/lib/python3.9/site-packages (from jupyter-client>=6.1.12->ipykernel<7,>=4.6.1->recommenders[examples]) (7.1.0)\n",
            "Requirement already satisfied: platformdirs>=2.5 in /usr/local/lib/python3.9/site-packages (from jupyter-core!=5.0.*,>=4.12->ipykernel<7,>=4.6.1->recommenders[examples]) (4.2.0)\n",
            "Requirement already satisfied: azure-core>=1.24.0 in /usr/local/lib/python3.9/site-packages (from msrest>=0.5.0->azure.mgmt.cosmosdb<1,>=0.8.0->recommenders[examples]) (1.30.1)\n",
            "Requirement already satisfied: isodate>=0.6.0 in /usr/local/lib/python3.9/site-packages (from msrest>=0.5.0->azure.mgmt.cosmosdb<1,>=0.8.0->recommenders[examples]) (0.6.1)\n",
            "Requirement already satisfied: requests-oauthlib>=0.5.0 in /usr/local/lib/python3.9/site-packages (from msrest>=0.5.0->azure.mgmt.cosmosdb<1,>=0.8.0->recommenders[examples]) (2.0.0)\n",
            "Requirement already satisfied: adal<2.0.0,>=0.6.0 in /usr/local/lib/python3.9/site-packages (from msrestazure<2.0.0,>=0.4.32->azure.mgmt.cosmosdb<1,>=0.8.0->recommenders[examples]) (1.2.7)\n",
            "Requirement already satisfied: fastjsonschema>=2.15 in /usr/local/lib/python3.9/site-packages (from nbformat>=5.1.2->papermill<3,>=2.1.2->recommenders[examples]) (2.19.1)\n",
            "Requirement already satisfied: jsonschema-specifications>=2023.03.6 in /usr/local/lib/python3.9/site-packages (from jsonschema->scrapbook<1.0.0,>=0.5.0->recommenders[examples]) (2023.12.1)\n",
            "Requirement already satisfied: referencing>=0.28.4 in /usr/local/lib/python3.9/site-packages (from jsonschema->scrapbook<1.0.0,>=0.5.0->recommenders[examples]) (0.34.0)\n",
            "Requirement already satisfied: rpds-py>=0.7.1 in /usr/local/lib/python3.9/site-packages (from jsonschema->scrapbook<1.0.0,>=0.5.0->recommenders[examples]) (0.18.0)\n",
            "Requirement already satisfied: mypy-extensions>=0.3.0 in /usr/local/lib/python3.9/site-packages (from typing-inspect>=0.6.0->pandera[strategies]>=0.6.5->recommenders[examples]) (1.0.0)\n",
            "Requirement already satisfied: widgetsnbextension~=4.0.10 in /usr/local/lib/python3.9/site-packages (from ipywidgets->jupyter<2,>=1->recommenders[examples]) (4.0.10)\n",
            "Requirement already satisfied: jupyterlab-widgets~=3.0.10 in /usr/local/lib/python3.9/site-packages (from ipywidgets->jupyter<2,>=1->recommenders[examples]) (3.0.10)\n",
            "Requirement already satisfied: beautifulsoup4 in /usr/local/lib/python3.9/site-packages (from nbconvert->jupyter<2,>=1->recommenders[examples]) (4.12.3)\n",
            "Requirement already satisfied: bleach!=5.0.0 in /usr/local/lib/python3.9/site-packages (from nbconvert->jupyter<2,>=1->recommenders[examples]) (6.1.0)\n",
            "Requirement already satisfied: defusedxml in /usr/local/lib/python3.9/site-packages (from nbconvert->jupyter<2,>=1->recommenders[examples]) (0.7.1)\n",
            "Requirement already satisfied: jupyterlab-pygments in /usr/local/lib/python3.9/site-packages (from nbconvert->jupyter<2,>=1->recommenders[examples]) (0.3.0)\n",
            "Requirement already satisfied: mistune<4,>=2.0.3 in /usr/local/lib/python3.9/site-packages (from nbconvert->jupyter<2,>=1->recommenders[examples]) (3.0.2)\n",
            "Requirement already satisfied: pandocfilters>=1.4.1 in /usr/local/lib/python3.9/site-packages (from nbconvert->jupyter<2,>=1->recommenders[examples]) (1.5.1)\n",
            "Requirement already satisfied: tinycss2 in /usr/local/lib/python3.9/site-packages (from nbconvert->jupyter<2,>=1->recommenders[examples]) (1.2.1)\n",
            "Requirement already satisfied: jupyter-server<3,>=2.4.0 in /usr/local/lib/python3.9/site-packages (from notebook->jupyter<2,>=1->recommenders[examples]) (2.13.0)\n",
            "Requirement already satisfied: jupyterlab-server<3,>=2.22.1 in /usr/local/lib/python3.9/site-packages (from notebook->jupyter<2,>=1->recommenders[examples]) (2.26.0)\n",
            "Requirement already satisfied: jupyterlab<4.2,>=4.1.1 in /usr/local/lib/python3.9/site-packages (from notebook->jupyter<2,>=1->recommenders[examples]) (4.1.5)\n",
            "Requirement already satisfied: notebook-shim<0.3,>=0.2 in /usr/local/lib/python3.9/site-packages (from notebook->jupyter<2,>=1->recommenders[examples]) (0.2.4)\n",
            "Requirement already satisfied: mpmath in /usr/local/lib/python3.9/site-packages (from powerlaw->cornac<2,>=1.1.2->recommenders[examples]) (1.3.0)\n",
            "Requirement already satisfied: annotated-types>=0.4.0 in /usr/local/lib/python3.9/site-packages (from pydantic->pandera[strategies]>=0.6.5->recommenders[examples]) (0.6.0)\n",
            "Requirement already satisfied: pydantic-core==2.16.3 in /usr/local/lib/python3.9/site-packages (from pydantic->pandera[strategies]>=0.6.5->recommenders[examples]) (2.16.3)\n",
            "Requirement already satisfied: qtpy>=2.4.0 in /usr/local/lib/python3.9/site-packages (from qtconsole->jupyter<2,>=1->recommenders[examples]) (2.4.1)\n",
            "Requirement already satisfied: PyJWT<3,>=1.0.0 in /usr/local/lib/python3.9/site-packages (from adal<2.0.0,>=0.6.0->msrestazure<2.0.0,>=0.4.32->azure.mgmt.cosmosdb<1,>=0.8.0->recommenders[examples]) (2.8.0)\n",
            "Requirement already satisfied: cryptography>=1.1.0 in /usr/local/lib/python3.9/site-packages (from adal<2.0.0,>=0.6.0->msrestazure<2.0.0,>=0.4.32->azure.mgmt.cosmosdb<1,>=0.8.0->recommenders[examples]) (39.0.1)\n",
            "Requirement already satisfied: webencodings in /usr/local/lib/python3.9/site-packages (from bleach!=5.0.0->nbconvert->jupyter<2,>=1->recommenders[examples]) (0.5.1)\n",
            "Requirement already satisfied: parso<0.9.0,>=0.8.3 in /usr/local/lib/python3.9/site-packages (from jedi>=0.16->ipython>=7.23.1->ipykernel<7,>=4.6.1->recommenders[examples]) (0.8.4)\n",
            "Requirement already satisfied: anyio>=3.1.0 in /usr/local/lib/python3.9/site-packages (from jupyter-server<3,>=2.4.0->notebook->jupyter<2,>=1->recommenders[examples]) (4.3.0)\n",
            "Requirement already satisfied: argon2-cffi in /usr/local/lib/python3.9/site-packages (from jupyter-server<3,>=2.4.0->notebook->jupyter<2,>=1->recommenders[examples]) (23.1.0)\n",
            "Requirement already satisfied: jupyter-events>=0.9.0 in /usr/local/lib/python3.9/site-packages (from jupyter-server<3,>=2.4.0->notebook->jupyter<2,>=1->recommenders[examples]) (0.10.0)\n",
            "Requirement already satisfied: jupyter-server-terminals in /usr/local/lib/python3.9/site-packages (from jupyter-server<3,>=2.4.0->notebook->jupyter<2,>=1->recommenders[examples]) (0.5.3)\n",
            "Requirement already satisfied: overrides in /usr/local/lib/python3.9/site-packages (from jupyter-server<3,>=2.4.0->notebook->jupyter<2,>=1->recommenders[examples]) (7.7.0)\n",
            "Requirement already satisfied: prometheus-client in /usr/local/lib/python3.9/site-packages (from jupyter-server<3,>=2.4.0->notebook->jupyter<2,>=1->recommenders[examples]) (0.20.0)\n",
            "Requirement already satisfied: send2trash>=1.8.2 in /usr/local/lib/python3.9/site-packages (from jupyter-server<3,>=2.4.0->notebook->jupyter<2,>=1->recommenders[examples]) (1.8.3)\n",
            "Requirement already satisfied: terminado>=0.8.3 in /usr/local/lib/python3.9/site-packages (from jupyter-server<3,>=2.4.0->notebook->jupyter<2,>=1->recommenders[examples]) (0.18.1)\n",
            "Requirement already satisfied: websocket-client in /usr/local/lib/python3.9/site-packages (from jupyter-server<3,>=2.4.0->notebook->jupyter<2,>=1->recommenders[examples]) (1.7.0)\n",
            "Requirement already satisfied: async-lru>=1.0.0 in /usr/local/lib/python3.9/site-packages (from jupyterlab<4.2,>=4.1.1->notebook->jupyter<2,>=1->recommenders[examples]) (2.0.4)\n",
            "Requirement already satisfied: httpx>=0.25.0 in /usr/local/lib/python3.9/site-packages (from jupyterlab<4.2,>=4.1.1->notebook->jupyter<2,>=1->recommenders[examples]) (0.27.0)\n",
            "Requirement already satisfied: jupyter-lsp>=2.0.0 in /usr/local/lib/python3.9/site-packages (from jupyterlab<4.2,>=4.1.1->notebook->jupyter<2,>=1->recommenders[examples]) (2.2.4)\n",
            "Requirement already satisfied: tomli in /usr/local/lib/python3.9/site-packages (from jupyterlab<4.2,>=4.1.1->notebook->jupyter<2,>=1->recommenders[examples]) (2.0.1)\n",
            "Requirement already satisfied: babel>=2.10 in /usr/local/lib/python3.9/site-packages (from jupyterlab-server<3,>=2.22.1->notebook->jupyter<2,>=1->recommenders[examples]) (2.14.0)\n",
            "Requirement already satisfied: json5>=0.9.0 in /usr/local/lib/python3.9/site-packages (from jupyterlab-server<3,>=2.22.1->notebook->jupyter<2,>=1->recommenders[examples]) (0.9.24)\n",
            "Requirement already satisfied: ptyprocess>=0.5 in /usr/local/lib/python3.9/site-packages (from pexpect>4.3->ipython>=7.23.1->ipykernel<7,>=4.6.1->recommenders[examples]) (0.7.0)\n",
            "Requirement already satisfied: wcwidth in /usr/local/lib/python3.9/site-packages (from prompt-toolkit<3.1.0,>=3.0.41->ipython>=7.23.1->ipykernel<7,>=4.6.1->recommenders[examples]) (0.2.13)\n",
            "Requirement already satisfied: oauthlib>=3.0.0 in /usr/local/lib/python3.9/site-packages (from requests-oauthlib>=0.5.0->msrest>=0.5.0->azure.mgmt.cosmosdb<1,>=0.8.0->recommenders[examples]) (3.2.2)\n",
            "Requirement already satisfied: soupsieve>1.2 in /usr/local/lib/python3.9/site-packages (from beautifulsoup4->nbconvert->jupyter<2,>=1->recommenders[examples]) (2.5)\n",
            "Requirement already satisfied: executing>=1.2.0 in /usr/local/lib/python3.9/site-packages (from stack-data->ipython>=7.23.1->ipykernel<7,>=4.6.1->recommenders[examples]) (2.0.1)\n",
            "Requirement already satisfied: asttokens>=2.1.0 in /usr/local/lib/python3.9/site-packages (from stack-data->ipython>=7.23.1->ipykernel<7,>=4.6.1->recommenders[examples]) (2.4.1)\n",
            "Requirement already satisfied: pure-eval in /usr/local/lib/python3.9/site-packages (from stack-data->ipython>=7.23.1->ipykernel<7,>=4.6.1->recommenders[examples]) (0.2.2)\n",
            "Requirement already satisfied: setuptools in /usr/local/lib/python3.9/site-packages (from zope.event->gevent>=20.9.0->locust<2,>=1->recommenders[examples]) (67.8.0)\n",
            "Requirement already satisfied: sniffio>=1.1 in /usr/local/lib/python3.9/site-packages (from anyio>=3.1.0->jupyter-server<3,>=2.4.0->notebook->jupyter<2,>=1->recommenders[examples]) (1.3.1)\n",
            "Requirement already satisfied: cffi>=1.12 in /usr/local/lib/python3.9/site-packages (from cryptography>=1.1.0->adal<2.0.0,>=0.6.0->msrestazure<2.0.0,>=0.4.32->azure.mgmt.cosmosdb<1,>=0.8.0->recommenders[examples]) (1.15.1)\n",
            "Requirement already satisfied: httpcore==1.* in /usr/local/lib/python3.9/site-packages (from httpx>=0.25.0->jupyterlab<4.2,>=4.1.1->notebook->jupyter<2,>=1->recommenders[examples]) (1.0.5)\n",
            "Requirement already satisfied: h11<0.15,>=0.13 in /usr/local/lib/python3.9/site-packages (from httpcore==1.*->httpx>=0.25.0->jupyterlab<4.2,>=4.1.1->notebook->jupyter<2,>=1->recommenders[examples]) (0.14.0)\n",
            "Requirement already satisfied: python-json-logger>=2.0.4 in /usr/local/lib/python3.9/site-packages (from jupyter-events>=0.9.0->jupyter-server<3,>=2.4.0->notebook->jupyter<2,>=1->recommenders[examples]) (2.0.7)\n",
            "Requirement already satisfied: rfc3339-validator in /usr/local/lib/python3.9/site-packages (from jupyter-events>=0.9.0->jupyter-server<3,>=2.4.0->notebook->jupyter<2,>=1->recommenders[examples]) (0.1.4)\n",
            "Requirement already satisfied: rfc3986-validator>=0.1.1 in /usr/local/lib/python3.9/site-packages (from jupyter-events>=0.9.0->jupyter-server<3,>=2.4.0->notebook->jupyter<2,>=1->recommenders[examples]) (0.1.1)\n",
            "Requirement already satisfied: argon2-cffi-bindings in /usr/local/lib/python3.9/site-packages (from argon2-cffi->jupyter-server<3,>=2.4.0->notebook->jupyter<2,>=1->recommenders[examples]) (21.2.0)\n",
            "Requirement already satisfied: pycparser in /usr/local/lib/python3.9/site-packages (from cffi>=1.12->cryptography>=1.1.0->adal<2.0.0,>=0.6.0->msrestazure<2.0.0,>=0.4.32->azure.mgmt.cosmosdb<1,>=0.8.0->recommenders[examples]) (2.21)\n",
            "Requirement already satisfied: fqdn in /usr/local/lib/python3.9/site-packages (from jsonschema->scrapbook<1.0.0,>=0.5.0->recommenders[examples]) (1.5.1)\n",
            "Requirement already satisfied: isoduration in /usr/local/lib/python3.9/site-packages (from jsonschema->scrapbook<1.0.0,>=0.5.0->recommenders[examples]) (20.11.0)\n",
            "Requirement already satisfied: jsonpointer>1.13 in /usr/local/lib/python3.9/site-packages (from jsonschema->scrapbook<1.0.0,>=0.5.0->recommenders[examples]) (2.1)\n",
            "Requirement already satisfied: uri-template in /usr/local/lib/python3.9/site-packages (from jsonschema->scrapbook<1.0.0,>=0.5.0->recommenders[examples]) (1.3.0)\n",
            "Requirement already satisfied: webcolors>=1.11 in /usr/local/lib/python3.9/site-packages (from jsonschema->scrapbook<1.0.0,>=0.5.0->recommenders[examples]) (1.13)\n",
            "Requirement already satisfied: arrow>=0.15.0 in /usr/local/lib/python3.9/site-packages (from isoduration->jsonschema->scrapbook<1.0.0,>=0.5.0->recommenders[examples]) (1.3.0)\n",
            "Requirement already satisfied: types-python-dateutil>=2.8.10 in /usr/local/lib/python3.9/site-packages (from arrow>=0.15.0->isoduration->jsonschema->scrapbook<1.0.0,>=0.5.0->recommenders[examples]) (2.9.0.20240316)\n",
            "\u001b[33mWARNING: Running pip as the 'root' user can result in broken permissions and conflicting behaviour with the system package manager. It is recommended to use a virtual environment instead: https://pip.pypa.io/warnings/venv\u001b[0m\u001b[33m\n",
            "\u001b[0m"
          ]
        }
      ],
      "source": [
        "# This is only necessary for colab since it only supports python 3.10, but the library we are using only supports <= 3.9.\n",
        "# Comment this section if you are running it on your local machine\n",
        "\n",
        "!sudo rm -rf /usr/local/lib/python3.8/dist-packages/OpenSSL\n",
        "!sudo rm -rf /usr/local/lib/python3.8/dist-packages/pyOpenSSL-22.1.0.dist-info/\n",
        "\n",
        "!wget https://repo.anaconda.com/miniconda/Miniconda3-py39_23.5.2-0-Linux-x86_64.sh\n",
        "!chmod +x Miniconda3-py39_23.5.2-0-Linux-x86_64.sh\n",
        "\n",
        "!bash ./Miniconda3-py39_23.5.2-0-Linux-x86_64.sh -b -f -p /usr/local\n",
        "import sys\n",
        "sys.path.append('/usr/local/lib/python3.9/site-packages/')\n",
        "!pip3 install pyOpenSSL==22.0.0\n",
        "\n",
        "# Installing the recommenders library.\n",
        "# Ensure that you have python version <=3.9 when installing this.\n",
        "!pip install recommenders[examples]"
      ]
    },
    {
      "cell_type": "markdown",
      "source": [
        "### Importing Libraries"
      ],
      "metadata": {
        "id": "YjXVT2U-Pf1t"
      }
    },
    {
      "cell_type": "code",
      "source": [
        "import sys\n",
        "import os\n",
        "import shutil\n",
        "\n",
        "# Pandas and Numpy is used for efficient handling of arrays.\n",
        "import pandas as pd\n",
        "import numpy as np\n",
        "\n",
        "\n",
        "from recommenders.utils.timer import Timer\n",
        "from recommenders.datasets.python_splitters import python_chrono_split\n",
        "\n",
        "# importing the dataset\n",
        "from recommenders.datasets import movielens\n",
        "from recommenders.models.ncf.dataset import Dataset as NCFDataset\n",
        "\n",
        "# Importing the NCF model class from the recommenders library\n",
        "from recommenders.models.ncf.ncf_singlenode import NCF\n",
        "\n",
        "# importing the evaluation metrics\n",
        "from recommenders.evaluation.python_evaluation import (rmse, mae, rsquared, exp_var, map_at_k, ndcg_at_k, precision_at_k,\n",
        "                                                     recall_at_k, get_top_k_items)\n",
        "from recommenders.utils.constants import SEED as DEFAULT_SEED\n",
        "\n",
        "\n",
        "print(\"System version: {}\".format(sys.version))\n",
        "print(\"Pandas version: {}\".format(pd.__version__))"
      ],
      "metadata": {
        "id": "60ssvIbjPlpu",
        "colab": {
          "base_uri": "https://localhost:8080/"
        },
        "outputId": "da904f01-1bb1-40b8-fa96-cdedbd9cab6d"
      },
      "execution_count": null,
      "outputs": [
        {
          "output_type": "stream",
          "name": "stdout",
          "text": [
            "System version: 3.10.12 (main, Nov 20 2023, 15:14:05) [GCC 11.4.0]\n",
            "Pandas version: 2.0.3\n"
          ]
        }
      ]
    },
    {
      "cell_type": "code",
      "source": [
        "import numpy as np\n",
        "import matplotlib.pyplot as plt\n",
        "import pandas as pd"
      ],
      "metadata": {
        "id": "jiMUWgQPhdrb"
      },
      "execution_count": null,
      "outputs": []
    },
    {
      "cell_type": "code",
      "source": [
        "from google.colab import drive\n",
        "drive.mount('/content/drive')"
      ],
      "metadata": {
        "colab": {
          "base_uri": "https://localhost:8080/"
        },
        "id": "wKh7Gt_Tl8_1",
        "outputId": "2e328537-d791-447e-cb74-281ba63d0836"
      },
      "execution_count": null,
      "outputs": [
        {
          "output_type": "stream",
          "name": "stdout",
          "text": [
            "Drive already mounted at /content/drive; to attempt to forcibly remount, call drive.mount(\"/content/drive\", force_remount=True).\n"
          ]
        }
      ]
    },
    {
      "cell_type": "code",
      "source": [
        "%cd drive/MyDrive/bt4222_notebook/"
      ],
      "metadata": {
        "colab": {
          "base_uri": "https://localhost:8080/"
        },
        "id": "QdZh9ngymCpn",
        "outputId": "d3557591-ada1-45cc-d87c-b35a527ddd45"
      },
      "execution_count": null,
      "outputs": [
        {
          "output_type": "stream",
          "name": "stdout",
          "text": [
            "[Errno 2] No such file or directory: 'drive/MyDrive/bt4222_notebook/'\n",
            "/content/drive/MyDrive/bt4222_notebook\n"
          ]
        }
      ]
    },
    {
      "cell_type": "code",
      "source": [
        "data_df = pd.read_csv('UserWithLabelAndInput_0.csv')"
      ],
      "metadata": {
        "id": "eN4Ag9zemFDb"
      },
      "execution_count": null,
      "outputs": []
    },
    {
      "cell_type": "code",
      "source": [
        "data_df.head(3)"
      ],
      "metadata": {
        "colab": {
          "base_uri": "https://localhost:8080/",
          "height": 401
        },
        "id": "-5jtSfWmmRLY",
        "outputId": "dd705a50-326c-41da-a7a0-e5b4d107d782"
      },
      "execution_count": null,
      "outputs": [
        {
          "output_type": "execute_result",
          "data": {
            "text/plain": [
              "   UserId     Q120                      MainBranch              Age  \\\n",
              "0   41504  I agree  I am a developer by profession  25-34 years old   \n",
              "1   21778  I agree  I am a developer by profession  25-34 years old   \n",
              "2   47054  I agree  I am a developer by profession  25-34 years old   \n",
              "\n",
              "                           Employment                            RemoteWork  \\\n",
              "0  Not employed, but looking for work                                   NaN   \n",
              "1                 Employed, full-time  Hybrid (some remote, some in-person)   \n",
              "2                 Employed, full-time                                Remote   \n",
              "\n",
              "  CodingActivities                                            EdLevel  \\\n",
              "0              NaN       Bachelor’s degree (B.A., B.S., B.Eng., etc.)   \n",
              "1            Hobby  Some college/university study without earning ...   \n",
              "2            Hobby    Master’s degree (M.A., M.S., M.Eng., MBA, etc.)   \n",
              "\n",
              "                                           LearnCode  \\\n",
              "0  Online Courses or Certification;Other online r...   \n",
              "1  Colleague;Online Courses or Certification;Othe...   \n",
              "2  Other online resources (e.g., videos, blogs, f...   \n",
              "\n",
              "                                     LearnCodeOnline  ... top1_id top1_score  \\\n",
              "0  Formal documentation provided by the owner of ...  ...   10740   0.638643   \n",
              "1  Formal documentation provided by the owner of ...  ...   10497   0.635020   \n",
              "2  Formal documentation provided by the owner of ...  ...     673   0.631075   \n",
              "\n",
              "  top2_id top2_score bottom1_id bottom1_score bottom2_id bottom2_score  \\\n",
              "0    3778   0.565087       1873     -0.007485      16138      0.016606   \n",
              "1     469   0.529684      15923     -0.021622      12372     -0.009894   \n",
              "2   10740   0.589067       9414      0.025441      15923      0.028745   \n",
              "\n",
              "                                        Input_Merged  \\\n",
              "0  C#;Kotlin;Python;SQL Dynamodb;PostgreSQL;SQLit...   \n",
              "1  PHP MySQL;PostgreSQL;Redis;SQLite Amazon Web S...   \n",
              "2  Java;Python;SQL BigQuery;PostgreSQL;Redis Goog...   \n",
              "\n",
              "                                          embeddings  \n",
              "0  [-1.78260654e-02 -8.13032761e-02 -5.13622612e-...  \n",
              "1  [-6.85331179e-03 -6.82291240e-02 -4.92867678e-...  \n",
              "2  [-5.27353063e-02 -4.61720899e-02  8.59866943e-...  \n",
              "\n",
              "[3 rows x 97 columns]"
            ],
            "text/html": [
              "\n",
              "  <div id=\"df-2f469299-4946-49a5-8448-77bc14433a70\" class=\"colab-df-container\">\n",
              "    <div>\n",
              "<style scoped>\n",
              "    .dataframe tbody tr th:only-of-type {\n",
              "        vertical-align: middle;\n",
              "    }\n",
              "\n",
              "    .dataframe tbody tr th {\n",
              "        vertical-align: top;\n",
              "    }\n",
              "\n",
              "    .dataframe thead th {\n",
              "        text-align: right;\n",
              "    }\n",
              "</style>\n",
              "<table border=\"1\" class=\"dataframe\">\n",
              "  <thead>\n",
              "    <tr style=\"text-align: right;\">\n",
              "      <th></th>\n",
              "      <th>UserId</th>\n",
              "      <th>Q120</th>\n",
              "      <th>MainBranch</th>\n",
              "      <th>Age</th>\n",
              "      <th>Employment</th>\n",
              "      <th>RemoteWork</th>\n",
              "      <th>CodingActivities</th>\n",
              "      <th>EdLevel</th>\n",
              "      <th>LearnCode</th>\n",
              "      <th>LearnCodeOnline</th>\n",
              "      <th>...</th>\n",
              "      <th>top1_id</th>\n",
              "      <th>top1_score</th>\n",
              "      <th>top2_id</th>\n",
              "      <th>top2_score</th>\n",
              "      <th>bottom1_id</th>\n",
              "      <th>bottom1_score</th>\n",
              "      <th>bottom2_id</th>\n",
              "      <th>bottom2_score</th>\n",
              "      <th>Input_Merged</th>\n",
              "      <th>embeddings</th>\n",
              "    </tr>\n",
              "  </thead>\n",
              "  <tbody>\n",
              "    <tr>\n",
              "      <th>0</th>\n",
              "      <td>41504</td>\n",
              "      <td>I agree</td>\n",
              "      <td>I am a developer by profession</td>\n",
              "      <td>25-34 years old</td>\n",
              "      <td>Not employed, but looking for work</td>\n",
              "      <td>NaN</td>\n",
              "      <td>NaN</td>\n",
              "      <td>Bachelor’s degree (B.A., B.S., B.Eng., etc.)</td>\n",
              "      <td>Online Courses or Certification;Other online r...</td>\n",
              "      <td>Formal documentation provided by the owner of ...</td>\n",
              "      <td>...</td>\n",
              "      <td>10740</td>\n",
              "      <td>0.638643</td>\n",
              "      <td>3778</td>\n",
              "      <td>0.565087</td>\n",
              "      <td>1873</td>\n",
              "      <td>-0.007485</td>\n",
              "      <td>16138</td>\n",
              "      <td>0.016606</td>\n",
              "      <td>C#;Kotlin;Python;SQL Dynamodb;PostgreSQL;SQLit...</td>\n",
              "      <td>[-1.78260654e-02 -8.13032761e-02 -5.13622612e-...</td>\n",
              "    </tr>\n",
              "    <tr>\n",
              "      <th>1</th>\n",
              "      <td>21778</td>\n",
              "      <td>I agree</td>\n",
              "      <td>I am a developer by profession</td>\n",
              "      <td>25-34 years old</td>\n",
              "      <td>Employed, full-time</td>\n",
              "      <td>Hybrid (some remote, some in-person)</td>\n",
              "      <td>Hobby</td>\n",
              "      <td>Some college/university study without earning ...</td>\n",
              "      <td>Colleague;Online Courses or Certification;Othe...</td>\n",
              "      <td>Formal documentation provided by the owner of ...</td>\n",
              "      <td>...</td>\n",
              "      <td>10497</td>\n",
              "      <td>0.635020</td>\n",
              "      <td>469</td>\n",
              "      <td>0.529684</td>\n",
              "      <td>15923</td>\n",
              "      <td>-0.021622</td>\n",
              "      <td>12372</td>\n",
              "      <td>-0.009894</td>\n",
              "      <td>PHP MySQL;PostgreSQL;Redis;SQLite Amazon Web S...</td>\n",
              "      <td>[-6.85331179e-03 -6.82291240e-02 -4.92867678e-...</td>\n",
              "    </tr>\n",
              "    <tr>\n",
              "      <th>2</th>\n",
              "      <td>47054</td>\n",
              "      <td>I agree</td>\n",
              "      <td>I am a developer by profession</td>\n",
              "      <td>25-34 years old</td>\n",
              "      <td>Employed, full-time</td>\n",
              "      <td>Remote</td>\n",
              "      <td>Hobby</td>\n",
              "      <td>Master’s degree (M.A., M.S., M.Eng., MBA, etc.)</td>\n",
              "      <td>Other online resources (e.g., videos, blogs, f...</td>\n",
              "      <td>Formal documentation provided by the owner of ...</td>\n",
              "      <td>...</td>\n",
              "      <td>673</td>\n",
              "      <td>0.631075</td>\n",
              "      <td>10740</td>\n",
              "      <td>0.589067</td>\n",
              "      <td>9414</td>\n",
              "      <td>0.025441</td>\n",
              "      <td>15923</td>\n",
              "      <td>0.028745</td>\n",
              "      <td>Java;Python;SQL BigQuery;PostgreSQL;Redis Goog...</td>\n",
              "      <td>[-5.27353063e-02 -4.61720899e-02  8.59866943e-...</td>\n",
              "    </tr>\n",
              "  </tbody>\n",
              "</table>\n",
              "<p>3 rows × 97 columns</p>\n",
              "</div>\n",
              "    <div class=\"colab-df-buttons\">\n",
              "\n",
              "  <div class=\"colab-df-container\">\n",
              "    <button class=\"colab-df-convert\" onclick=\"convertToInteractive('df-2f469299-4946-49a5-8448-77bc14433a70')\"\n",
              "            title=\"Convert this dataframe to an interactive table.\"\n",
              "            style=\"display:none;\">\n",
              "\n",
              "  <svg xmlns=\"http://www.w3.org/2000/svg\" height=\"24px\" viewBox=\"0 -960 960 960\">\n",
              "    <path d=\"M120-120v-720h720v720H120Zm60-500h600v-160H180v160Zm220 220h160v-160H400v160Zm0 220h160v-160H400v160ZM180-400h160v-160H180v160Zm440 0h160v-160H620v160ZM180-180h160v-160H180v160Zm440 0h160v-160H620v160Z\"/>\n",
              "  </svg>\n",
              "    </button>\n",
              "\n",
              "  <style>\n",
              "    .colab-df-container {\n",
              "      display:flex;\n",
              "      gap: 12px;\n",
              "    }\n",
              "\n",
              "    .colab-df-convert {\n",
              "      background-color: #E8F0FE;\n",
              "      border: none;\n",
              "      border-radius: 50%;\n",
              "      cursor: pointer;\n",
              "      display: none;\n",
              "      fill: #1967D2;\n",
              "      height: 32px;\n",
              "      padding: 0 0 0 0;\n",
              "      width: 32px;\n",
              "    }\n",
              "\n",
              "    .colab-df-convert:hover {\n",
              "      background-color: #E2EBFA;\n",
              "      box-shadow: 0px 1px 2px rgba(60, 64, 67, 0.3), 0px 1px 3px 1px rgba(60, 64, 67, 0.15);\n",
              "      fill: #174EA6;\n",
              "    }\n",
              "\n",
              "    .colab-df-buttons div {\n",
              "      margin-bottom: 4px;\n",
              "    }\n",
              "\n",
              "    [theme=dark] .colab-df-convert {\n",
              "      background-color: #3B4455;\n",
              "      fill: #D2E3FC;\n",
              "    }\n",
              "\n",
              "    [theme=dark] .colab-df-convert:hover {\n",
              "      background-color: #434B5C;\n",
              "      box-shadow: 0px 1px 3px 1px rgba(0, 0, 0, 0.15);\n",
              "      filter: drop-shadow(0px 1px 2px rgba(0, 0, 0, 0.3));\n",
              "      fill: #FFFFFF;\n",
              "    }\n",
              "  </style>\n",
              "\n",
              "    <script>\n",
              "      const buttonEl =\n",
              "        document.querySelector('#df-2f469299-4946-49a5-8448-77bc14433a70 button.colab-df-convert');\n",
              "      buttonEl.style.display =\n",
              "        google.colab.kernel.accessAllowed ? 'block' : 'none';\n",
              "\n",
              "      async function convertToInteractive(key) {\n",
              "        const element = document.querySelector('#df-2f469299-4946-49a5-8448-77bc14433a70');\n",
              "        const dataTable =\n",
              "          await google.colab.kernel.invokeFunction('convertToInteractive',\n",
              "                                                    [key], {});\n",
              "        if (!dataTable) return;\n",
              "\n",
              "        const docLinkHtml = 'Like what you see? Visit the ' +\n",
              "          '<a target=\"_blank\" href=https://colab.research.google.com/notebooks/data_table.ipynb>data table notebook</a>'\n",
              "          + ' to learn more about interactive tables.';\n",
              "        element.innerHTML = '';\n",
              "        dataTable['output_type'] = 'display_data';\n",
              "        await google.colab.output.renderOutput(dataTable, element);\n",
              "        const docLink = document.createElement('div');\n",
              "        docLink.innerHTML = docLinkHtml;\n",
              "        element.appendChild(docLink);\n",
              "      }\n",
              "    </script>\n",
              "  </div>\n",
              "\n",
              "\n",
              "<div id=\"df-60de3faa-b2c0-47cd-b989-db0e7539b160\">\n",
              "  <button class=\"colab-df-quickchart\" onclick=\"quickchart('df-60de3faa-b2c0-47cd-b989-db0e7539b160')\"\n",
              "            title=\"Suggest charts\"\n",
              "            style=\"display:none;\">\n",
              "\n",
              "<svg xmlns=\"http://www.w3.org/2000/svg\" height=\"24px\"viewBox=\"0 0 24 24\"\n",
              "     width=\"24px\">\n",
              "    <g>\n",
              "        <path d=\"M19 3H5c-1.1 0-2 .9-2 2v14c0 1.1.9 2 2 2h14c1.1 0 2-.9 2-2V5c0-1.1-.9-2-2-2zM9 17H7v-7h2v7zm4 0h-2V7h2v10zm4 0h-2v-4h2v4z\"/>\n",
              "    </g>\n",
              "</svg>\n",
              "  </button>\n",
              "\n",
              "<style>\n",
              "  .colab-df-quickchart {\n",
              "      --bg-color: #E8F0FE;\n",
              "      --fill-color: #1967D2;\n",
              "      --hover-bg-color: #E2EBFA;\n",
              "      --hover-fill-color: #174EA6;\n",
              "      --disabled-fill-color: #AAA;\n",
              "      --disabled-bg-color: #DDD;\n",
              "  }\n",
              "\n",
              "  [theme=dark] .colab-df-quickchart {\n",
              "      --bg-color: #3B4455;\n",
              "      --fill-color: #D2E3FC;\n",
              "      --hover-bg-color: #434B5C;\n",
              "      --hover-fill-color: #FFFFFF;\n",
              "      --disabled-bg-color: #3B4455;\n",
              "      --disabled-fill-color: #666;\n",
              "  }\n",
              "\n",
              "  .colab-df-quickchart {\n",
              "    background-color: var(--bg-color);\n",
              "    border: none;\n",
              "    border-radius: 50%;\n",
              "    cursor: pointer;\n",
              "    display: none;\n",
              "    fill: var(--fill-color);\n",
              "    height: 32px;\n",
              "    padding: 0;\n",
              "    width: 32px;\n",
              "  }\n",
              "\n",
              "  .colab-df-quickchart:hover {\n",
              "    background-color: var(--hover-bg-color);\n",
              "    box-shadow: 0 1px 2px rgba(60, 64, 67, 0.3), 0 1px 3px 1px rgba(60, 64, 67, 0.15);\n",
              "    fill: var(--button-hover-fill-color);\n",
              "  }\n",
              "\n",
              "  .colab-df-quickchart-complete:disabled,\n",
              "  .colab-df-quickchart-complete:disabled:hover {\n",
              "    background-color: var(--disabled-bg-color);\n",
              "    fill: var(--disabled-fill-color);\n",
              "    box-shadow: none;\n",
              "  }\n",
              "\n",
              "  .colab-df-spinner {\n",
              "    border: 2px solid var(--fill-color);\n",
              "    border-color: transparent;\n",
              "    border-bottom-color: var(--fill-color);\n",
              "    animation:\n",
              "      spin 1s steps(1) infinite;\n",
              "  }\n",
              "\n",
              "  @keyframes spin {\n",
              "    0% {\n",
              "      border-color: transparent;\n",
              "      border-bottom-color: var(--fill-color);\n",
              "      border-left-color: var(--fill-color);\n",
              "    }\n",
              "    20% {\n",
              "      border-color: transparent;\n",
              "      border-left-color: var(--fill-color);\n",
              "      border-top-color: var(--fill-color);\n",
              "    }\n",
              "    30% {\n",
              "      border-color: transparent;\n",
              "      border-left-color: var(--fill-color);\n",
              "      border-top-color: var(--fill-color);\n",
              "      border-right-color: var(--fill-color);\n",
              "    }\n",
              "    40% {\n",
              "      border-color: transparent;\n",
              "      border-right-color: var(--fill-color);\n",
              "      border-top-color: var(--fill-color);\n",
              "    }\n",
              "    60% {\n",
              "      border-color: transparent;\n",
              "      border-right-color: var(--fill-color);\n",
              "    }\n",
              "    80% {\n",
              "      border-color: transparent;\n",
              "      border-right-color: var(--fill-color);\n",
              "      border-bottom-color: var(--fill-color);\n",
              "    }\n",
              "    90% {\n",
              "      border-color: transparent;\n",
              "      border-bottom-color: var(--fill-color);\n",
              "    }\n",
              "  }\n",
              "</style>\n",
              "\n",
              "  <script>\n",
              "    async function quickchart(key) {\n",
              "      const quickchartButtonEl =\n",
              "        document.querySelector('#' + key + ' button');\n",
              "      quickchartButtonEl.disabled = true;  // To prevent multiple clicks.\n",
              "      quickchartButtonEl.classList.add('colab-df-spinner');\n",
              "      try {\n",
              "        const charts = await google.colab.kernel.invokeFunction(\n",
              "            'suggestCharts', [key], {});\n",
              "      } catch (error) {\n",
              "        console.error('Error during call to suggestCharts:', error);\n",
              "      }\n",
              "      quickchartButtonEl.classList.remove('colab-df-spinner');\n",
              "      quickchartButtonEl.classList.add('colab-df-quickchart-complete');\n",
              "    }\n",
              "    (() => {\n",
              "      let quickchartButtonEl =\n",
              "        document.querySelector('#df-60de3faa-b2c0-47cd-b989-db0e7539b160 button');\n",
              "      quickchartButtonEl.style.display =\n",
              "        google.colab.kernel.accessAllowed ? 'block' : 'none';\n",
              "    })();\n",
              "  </script>\n",
              "</div>\n",
              "\n",
              "    </div>\n",
              "  </div>\n"
            ],
            "application/vnd.google.colaboratory.intrinsic+json": {
              "type": "dataframe",
              "variable_name": "data_df"
            }
          },
          "metadata": {},
          "execution_count": 72
        }
      ]
    },
    {
      "cell_type": "code",
      "source": [
        "data_df.info()"
      ],
      "metadata": {
        "colab": {
          "base_uri": "https://localhost:8080/"
        },
        "id": "VJD4JtE6n-Tp",
        "outputId": "e03c11ca-812d-436b-e307-786a5cce0614"
      },
      "execution_count": null,
      "outputs": [
        {
          "output_type": "stream",
          "name": "stdout",
          "text": [
            "<class 'pandas.core.frame.DataFrame'>\n",
            "RangeIndex: 2000 entries, 0 to 1999\n",
            "Data columns (total 97 columns):\n",
            " #   Column                               Non-Null Count  Dtype  \n",
            "---  ------                               --------------  -----  \n",
            " 0   UserId                               2000 non-null   int64  \n",
            " 1   Q120                                 2000 non-null   object \n",
            " 2   MainBranch                           2000 non-null   object \n",
            " 3   Age                                  2000 non-null   object \n",
            " 4   Employment                           1999 non-null   object \n",
            " 5   RemoteWork                           1656 non-null   object \n",
            " 6   CodingActivities                     1655 non-null   object \n",
            " 7   EdLevel                              2000 non-null   object \n",
            " 8   LearnCode                            2000 non-null   object \n",
            " 9   LearnCodeOnline                      2000 non-null   object \n",
            " 10  LearnCodeCoursesCert                 880 non-null    object \n",
            " 11  YearsCode                            1991 non-null   object \n",
            " 12  YearsCodePro                         1493 non-null   object \n",
            " 13  DevType                              1741 non-null   object \n",
            " 14  OrgSize                              1473 non-null   object \n",
            " 15  PurchaseInfluence                    1469 non-null   object \n",
            " 16  TechList                             1410 non-null   object \n",
            " 17  BuyNewTool                           1897 non-null   object \n",
            " 18  Country                              2000 non-null   object \n",
            " 19  Currency                             1474 non-null   object \n",
            " 20  CompTotal                            1102 non-null   float64\n",
            " 21  LanguageHaveWorkedWith               1987 non-null   object \n",
            " 22  LanguageWantToWorkWith               1885 non-null   object \n",
            " 23  DatabaseHaveWorkedWith               1690 non-null   object \n",
            " 24  DatabaseWantToWorkWith               1410 non-null   object \n",
            " 25  PlatformHaveWorkedWith               1463 non-null   object \n",
            " 26  PlatformWantToWorkWith               1202 non-null   object \n",
            " 27  WebframeHaveWorkedWith               1561 non-null   object \n",
            " 28  WebframeWantToWorkWith               1361 non-null   object \n",
            " 29  MiscTechHaveWorkedWith               1265 non-null   object \n",
            " 30  MiscTechWantToWorkWith               1059 non-null   object \n",
            " 31  ToolsTechHaveWorkedWith              1831 non-null   object \n",
            " 32  ToolsTechWantToWorkWith              1633 non-null   object \n",
            " 33  NEWCollabToolsHaveWorkedWith         1971 non-null   object \n",
            " 34  NEWCollabToolsWantToWorkWith         1807 non-null   object \n",
            " 35  OpSysPersonal use                    1974 non-null   object \n",
            " 36  OpSysProfessional use                1854 non-null   object \n",
            " 37  OfficeStackAsyncHaveWorkedWith       1608 non-null   object \n",
            " 38  OfficeStackAsyncWantToWorkWith       1293 non-null   object \n",
            " 39  OfficeStackSyncHaveWorkedWith        1912 non-null   object \n",
            " 40  OfficeStackSyncWantToWorkWith        1651 non-null   object \n",
            " 41  AISearchHaveWorkedWith               1323 non-null   object \n",
            " 42  AISearchWantToWorkWith               1126 non-null   object \n",
            " 43  AIDevHaveWorkedWith                  617 non-null    object \n",
            " 44  AIDevWantToWorkWith                  486 non-null    object \n",
            " 45  NEWSOSites                           2000 non-null   object \n",
            " 46  SOVisitFreq                          1992 non-null   object \n",
            " 47  SOAccount                            1999 non-null   object \n",
            " 48  SOPartFreq                           1487 non-null   object \n",
            " 49  SOComm                               1996 non-null   object \n",
            " 50  SOAI                                 1087 non-null   object \n",
            " 51  AISelect                             2000 non-null   object \n",
            " 52  AISent                               1434 non-null   object \n",
            " 53  AIAcc                                887 non-null    object \n",
            " 54  AIBen                                1432 non-null   object \n",
            " 55  AIToolInterested in Using            749 non-null    object \n",
            " 56  AIToolCurrently Using                837 non-null    object \n",
            " 57  AIToolNot interested in Using        492 non-null    object \n",
            " 58  AINextVery different                 303 non-null    object \n",
            " 59  AINextNeither different nor similar  168 non-null    object \n",
            " 60  AINextSomewhat similar               135 non-null    object \n",
            " 61  AINextVery similar                   60 non-null     object \n",
            " 62  AINextSomewhat different             542 non-null    object \n",
            " 63  TBranch                              1468 non-null   object \n",
            " 64  ICorPM                               978 non-null    object \n",
            " 65  WorkExp                              976 non-null    float64\n",
            " 66  Knowledge_1                          954 non-null    object \n",
            " 67  Knowledge_2                          935 non-null    object \n",
            " 68  Knowledge_3                          941 non-null    object \n",
            " 69  Knowledge_4                          942 non-null    object \n",
            " 70  Knowledge_5                          939 non-null    object \n",
            " 71  Knowledge_6                          939 non-null    object \n",
            " 72  Knowledge_7                          937 non-null    object \n",
            " 73  Knowledge_8                          935 non-null    object \n",
            " 74  Frequency_1                          943 non-null    object \n",
            " 75  Frequency_2                          943 non-null    object \n",
            " 76  Frequency_3                          928 non-null    object \n",
            " 77  TimeSearching                        959 non-null    object \n",
            " 78  TimeAnswering                        959 non-null    object \n",
            " 79  ProfessionalTech                     939 non-null    object \n",
            " 80  Industry                             847 non-null    object \n",
            " 81  SurveyLength                         1981 non-null   object \n",
            " 82  SurveyEase                           1984 non-null   object \n",
            " 83  ConvertedCompYearly                  1098 non-null   float64\n",
            " 84  Tech_Features_Merged                 2000 non-null   object \n",
            " 85  processed_text                       2000 non-null   object \n",
            " 86  user_embeddings                      2000 non-null   object \n",
            " 87  top1_id                              2000 non-null   int64  \n",
            " 88  top1_score                           2000 non-null   float64\n",
            " 89  top2_id                              2000 non-null   int64  \n",
            " 90  top2_score                           2000 non-null   float64\n",
            " 91  bottom1_id                           2000 non-null   int64  \n",
            " 92  bottom1_score                        2000 non-null   float64\n",
            " 93  bottom2_id                           2000 non-null   int64  \n",
            " 94  bottom2_score                        2000 non-null   float64\n",
            " 95  Input_Merged                         2000 non-null   object \n",
            " 96  embeddings                           2000 non-null   object \n",
            "dtypes: float64(7), int64(5), object(85)\n",
            "memory usage: 1.5+ MB\n"
          ]
        }
      ]
    },
    {
      "cell_type": "code",
      "source": [
        "import pandas as pd\n",
        "from sklearn.model_selection import train_test_split\n",
        "\n",
        "# reshaped_df = pd.DataFrame()\n",
        "reshaped_list = []\n",
        "job_types = ['top1', 'top2', 'bottom1', 'bottom2']\n",
        "\n",
        "for idx, row in data_df.iterrows():\n",
        "    for job_type in job_types:\n",
        "        job_id = row[f'{job_type}_id']\n",
        "        score = row[f'{job_type}_score']\n",
        "        reshaped_list.append({\n",
        "            'userID': row['UserId'],\n",
        "            'itemID': job_id,\n",
        "            'embeddings': row['embeddings'],\n",
        "            'rating': score\n",
        "        })\n",
        "\n",
        "reshaped_df = pd.DataFrame(reshaped_list)\n",
        "\n",
        "reshaped_df['userID'] = reshaped_df['userID'].astype(int)\n",
        "reshaped_df['itemID'] = reshaped_df['itemID'].astype(int)\n",
        "reshaped_df['rating'] = reshaped_df['rating'].astype(float)"
      ],
      "metadata": {
        "id": "XIQaLrhomVv-"
      },
      "execution_count": null,
      "outputs": []
    },
    {
      "cell_type": "code",
      "source": [
        "print(reshaped_df.head(3))"
      ],
      "metadata": {
        "colab": {
          "base_uri": "https://localhost:8080/"
        },
        "id": "-QNVKIYfqHZN",
        "outputId": "231d9fe6-bc2d-4983-def8-1db4280ff9db"
      },
      "execution_count": null,
      "outputs": [
        {
          "output_type": "stream",
          "name": "stdout",
          "text": [
            "   userID  itemID                                         embeddings    rating\n",
            "0   41504   10740  [-1.78260654e-02 -8.13032761e-02 -5.13622612e-...  0.638643\n",
            "1   41504    3778  [-1.78260654e-02 -8.13032761e-02 -5.13622612e-...  0.565087\n",
            "2   41504    1873  [-1.78260654e-02 -8.13032761e-02 -5.13622612e-... -0.007485\n"
          ]
        }
      ]
    },
    {
      "cell_type": "code",
      "source": [
        "X = reshaped_df[['userID', 'itemID']]  # Features\n",
        "y = reshaped_df['rating']  # Target variable\n",
        "X_train, X_test, y_train, y_test = train_test_split(X, y, test_size=0.2, random_state=42)"
      ],
      "metadata": {
        "id": "v6BhCc4bqUhS"
      },
      "execution_count": null,
      "outputs": []
    },
    {
      "cell_type": "code",
      "source": [
        "train_df = pd.DataFrame(X_train)\n",
        "train_df['rating'] = y_train\n",
        "train_df = train_df.sort_values(by='userID')\n",
        "\n",
        "test_df = pd.DataFrame(X_test)\n",
        "test_df['rating'] = y_test\n",
        "filtered_test_df = test_df[\n",
        "    (test_df['userID'].isin(train_df['userID'].unique())) &\n",
        "    (test_df['itemID'].isin(train_df['itemID'].unique()))\n",
        "]"
      ],
      "metadata": {
        "id": "o6y7hexxr-D3"
      },
      "execution_count": null,
      "outputs": []
    },
    {
      "cell_type": "code",
      "source": [
        "filtered_test_df.info()\n",
        "filtered_test_df = filtered_test_df.sort_values(by='userID')"
      ],
      "metadata": {
        "colab": {
          "base_uri": "https://localhost:8080/"
        },
        "id": "_Dzr3Dd-sFre",
        "outputId": "7d0f1e2b-7f30-4434-d631-33ede6bde02f"
      },
      "execution_count": null,
      "outputs": [
        {
          "output_type": "stream",
          "name": "stdout",
          "text": [
            "<class 'pandas.core.frame.DataFrame'>\n",
            "Index: 1541 entries, 2215 to 6832\n",
            "Data columns (total 3 columns):\n",
            " #   Column  Non-Null Count  Dtype  \n",
            "---  ------  --------------  -----  \n",
            " 0   userID  1541 non-null   int64  \n",
            " 1   itemID  1541 non-null   int64  \n",
            " 2   rating  1541 non-null   float64\n",
            "dtypes: float64(1), int64(2)\n",
            "memory usage: 48.2 KB\n"
          ]
        }
      ]
    },
    {
      "cell_type": "code",
      "source": [
        "leave_one_out_test = filtered_test_df.groupby('userID').head(1)\n",
        "rest_of_interactions = filtered_test_df.groupby('userID').apply(lambda x: x.iloc[1:]).reset_index(drop=True)\n",
        "train_df = pd.concat([train_df, rest_of_interactions])\n",
        "train_df = train_df.sort_values(by='userID')\n"
      ],
      "metadata": {
        "id": "3OpN2SnS-fpd"
      },
      "execution_count": null,
      "outputs": []
    },
    {
      "cell_type": "code",
      "source": [
        "train_file = \"./ncf_train_file_0.csv.csv\"\n",
        "leave_one_out_test_file = \"./ncf_test_file_0.csv\"\n",
        "\n",
        "train_df.to_csv(train_file, index=False)\n",
        "leave_one_out_test.to_csv(leave_one_out_test_file , index=False)"
      ],
      "metadata": {
        "id": "zzKGyZOesQvL"
      },
      "execution_count": null,
      "outputs": []
    },
    {
      "cell_type": "code",
      "source": [
        "train_df.info()"
      ],
      "metadata": {
        "colab": {
          "base_uri": "https://localhost:8080/"
        },
        "id": "KnK4wif_2LlJ",
        "outputId": "9419fcd5-98c7-4d0a-9157-0cecfcc010e4"
      },
      "execution_count": null,
      "outputs": [
        {
          "output_type": "stream",
          "name": "stdout",
          "text": [
            "<class 'pandas.core.frame.DataFrame'>\n",
            "Index: 6799 entries, 4687 to 6975\n",
            "Data columns (total 3 columns):\n",
            " #   Column  Non-Null Count  Dtype  \n",
            "---  ------  --------------  -----  \n",
            " 0   userID  6799 non-null   int64  \n",
            " 1   itemID  6799 non-null   int64  \n",
            " 2   rating  6799 non-null   float64\n",
            "dtypes: float64(1), int64(2)\n",
            "memory usage: 212.5 KB\n"
          ]
        }
      ]
    },
    {
      "cell_type": "code",
      "source": [
        "leave_one_out_test.info()"
      ],
      "metadata": {
        "colab": {
          "base_uri": "https://localhost:8080/"
        },
        "id": "996RKrIZ2QZ8",
        "outputId": "5a7a1605-3dde-4bf7-97eb-19514f013cb4"
      },
      "execution_count": null,
      "outputs": [
        {
          "output_type": "stream",
          "name": "stdout",
          "text": [
            "<class 'pandas.core.frame.DataFrame'>\n",
            "Index: 1142 entries, 4686 to 6972\n",
            "Data columns (total 3 columns):\n",
            " #   Column  Non-Null Count  Dtype  \n",
            "---  ------  --------------  -----  \n",
            " 0   userID  1142 non-null   int64  \n",
            " 1   itemID  1142 non-null   int64  \n",
            " 2   rating  1142 non-null   float64\n",
            "dtypes: float64(1), int64(2)\n",
            "memory usage: 35.7 KB\n"
          ]
        }
      ]
    },
    {
      "cell_type": "code",
      "source": [
        "EPOCHS = 25\n",
        "BATCH_SIZE = 256\n",
        "SEED = 42\n",
        "\n",
        "data = NCFDataset(train_file=train_file, test_file=leave_one_out_test_file, seed=SEED, overwrite_test_file_full=True)"
      ],
      "metadata": {
        "colab": {
          "base_uri": "https://localhost:8080/"
        },
        "id": "o2mc3b-zsZGE",
        "outputId": "b369ec5d-c435-4718-f2b5-bfb5472d0f60"
      },
      "execution_count": null,
      "outputs": [
        {
          "output_type": "stream",
          "name": "stderr",
          "text": [
            "100%|██████████| 1142/1142 [00:11<00:00, 95.41it/s]\n"
          ]
        }
      ]
    },
    {
      "cell_type": "code",
      "source": [
        "model_1 = NCF(\n",
        "    n_users=50000,\n",
        "    n_items=22000,\n",
        "    model_type=\"NeuMF\",\n",
        "    n_factors=4,\n",
        "    layer_sizes=[16, 8, 4],\n",
        "    n_epochs=EPOCHS,\n",
        "    batch_size=BATCH_SIZE,\n",
        "    learning_rate=1e-3,\n",
        "    verbose=10,\n",
        "    seed=SEED\n",
        ")"
      ],
      "metadata": {
        "id": "ylY-Cvpj0D7w"
      },
      "execution_count": null,
      "outputs": []
    },
    {
      "cell_type": "code",
      "source": [
        "with Timer() as train_time:\n",
        "    model_1.fit(data)\n",
        "\n",
        "print(\"Took {} seconds for training.\".format(train_time.interval))"
      ],
      "metadata": {
        "colab": {
          "base_uri": "https://localhost:8080/"
        },
        "id": "IinH0Vhq0tZO",
        "outputId": "795750af-3aa0-4022-caa2-1f8f3d294f1f"
      },
      "execution_count": null,
      "outputs": [
        {
          "output_type": "stream",
          "name": "stdout",
          "text": [
            "Took 249.85612845700052 seconds for training.\n"
          ]
        }
      ]
    },
    {
      "cell_type": "code",
      "source": [
        "# predictions = [[row.userID, row.itemID, model.predict(row.userID, row.itemID)]\n",
        "#                for (_, row) in filtered_test_df.iterrows()]\n",
        "global_average = train_df['rating'].mean()\n",
        "predictions = []\n",
        "for (_, row) in reshaped_df.iterrows():\n",
        "    user_id = row.userID\n",
        "    item_id = row.itemID\n",
        "    # Check if both user and item are known from the training phase\n",
        "    if user_id in model_1.user2id and item_id in model_1.item2id:\n",
        "        prediction = model_1.predict(user_id, item_id)\n",
        "    else:\n",
        "        prediction = global_average\n",
        "    predictions.append([user_id, item_id, prediction])\n",
        "\n",
        "\n",
        "predictions_df = pd.DataFrame(predictions, columns=['userID', 'itemID', 'prediction'])"
      ],
      "metadata": {
        "id": "srPlSxy7Oa5_"
      },
      "execution_count": null,
      "outputs": []
    },
    {
      "cell_type": "code",
      "source": [
        "result_df = pd.merge(reshaped_df, predictions_df, on=['userID', 'itemID'], how='left')"
      ],
      "metadata": {
        "id": "nEUNkXjtQ_QS"
      },
      "execution_count": null,
      "outputs": []
    },
    {
      "cell_type": "code",
      "source": [
        "print(result_df.head(10))"
      ],
      "metadata": {
        "colab": {
          "base_uri": "https://localhost:8080/"
        },
        "id": "otTWi-7TP_Yc",
        "outputId": "923d3875-ff17-42b5-d19c-14197c8ae8e0"
      },
      "execution_count": null,
      "outputs": [
        {
          "output_type": "stream",
          "name": "stdout",
          "text": [
            "   userID  itemID                                         embeddings  \\\n",
            "0   41504   10740  [-1.78260654e-02 -8.13032761e-02 -5.13622612e-...   \n",
            "1   41504    3778  [-1.78260654e-02 -8.13032761e-02 -5.13622612e-...   \n",
            "2   41504    1873  [-1.78260654e-02 -8.13032761e-02 -5.13622612e-...   \n",
            "3   41504   16138  [-1.78260654e-02 -8.13032761e-02 -5.13622612e-...   \n",
            "4   21778   10497  [-6.85331179e-03 -6.82291240e-02 -4.92867678e-...   \n",
            "5   21778     469  [-6.85331179e-03 -6.82291240e-02 -4.92867678e-...   \n",
            "6   21778   15923  [-6.85331179e-03 -6.82291240e-02 -4.92867678e-...   \n",
            "7   21778   12372  [-6.85331179e-03 -6.82291240e-02 -4.92867678e-...   \n",
            "8   47054     673  [-5.27353063e-02 -4.61720899e-02  8.59866943e-...   \n",
            "9   47054   10740  [-5.27353063e-02 -4.61720899e-02  8.59866943e-...   \n",
            "\n",
            "     rating  prediction  \n",
            "0  0.638643    0.796670  \n",
            "1  0.565087    0.793722  \n",
            "2 -0.007485    0.033334  \n",
            "3  0.016606    0.768523  \n",
            "4  0.635020    0.980841  \n",
            "5  0.529684    0.852716  \n",
            "6 -0.021622    0.000216  \n",
            "7 -0.009894    0.000197  \n",
            "8  0.631075    0.888299  \n",
            "9  0.589067    0.880653  \n"
          ]
        }
      ]
    },
    {
      "cell_type": "code",
      "source": [
        "jobs_df = pd.read_csv('JobsWithInput.csv')\n"
      ],
      "metadata": {
        "id": "7mUPMXdsGhwW"
      },
      "execution_count": null,
      "outputs": []
    },
    {
      "cell_type": "code",
      "source": [
        "result_df['itemID'] = result_df['itemID'].astype(int)\n",
        "jobs_df['JobId'] = jobs_df['JobId'].astype(int)\n",
        "jobs_df['jobs_embeddings'] = jobs_df['embeddings']\n",
        "merged_df = pd.merge(result_df, jobs_df[['JobId', 'jobs_embeddings']], left_on='itemID', right_on='JobId', how='left')\n",
        "print(merged_df)"
      ],
      "metadata": {
        "colab": {
          "base_uri": "https://localhost:8080/"
        },
        "id": "tHENUQDRJuBA",
        "outputId": "b129dd0e-1e29-4c0d-c82a-df62ca4ceb36"
      },
      "execution_count": null,
      "outputs": [
        {
          "output_type": "stream",
          "name": "stdout",
          "text": [
            "      userID  itemID                                         embeddings  \\\n",
            "0      41504   10740  [-1.78260654e-02 -8.13032761e-02 -5.13622612e-...   \n",
            "1      41504    3778  [-1.78260654e-02 -8.13032761e-02 -5.13622612e-...   \n",
            "2      41504    1873  [-1.78260654e-02 -8.13032761e-02 -5.13622612e-...   \n",
            "3      41504   16138  [-1.78260654e-02 -8.13032761e-02 -5.13622612e-...   \n",
            "4      21778   10497  [-6.85331179e-03 -6.82291240e-02 -4.92867678e-...   \n",
            "...      ...     ...                                                ...   \n",
            "8895   35569    2970  [-4.69129644e-02 -9.12079737e-02  1.03325062e-...   \n",
            "8896   41470   17582  [-6.39124494e-03 -7.74837658e-02  7.68335611e-...   \n",
            "8897   41470   18070  [-6.39124494e-03 -7.74837658e-02  7.68335611e-...   \n",
            "8898   41470   17827  [-6.39124494e-03 -7.74837658e-02  7.68335611e-...   \n",
            "8899   41470   15440  [-6.39124494e-03 -7.74837658e-02  7.68335611e-...   \n",
            "\n",
            "        rating  prediction  JobId  \\\n",
            "0     0.638643    0.796670  10740   \n",
            "1     0.565087    0.793722   3778   \n",
            "2    -0.007485    0.033334   1873   \n",
            "3     0.016606    0.768523  16138   \n",
            "4     0.635020    0.980841  10497   \n",
            "...        ...         ...    ...   \n",
            "8895 -0.113928    0.000653   2970   \n",
            "8896  0.189976    0.490789  17582   \n",
            "8897  0.175293    0.487971  18070   \n",
            "8898 -0.144693    0.000487  17827   \n",
            "8899 -0.144344    0.073725  15440   \n",
            "\n",
            "                                        jobs_embeddings  \n",
            "0     [ 5.82158798e-03 -7.43502527e-02  6.51659146e-...  \n",
            "1     [-1.17337160e-01 -1.86136123e-02  5.30518824e-...  \n",
            "2     [-2.78634913e-02  7.94326141e-03  2.22462863e-...  \n",
            "3     [-5.36842048e-02  1.80093758e-02 -2.29760576e-...  \n",
            "4     [-8.52544308e-02 -5.47007620e-02 -6.42168242e-...  \n",
            "...                                                 ...  \n",
            "8895  [-4.95913774e-02 -5.64730540e-02  1.99776404e-...  \n",
            "8896  [-1.10879645e-01 -1.61584131e-02  2.43843459e-...  \n",
            "8897  [-6.56964257e-02  1.33094387e-02 -1.99162662e-...  \n",
            "8898  [-7.94881433e-02  5.16003072e-02 -8.80547892e-...  \n",
            "8899  [-5.81533052e-02 -2.91663734e-03  6.81368960e-...  \n",
            "\n",
            "[8900 rows x 7 columns]\n"
          ]
        }
      ]
    },
    {
      "cell_type": "code",
      "source": [
        "import torch\n",
        "import torch.nn as nn\n",
        "from torch.utils.data import Dataset, DataLoader\n",
        "import numpy as np\n",
        "import pandas as pd\n",
        "\n",
        "def convert_str_to_array(embed_str):\n",
        "    embed_str = embed_str[1:-1]\n",
        "    str_nums = embed_str.strip().split()\n",
        "    return np.array([float(num) for num in str_nums if num], dtype=float)\n",
        "\n",
        "merged_df['embeddings'] = merged_df['embeddings'].apply(convert_str_to_array)\n",
        "merged_df['jobs_embeddings'] = merged_df['jobs_embeddings'].apply(convert_str_to_array)\n",
        "\n",
        "embeddings_stack = np.vstack(merged_df['embeddings'].values)\n",
        "jobs_embeddings_stack = np.vstack(merged_df['jobs_embeddings'].values)\n",
        "predictions = merged_df['prediction'].values[:, None]\n",
        "\n",
        "X = np.hstack([embeddings_stack, jobs_embeddings_stack, predictions])\n",
        "X = torch.tensor(X, dtype=torch.float)\n",
        "y = torch.tensor(result_df['rating'].values, dtype=torch.float)"
      ],
      "metadata": {
        "id": "B9h3CotwQGGg"
      },
      "execution_count": null,
      "outputs": []
    },
    {
      "cell_type": "code",
      "source": [
        "print(X)"
      ],
      "metadata": {
        "colab": {
          "base_uri": "https://localhost:8080/"
        },
        "id": "zKbn_qVN2_68",
        "outputId": "1ae1d8b7-043e-4426-8127-b31f73a3fe11"
      },
      "execution_count": null,
      "outputs": [
        {
          "output_type": "stream",
          "name": "stdout",
          "text": [
            "tensor([[-1.7826e-02, -8.1303e-02, -5.1362e-02,  ..., -3.2662e-03,\n",
            "          7.9262e-02,  7.9667e-01],\n",
            "        [-1.7826e-02, -8.1303e-02, -5.1362e-02,  ..., -3.2662e-03,\n",
            "          7.9262e-02,  7.9372e-01],\n",
            "        [-1.7826e-02, -8.1303e-02, -5.1362e-02,  ..., -3.2662e-03,\n",
            "          7.9262e-02,  3.3334e-02],\n",
            "        ...,\n",
            "        [-6.3912e-03, -7.7484e-02,  7.6834e-02,  ..., -6.9407e-02,\n",
            "         -1.9994e-02,  4.8797e-01],\n",
            "        [-6.3912e-03, -7.7484e-02,  7.6834e-02,  ..., -6.9407e-02,\n",
            "         -1.9994e-02,  4.8711e-04],\n",
            "        [-6.3912e-03, -7.7484e-02,  7.6834e-02,  ..., -6.9407e-02,\n",
            "         -1.9994e-02,  7.3725e-02]])\n"
          ]
        }
      ]
    },
    {
      "cell_type": "code",
      "source": [
        "print(y)"
      ],
      "metadata": {
        "colab": {
          "base_uri": "https://localhost:8080/"
        },
        "id": "eLzNYD9J4eB1",
        "outputId": "ee5bce2c-4a1d-421d-c7da-a2c8109da287"
      },
      "execution_count": null,
      "outputs": [
        {
          "output_type": "stream",
          "name": "stdout",
          "text": [
            "tensor([ 0.6386,  0.5651, -0.0075,  ...,  0.1753, -0.1447, -0.1443])\n"
          ]
        }
      ]
    },
    {
      "cell_type": "code",
      "source": [
        "print(len(X[0]))"
      ],
      "metadata": {
        "colab": {
          "base_uri": "https://localhost:8080/"
        },
        "id": "cJj9x4ibNNm-",
        "outputId": "d7fba609-d563-43c7-b483-8d81ff84499a"
      },
      "execution_count": null,
      "outputs": [
        {
          "output_type": "stream",
          "name": "stdout",
          "text": [
            "769\n"
          ]
        }
      ]
    },
    {
      "cell_type": "code",
      "source": [
        "class RatingDataset(Dataset):\n",
        "    def __init__(self, features, targets):\n",
        "        self.features = features\n",
        "        self.targets = targets\n",
        "\n",
        "    def __len__(self):\n",
        "        return len(self.targets)\n",
        "\n",
        "    def __getitem__(self, idx):\n",
        "        return self.features[idx], self.targets[idx]"
      ],
      "metadata": {
        "id": "6UKo2x8kR-YO"
      },
      "execution_count": null,
      "outputs": []
    },
    {
      "cell_type": "code",
      "source": [
        "dataset = RatingDataset(X, y)\n",
        "dataloader = DataLoader(dataset, batch_size=2, shuffle=True)"
      ],
      "metadata": {
        "id": "eJWOl5z7R-4I"
      },
      "execution_count": null,
      "outputs": []
    },
    {
      "cell_type": "code",
      "source": [
        "class MLP(nn.Module):\n",
        "    def __init__(self, input_size, output_size):\n",
        "        super(MLP, self).__init__()\n",
        "        self.layers = nn.Sequential(\n",
        "            nn.Linear(input_size, 64),\n",
        "            nn.ReLU(),\n",
        "            nn.Dropout(0.25),\n",
        "            nn.Linear(64, 32),\n",
        "            nn.ReLU(),\n",
        "            nn.Dropout(dropout_rate),\n",
        "            nn.Linear(32, output_size)\n",
        "        )\n",
        "\n",
        "    def forward(self, x):\n",
        "        return self.layers(x)"
      ],
      "metadata": {
        "id": "-0z-CYTaSFp7"
      },
      "execution_count": null,
      "outputs": []
    },
    {
      "cell_type": "code",
      "source": [
        "dropout_rate = 0.25\n",
        "model_2 = MLP(input_size=769, output_size=1)"
      ],
      "metadata": {
        "id": "gF0KrFJQSHFK"
      },
      "execution_count": null,
      "outputs": []
    },
    {
      "cell_type": "code",
      "source": [
        "optimizer = torch.optim.Adam(model_2.parameters(), lr=0.001)\n",
        "criterion = nn.MSELoss()\n",
        "\n",
        "epochs = 10\n",
        "for epoch in range(epochs):\n",
        "    model_2.train()\n",
        "    for inputs, targets in dataloader:\n",
        "        optimizer.zero_grad()\n",
        "        outputs = model_2(inputs)\n",
        "        loss = criterion(outputs.squeeze(), targets)\n",
        "        loss.backward()\n",
        "        optimizer.step()\n",
        "    print(f'Epoch {epoch+1}, Loss: {loss.item()}')"
      ],
      "metadata": {
        "colab": {
          "base_uri": "https://localhost:8080/"
        },
        "id": "f_HfTjviScrx",
        "outputId": "e24a88b1-aaa5-46f9-d1c9-08e80368d96f"
      },
      "execution_count": null,
      "outputs": [
        {
          "output_type": "stream",
          "name": "stdout",
          "text": [
            "Epoch 1, Loss: 0.00036235240986570716\n",
            "Epoch 2, Loss: 0.0016595158958807588\n",
            "Epoch 3, Loss: 0.00163693493232131\n",
            "Epoch 4, Loss: 0.0012191229034215212\n",
            "Epoch 5, Loss: 0.0074235606007277966\n",
            "Epoch 6, Loss: 0.001969831297174096\n",
            "Epoch 7, Loss: 0.019783519208431244\n",
            "Epoch 8, Loss: 0.011574897915124893\n",
            "Epoch 9, Loss: 0.0017250437522307038\n",
            "Epoch 10, Loss: 0.0044236863031983376\n"
          ]
        }
      ]
    },
    {
      "cell_type": "code",
      "source": [
        "testinginput_df = pd.read_csv('embedded_users_IdEncoded.csv')\n",
        "print(testinginput_df.info())\n",
        "\n",
        "# print(run(1,1,model_1, model_2))"
      ],
      "metadata": {
        "colab": {
          "base_uri": "https://localhost:8080/"
        },
        "id": "Bmw8IfyjYZR_",
        "outputId": "aec08412-689d-46d2-ea04-cdd17cdf595f"
      },
      "execution_count": null,
      "outputs": [
        {
          "output_type": "stream",
          "name": "stdout",
          "text": [
            "<class 'pandas.core.frame.DataFrame'>\n",
            "RangeIndex: 50000 entries, 0 to 49999\n",
            "Data columns (total 87 columns):\n",
            " #   Column                               Non-Null Count  Dtype  \n",
            "---  ------                               --------------  -----  \n",
            " 0   UserId                               50000 non-null  int64  \n",
            " 1   Q120                                 50000 non-null  object \n",
            " 2   MainBranch                           50000 non-null  object \n",
            " 3   Age                                  50000 non-null  object \n",
            " 4   Employment                           49967 non-null  object \n",
            " 5   RemoteWork                           41751 non-null  object \n",
            " 6   CodingActivities                     41725 non-null  object \n",
            " 7   EdLevel                              50000 non-null  object \n",
            " 8   LearnCode                            50000 non-null  object \n",
            " 9   LearnCodeOnline                      50000 non-null  object \n",
            " 10  LearnCodeCoursesCert                 22108 non-null  object \n",
            " 11  YearsCode                            49841 non-null  object \n",
            " 12  YearsCodePro                         37244 non-null  object \n",
            " 13  DevType                              43638 non-null  object \n",
            " 14  OrgSize                              36656 non-null  object \n",
            " 15  PurchaseInfluence                    36611 non-null  object \n",
            " 16  TechList                             34948 non-null  object \n",
            " 17  BuyNewTool                           47433 non-null  object \n",
            " 18  Country                              50000 non-null  object \n",
            " 19  Currency                             36743 non-null  object \n",
            " 20  CompTotal                            27627 non-null  float64\n",
            " 21  LanguageHaveWorkedWith               49756 non-null  object \n",
            " 22  LanguageWantToWorkWith               47359 non-null  object \n",
            " 23  DatabaseHaveWorkedWith               42106 non-null  object \n",
            " 24  DatabaseWantToWorkWith               35973 non-null  object \n",
            " 25  PlatformHaveWorkedWith               36620 non-null  object \n",
            " 26  PlatformWantToWorkWith               30375 non-null  object \n",
            " 27  WebframeHaveWorkedWith               38798 non-null  object \n",
            " 28  WebframeWantToWorkWith               33889 non-null  object \n",
            " 29  MiscTechHaveWorkedWith               32919 non-null  object \n",
            " 30  MiscTechWantToWorkWith               27817 non-null  object \n",
            " 31  ToolsTechHaveWorkedWith              45154 non-null  object \n",
            " 32  ToolsTechWantToWorkWith              40810 non-null  object \n",
            " 33  NEWCollabToolsHaveWorkedWith         49258 non-null  object \n",
            " 34  NEWCollabToolsWantToWorkWith         45284 non-null  object \n",
            " 35  OpSysPersonal use                    49498 non-null  object \n",
            " 36  OpSysProfessional use                46062 non-null  object \n",
            " 37  OfficeStackAsyncHaveWorkedWith       39938 non-null  object \n",
            " 38  OfficeStackAsyncWantToWorkWith       32001 non-null  object \n",
            " 39  OfficeStackSyncHaveWorkedWith        47900 non-null  object \n",
            " 40  OfficeStackSyncWantToWorkWith        41291 non-null  object \n",
            " 41  AISearchHaveWorkedWith               32870 non-null  object \n",
            " 42  AISearchWantToWorkWith               27724 non-null  object \n",
            " 43  AIDevHaveWorkedWith                  15191 non-null  object \n",
            " 44  AIDevWantToWorkWith                  11773 non-null  object \n",
            " 45  NEWSOSites                           50000 non-null  object \n",
            " 46  SOVisitFreq                          49698 non-null  object \n",
            " 47  SOAccount                            49961 non-null  object \n",
            " 48  SOPartFreq                           37921 non-null  object \n",
            " 49  SOComm                               49891 non-null  object \n",
            " 50  SOAI                                 27629 non-null  object \n",
            " 51  AISelect                             50000 non-null  object \n",
            " 52  AISent                               35408 non-null  object \n",
            " 53  AIAcc                                22448 non-null  object \n",
            " 54  AIBen                                35369 non-null  object \n",
            " 55  AIToolInterested in Using            19546 non-null  object \n",
            " 56  AIToolCurrently Using                21212 non-null  object \n",
            " 57  AIToolNot interested in Using        12577 non-null  object \n",
            " 58  AINextVery different                 7510 non-null   object \n",
            " 59  AINextNeither different nor similar  3818 non-null   object \n",
            " 60  AINextSomewhat similar               3698 non-null   object \n",
            " 61  AINextVery similar                   1518 non-null   object \n",
            " 62  AINextSomewhat different             13880 non-null  object \n",
            " 63  TBranch                              37033 non-null  object \n",
            " 64  ICorPM                               25299 non-null  object \n",
            " 65  WorkExp                              25269 non-null  float64\n",
            " 66  Knowledge_1                          24775 non-null  object \n",
            " 67  Knowledge_2                          24343 non-null  object \n",
            " 68  Knowledge_3                          24405 non-null  object \n",
            " 69  Knowledge_4                          24356 non-null  object \n",
            " 70  Knowledge_5                          24268 non-null  object \n",
            " 71  Knowledge_6                          24265 non-null  object \n",
            " 72  Knowledge_7                          24239 non-null  object \n",
            " 73  Knowledge_8                          24203 non-null  object \n",
            " 74  Frequency_1                          24405 non-null  object \n",
            " 75  Frequency_2                          24411 non-null  object \n",
            " 76  Frequency_3                          23925 non-null  object \n",
            " 77  TimeSearching                        24868 non-null  object \n",
            " 78  TimeAnswering                        24794 non-null  object \n",
            " 79  ProfessionalTech                     24318 non-null  object \n",
            " 80  Industry                             21440 non-null  object \n",
            " 81  SurveyLength                         49313 non-null  object \n",
            " 82  SurveyEase                           49402 non-null  object \n",
            " 83  ConvertedCompYearly                  27531 non-null  float64\n",
            " 84  Tech_Features_Merged                 50000 non-null  object \n",
            " 85  processed_text                       50000 non-null  object \n",
            " 86  user_embeddings                      50000 non-null  object \n",
            "dtypes: float64(3), int64(1), object(83)\n",
            "memory usage: 33.2+ MB\n",
            "None\n"
          ]
        }
      ]
    },
    {
      "cell_type": "code",
      "source": [
        "testinginput_df.head(3)\n",
        "print(testinginput_df['NEWCollabToolsHaveWorkedWith'][1])"
      ],
      "metadata": {
        "colab": {
          "base_uri": "https://localhost:8080/"
        },
        "id": "uYgpXb-aZObc",
        "outputId": "41b95046-af33-444f-c475-3f3b54bbfc08"
      },
      "execution_count": null,
      "outputs": [
        {
          "output_type": "stream",
          "name": "stdout",
          "text": [
            "PyCharm;Sublime Text\n"
          ]
        }
      ]
    },
    {
      "cell_type": "code",
      "source": [
        "\n",
        "\n",
        "!pip install sentence-transformers\n",
        "from sentence_transformers import SentenceTransformer\n",
        "\n",
        "model_3 = SentenceTransformer(\"all-MiniLM-L6-v2\")\n"
      ],
      "metadata": {
        "id": "VFZ3C_8ggCoR",
        "colab": {
          "base_uri": "https://localhost:8080/"
        },
        "outputId": "8b72eef9-d348-4339-ba04-5f66900ab347"
      },
      "execution_count": null,
      "outputs": [
        {
          "output_type": "stream",
          "name": "stdout",
          "text": [
            "Requirement already satisfied: sentence-transformers in /usr/local/lib/python3.9/site-packages (2.6.1)\n",
            "Requirement already satisfied: transformers<5.0.0,>=4.32.0 in /usr/local/lib/python3.9/site-packages (from sentence-transformers) (4.39.3)\n",
            "Requirement already satisfied: tqdm in /usr/local/lib/python3.9/site-packages (from sentence-transformers) (4.65.0)\n",
            "Requirement already satisfied: torch>=1.11.0 in /usr/local/lib/python3.9/site-packages (from sentence-transformers) (2.2.2)\n",
            "Requirement already satisfied: numpy in /usr/local/lib/python3.9/site-packages (from sentence-transformers) (1.26.4)\n",
            "Requirement already satisfied: scikit-learn in /usr/local/lib/python3.9/site-packages (from sentence-transformers) (1.0.2)\n",
            "Requirement already satisfied: scipy in /usr/local/lib/python3.9/site-packages (from sentence-transformers) (1.13.0)\n",
            "Requirement already satisfied: huggingface-hub>=0.15.1 in /usr/local/lib/python3.9/site-packages (from sentence-transformers) (0.22.2)\n",
            "Requirement already satisfied: Pillow in /usr/local/lib/python3.9/site-packages (from sentence-transformers) (10.3.0)\n",
            "Requirement already satisfied: filelock in /usr/local/lib/python3.9/site-packages (from huggingface-hub>=0.15.1->sentence-transformers) (3.13.3)\n",
            "Requirement already satisfied: fsspec>=2023.5.0 in /usr/local/lib/python3.9/site-packages (from huggingface-hub>=0.15.1->sentence-transformers) (2024.3.1)\n",
            "Requirement already satisfied: packaging>=20.9 in /usr/local/lib/python3.9/site-packages (from huggingface-hub>=0.15.1->sentence-transformers) (23.0)\n",
            "Requirement already satisfied: pyyaml>=5.1 in /usr/local/lib/python3.9/site-packages (from huggingface-hub>=0.15.1->sentence-transformers) (5.4.1)\n",
            "Requirement already satisfied: requests in /usr/local/lib/python3.9/site-packages (from huggingface-hub>=0.15.1->sentence-transformers) (2.31.0)\n",
            "Requirement already satisfied: typing-extensions>=3.7.4.3 in /usr/local/lib/python3.9/site-packages (from huggingface-hub>=0.15.1->sentence-transformers) (4.11.0)\n",
            "Requirement already satisfied: sympy in /usr/local/lib/python3.9/site-packages (from torch>=1.11.0->sentence-transformers) (1.12)\n",
            "Requirement already satisfied: networkx in /usr/local/lib/python3.9/site-packages (from torch>=1.11.0->sentence-transformers) (3.2.1)\n",
            "Requirement already satisfied: jinja2 in /usr/local/lib/python3.9/site-packages (from torch>=1.11.0->sentence-transformers) (3.0.3)\n",
            "Requirement already satisfied: nvidia-cuda-nvrtc-cu12==12.1.105 in /usr/local/lib/python3.9/site-packages (from torch>=1.11.0->sentence-transformers) (12.1.105)\n",
            "Requirement already satisfied: nvidia-cuda-runtime-cu12==12.1.105 in /usr/local/lib/python3.9/site-packages (from torch>=1.11.0->sentence-transformers) (12.1.105)\n",
            "Requirement already satisfied: nvidia-cuda-cupti-cu12==12.1.105 in /usr/local/lib/python3.9/site-packages (from torch>=1.11.0->sentence-transformers) (12.1.105)\n",
            "Requirement already satisfied: nvidia-cudnn-cu12==8.9.2.26 in /usr/local/lib/python3.9/site-packages (from torch>=1.11.0->sentence-transformers) (8.9.2.26)\n",
            "Requirement already satisfied: nvidia-cublas-cu12==12.1.3.1 in /usr/local/lib/python3.9/site-packages (from torch>=1.11.0->sentence-transformers) (12.1.3.1)\n",
            "Requirement already satisfied: nvidia-cufft-cu12==11.0.2.54 in /usr/local/lib/python3.9/site-packages (from torch>=1.11.0->sentence-transformers) (11.0.2.54)\n",
            "Requirement already satisfied: nvidia-curand-cu12==10.3.2.106 in /usr/local/lib/python3.9/site-packages (from torch>=1.11.0->sentence-transformers) (10.3.2.106)\n",
            "Requirement already satisfied: nvidia-cusolver-cu12==11.4.5.107 in /usr/local/lib/python3.9/site-packages (from torch>=1.11.0->sentence-transformers) (11.4.5.107)\n",
            "Requirement already satisfied: nvidia-cusparse-cu12==12.1.0.106 in /usr/local/lib/python3.9/site-packages (from torch>=1.11.0->sentence-transformers) (12.1.0.106)\n",
            "Requirement already satisfied: nvidia-nccl-cu12==2.19.3 in /usr/local/lib/python3.9/site-packages (from torch>=1.11.0->sentence-transformers) (2.19.3)\n",
            "Requirement already satisfied: nvidia-nvtx-cu12==12.1.105 in /usr/local/lib/python3.9/site-packages (from torch>=1.11.0->sentence-transformers) (12.1.105)\n",
            "Requirement already satisfied: triton==2.2.0 in /usr/local/lib/python3.9/site-packages (from torch>=1.11.0->sentence-transformers) (2.2.0)\n",
            "Requirement already satisfied: nvidia-nvjitlink-cu12 in /usr/local/lib/python3.9/site-packages (from nvidia-cusolver-cu12==11.4.5.107->torch>=1.11.0->sentence-transformers) (12.4.127)\n",
            "Requirement already satisfied: regex!=2019.12.17 in /usr/local/lib/python3.9/site-packages (from transformers<5.0.0,>=4.32.0->sentence-transformers) (2023.12.25)\n",
            "Requirement already satisfied: tokenizers<0.19,>=0.14 in /usr/local/lib/python3.9/site-packages (from transformers<5.0.0,>=4.32.0->sentence-transformers) (0.15.2)\n",
            "Requirement already satisfied: safetensors>=0.4.1 in /usr/local/lib/python3.9/site-packages (from transformers<5.0.0,>=4.32.0->sentence-transformers) (0.4.2)\n",
            "Requirement already satisfied: joblib>=0.11 in /usr/local/lib/python3.9/site-packages (from scikit-learn->sentence-transformers) (1.3.2)\n",
            "Requirement already satisfied: threadpoolctl>=2.0.0 in /usr/local/lib/python3.9/site-packages (from scikit-learn->sentence-transformers) (3.4.0)\n",
            "Requirement already satisfied: MarkupSafe>=2.0 in /usr/local/lib/python3.9/site-packages (from jinja2->torch>=1.11.0->sentence-transformers) (2.1.5)\n",
            "Requirement already satisfied: charset-normalizer<4,>=2 in /usr/local/lib/python3.9/site-packages (from requests->huggingface-hub>=0.15.1->sentence-transformers) (2.0.4)\n",
            "Requirement already satisfied: idna<4,>=2.5 in /usr/local/lib/python3.9/site-packages (from requests->huggingface-hub>=0.15.1->sentence-transformers) (3.4)\n",
            "Requirement already satisfied: urllib3<3,>=1.21.1 in /usr/local/lib/python3.9/site-packages (from requests->huggingface-hub>=0.15.1->sentence-transformers) (1.26.16)\n",
            "Requirement already satisfied: certifi>=2017.4.17 in /usr/local/lib/python3.9/site-packages (from requests->huggingface-hub>=0.15.1->sentence-transformers) (2023.5.7)\n",
            "Requirement already satisfied: mpmath>=0.19 in /usr/local/lib/python3.9/site-packages (from sympy->torch>=1.11.0->sentence-transformers) (1.3.0)\n",
            "\u001b[33mWARNING: Running pip as the 'root' user can result in broken permissions and conflicting behaviour with the system package manager. It is recommended to use a virtual environment instead: https://pip.pypa.io/warnings/venv\u001b[0m\u001b[33m\n",
            "\u001b[0m"
          ]
        }
      ]
    },
    {
      "cell_type": "code",
      "source": [
        "Tech_extract = [\n",
        "    'LanguageHaveWorkedWith',\n",
        "    'DatabaseHaveWorkedWith',\n",
        "    'PlatformHaveWorkedWith',\n",
        "    'WebframeHaveWorkedWith',\n",
        "    'MiscTechHaveWorkedWith',\n",
        "    'ToolsTechHaveWorkedWith',\n",
        "    'NEWCollabToolsHaveWorkedWith',\n",
        "    'OpSysPersonal use',\n",
        "    'OfficeStackAsyncHaveWorkedWith',\n",
        "    'OfficeStackSyncHaveWorkedWith',\n",
        "    'AISearchHaveWorkedWith',\n",
        "    'AIDevHaveWorkedWith'\n",
        "]\n",
        "extracted_df = testinginput_df[Tech_extract]\n",
        "\n",
        "row_index = 41504\n",
        "\n",
        "def concatenate_tech_columns(row):\n",
        "    filtered_values = [str(value) for value in row if pd.notnull(value)]\n",
        "    return ' '.join(filtered_values)"
      ],
      "metadata": {
        "id": "rFjNzYFXabzn"
      },
      "execution_count": null,
      "outputs": []
    },
    {
      "cell_type": "code",
      "source": [
        "merged_input_for_row = concatenate_tech_columns(extracted_df.iloc[row_index])\n",
        "print(merged_input_for_row)\n",
        "specific_row_df = pd.DataFrame({'Input_Merged': [merged_input_for_row]}, index=[row_index])\n",
        "print(specific_row_df)"
      ],
      "metadata": {
        "colab": {
          "base_uri": "https://localhost:8080/"
        },
        "id": "XV7S5MTd6SIS",
        "outputId": "3892735a-87e9-4cb7-fff6-a798d8ec543e"
      },
      "execution_count": null,
      "outputs": [
        {
          "output_type": "stream",
          "name": "stdout",
          "text": [
            "C#;Kotlin;Python;SQL Dynamodb;PostgreSQL;SQLite Amazon Web Services (AWS) Android Studio;PyCharm;Visual Studio Code MacOS;Windows;Windows Subsystem for Linux (WSL) GitHub Discussions Discord;Zoom\n",
            "                                            Input_Merged\n",
            "41504  C#;Kotlin;Python;SQL Dynamodb;PostgreSQL;SQLit...\n"
          ]
        }
      ]
    },
    {
      "cell_type": "code",
      "source": [
        "embeddings = model_3.encode(specific_row_df['Input_Merged'].tolist())\n",
        "print(len(embeddings[0]))\n",
        "\n",
        "def convert_str_to_array(embed_str):\n",
        "    embed_str = embed_str[1:-1]\n",
        "    str_nums = embed_str.strip().split()\n",
        "    return np.array([float(num) for num in str_nums if num], dtype=float)\n",
        "\n",
        "def run(userID, itemID, embeddings, ncf_model, mlp_model):\n",
        "  global_average = train_df['rating'].mean()\n",
        "  mlp_model.eval()\n",
        "  job_embed = jobs_df['jobs_embeddings'][itemID]\n",
        "  job_embed = convert_str_to_array(job_embed)\n",
        "\n",
        "  if userID in ncf_model.user2id and itemID in ncf_model.item2id:\n",
        "        prediction = ncf_model.predict(userID, itemID)\n",
        "  else:\n",
        "        prediction = global_average\n",
        "  combined_input = np.hstack([embeddings, job_embed, prediction])\n",
        "  X = torch.tensor(combined_input, dtype=torch.float)\n",
        "  final_prediction = mlp_model(X).detach().numpy()[0]\n",
        "\n",
        "  return final_prediction\n",
        "\n",
        "print(run(41504,10740,embeddings[0],model_1, model_2))\n",
        "print(run(41504,3115,embeddings[0],model_1, model_2))\n",
        "print(run(41504,88,embeddings[0],model_1, model_2))\n",
        "print(run(41504,13035,embeddings[0],model_1, model_2))"
      ],
      "metadata": {
        "colab": {
          "base_uri": "https://localhost:8080/"
        },
        "id": "e218SpHddQgJ",
        "outputId": "0dd91528-04ff-44d2-c244-e35a1dae31d5"
      },
      "execution_count": null,
      "outputs": [
        {
          "output_type": "stream",
          "name": "stdout",
          "text": [
            "384\n",
            "0.44695848\n",
            "-0.07301435\n",
            "-0.065692574\n",
            "-0.025760263\n"
          ]
        }
      ]
    },
    {
      "cell_type": "code",
      "source": [
        "\n",
        "eval_jobs = pd.read_csv('1k-jobs-eval.csv')\n",
        "print(eval_jobs.info())"
      ],
      "metadata": {
        "colab": {
          "base_uri": "https://localhost:8080/"
        },
        "id": "p87y0qcwv9rU",
        "outputId": "8b097a57-d91a-4c55-c125-2f5ea26c91dd"
      },
      "execution_count": null,
      "outputs": [
        {
          "output_type": "stream",
          "name": "stdout",
          "text": [
            "<class 'pandas.core.frame.DataFrame'>\n",
            "RangeIndex: 1000 entries, 0 to 999\n",
            "Data columns (total 14 columns):\n",
            " #   Column                    Non-Null Count  Dtype \n",
            "---  ------                    --------------  ----- \n",
            " 0   JobId                     1000 non-null   int64 \n",
            " 1   advertiserurl             1000 non-null   object\n",
            " 2   company                   996 non-null    object\n",
            " 3   employmenttype_jobstatus  994 non-null    object\n",
            " 4   jobdescription            1000 non-null   object\n",
            " 5   joblocation_address       1000 non-null   object\n",
            " 6   jobtitle                  1000 non-null   object\n",
            " 7   postdate                  1000 non-null   object\n",
            " 8   shift                     989 non-null    object\n",
            " 9   site_name                 144 non-null    object\n",
            " 10  skills                    991 non-null    object\n",
            " 11  Job_Features_Merged       1000 non-null   object\n",
            " 12  processed_text            1000 non-null   object\n",
            " 13  job_embeddings            1000 non-null   object\n",
            "dtypes: int64(1), object(13)\n",
            "memory usage: 109.5+ KB\n",
            "None\n"
          ]
        }
      ]
    },
    {
      "cell_type": "code",
      "source": [
        "\n",
        "def apply_run(userID, embeddings, row, model_1, model_2):\n",
        "    itemID = row['JobId']\n",
        "    prediction = run(userID, itemID, embeddings, model_1, model_2)\n",
        "    return prediction\n",
        "\n",
        "eval_jobs['prediction'] = eval_jobs.apply(lambda row: apply_run(41504, embeddings[0], row, model_1, model_2), axis=1)\n"
      ],
      "metadata": {
        "id": "sm9dMzxiaWLE"
      },
      "execution_count": null,
      "outputs": []
    },
    {
      "cell_type": "code",
      "source": [
        "final_df = eval_jobs[['JobId', 'prediction']]\n",
        "print(final_df.head(30))"
      ],
      "metadata": {
        "id": "vXJUXEBUe36j",
        "colab": {
          "base_uri": "https://localhost:8080/"
        },
        "outputId": "abd3b696-7e90-44c0-8c1c-076e333558ae"
      },
      "execution_count": null,
      "outputs": [
        {
          "output_type": "stream",
          "name": "stdout",
          "text": [
            "    JobId  prediction\n",
            "0   13035   -0.025760\n",
            "1    3115   -0.073014\n",
            "2    8732   -0.033482\n",
            "3    7591   -0.060701\n",
            "4     221   -0.079046\n",
            "5   17295    0.000416\n",
            "6    5857    0.103001\n",
            "7   12608   -0.074984\n",
            "8    3463   -0.040303\n",
            "9    6478   -0.073173\n",
            "10   3350    0.257050\n",
            "11  15982   -0.066899\n",
            "12  19275   -0.062802\n",
            "13  18089   -0.035133\n",
            "14  18753   -0.055205\n",
            "15  11503   -0.083462\n",
            "16   4058    0.147775\n",
            "17   4874   -0.049025\n",
            "18  19936    0.008795\n",
            "19  14055    0.319925\n",
            "20  16852    0.009482\n",
            "21  18250    0.188128\n",
            "22  15813    0.058889\n",
            "23  16414    0.108185\n",
            "24  19453   -0.077532\n",
            "25   1489    0.097871\n",
            "26  11967   -0.089849\n",
            "27   9561    0.099095\n",
            "28   1398   -0.038273\n",
            "29  13829    0.103764\n"
          ]
        }
      ]
    },
    {
      "cell_type": "code",
      "source": [
        "\n",
        "final_df.to_csv('job_predictions_0.csv', index=False)"
      ],
      "metadata": {
        "id": "nszsL-RqwNxa"
      },
      "execution_count": null,
      "outputs": []
    }
  ]
}