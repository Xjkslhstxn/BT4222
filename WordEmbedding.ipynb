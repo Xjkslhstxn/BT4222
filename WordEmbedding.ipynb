{
 "cells": [
  {
   "cell_type": "markdown",
   "metadata": {},
   "source": [
    "Task 1\n",
    "1. ownself explore the job and user dataset\n",
    "2. Merge all the job skills related column and user want to work with column\n",
    "3. Learn BERT and BI LSTM"
   ]
  },
  {
   "cell_type": "code",
   "execution_count": 1,
   "metadata": {},
   "outputs": [
    {
     "name": "stderr",
     "output_type": "stream",
     "text": [
      "/var/folders/5h/8hlpwpv526s12wp_5825s8kc0000gn/T/ipykernel_8290/3394226554.py:33: SettingWithCopyWarning: \n",
      "A value is trying to be set on a copy of a slice from a DataFrame.\n",
      "Try using .loc[row_indexer,col_indexer] = value instead\n",
      "\n",
      "See the caveats in the documentation: https://pandas.pydata.org/pandas-docs/stable/user_guide/indexing.html#returning-a-view-versus-a-copy\n",
      "  extracted_df_user['Tech_Features_Merged'] = extracted_df_user[Tech_extract].apply(concatenate_tech_columns, axis=1)\n",
      "/var/folders/5h/8hlpwpv526s12wp_5825s8kc0000gn/T/ipykernel_8290/3394226554.py:36: SettingWithCopyWarning: \n",
      "A value is trying to be set on a copy of a slice from a DataFrame\n",
      "\n",
      "See the caveats in the documentation: https://pandas.pydata.org/pandas-docs/stable/user_guide/indexing.html#returning-a-view-versus-a-copy\n",
      "  extracted_df_user.drop(columns=Tech_extract, inplace=True)\n"
     ]
    }
   ],
   "source": [
    "## import libraries and datasets\n",
    "import pandas as pd\n",
    "df_user = pd.read_csv('Data/User/survey_results_public.csv')\n",
    "df_job = pd.read_csv('Data/job_descriptions.csv')\n",
    "\n",
    "Basic_extract = ['Age', 'Employment']\n",
    "Edu_Work_extract = ['EdLevel', 'LearnCode', 'LearnCodeOnline', 'LearnCodeCoursesCert', 'YearsCode', 'DevType', 'Currency', 'CompTotal']\n",
    "Tech_extract = [\n",
    "    'LanguageHaveWorkedWith', 'LanguageWantToWorkWith',\n",
    "    'DatabaseHaveWorkedWith', 'DatabaseWantToWorkWith',\n",
    "    'PlatformHaveWorkedWith', 'PlatformWantToWorkWith',\n",
    "    'WebframeHaveWorkedWith', 'WebframeWantToWorkWith',\n",
    "    'MiscTechHaveWorkedWith', 'MiscTechWantToWorkWith',\n",
    "    'ToolsTechHaveWorkedWith', 'ToolsTechWantToWorkWith',\n",
    "    'NEWCollabToolsHaveWorkedWith', 'NEWCollabToolsWantToWorkWith',\n",
    "    'OpSysPersonal use', 'OpSysProfessional use',\n",
    "    'OfficeStackAsyncHaveWorkedWith', 'OfficeStackAsyncWantToWorkWith',\n",
    "    'OfficeStackSyncHaveWorkedWith', 'OfficeStackSyncWantToWorkWith',\n",
    "    'AISearchHaveWorkedWith', 'AISearchWantToWorkWith',\n",
    "    'AIDevHaveWorkedWith', 'AIDevWantToWorkWith'\n",
    "]\n",
    "\n",
    "\n",
    "all_columns_to_extract = Basic_extract + Edu_Work_extract + Tech_extract\n",
    "extracted_df_user = df_user[all_columns_to_extract]\n",
    "\n",
    "def concatenate_tech_columns(row):\n",
    "    # Filter out None or NaN values before joining\n",
    "    filtered_values = [str(value) for value in row if pd.notnull(value)]\n",
    "    return ' '.join(filtered_values)\n",
    "\n",
    "# Apply the function across the Tech_extract columns and create a new column for the merged data\n",
    "extracted_df_user['Tech_Features_Merged'] = extracted_df_user[Tech_extract].apply(concatenate_tech_columns, axis=1)\n",
    "\n",
    "# Drop all columns in Tech_extract\n",
    "extracted_df_user.drop(columns=Tech_extract, inplace=True)"
   ]
  },
  {
   "cell_type": "code",
   "execution_count": 2,
   "metadata": {},
   "outputs": [
    {
     "name": "stdout",
     "output_type": "stream",
     "text": [
      "0                                                     \n",
      "1    HTML/CSS;JavaScript;Python Bash/Shell (all she...\n",
      "2    Bash/Shell (all shells);Go Haskell;OCaml;Rust ...\n",
      "3    Bash/Shell (all shells);HTML/CSS;JavaScript;PH...\n",
      "4    HTML/CSS;JavaScript;TypeScript HTML/CSS;JavaSc...\n",
      "Name: Tech_Features_Merged, dtype: object\n"
     ]
    }
   ],
   "source": [
    "print(extracted_df_user['Tech_Features_Merged'].head())\n",
    "\n"
   ]
  },
  {
   "cell_type": "code",
   "execution_count": 3,
   "metadata": {},
   "outputs": [
    {
     "name": "stderr",
     "output_type": "stream",
     "text": [
      "/var/folders/5h/8hlpwpv526s12wp_5825s8kc0000gn/T/ipykernel_8290/990395516.py:2: SettingWithCopyWarning: \n",
      "A value is trying to be set on a copy of a slice from a DataFrame.\n",
      "Try using .loc[row_indexer,col_indexer] = value instead\n",
      "\n",
      "See the caveats in the documentation: https://pandas.pydata.org/pandas-docs/stable/user_guide/indexing.html#returning-a-view-versus-a-copy\n",
      "  extracted_df_user['Tech_Features_Set'] = extracted_df_user['Tech_Features_Merged'].str.lower().str.split(' ').apply(set)\n"
     ]
    }
   ],
   "source": [
    "df_job['skills'] = df_job['skills'].str.lower().str.split(', ')\n",
    "extracted_df_user['Tech_Features_Set'] = extracted_df_user['Tech_Features_Merged'].str.lower().str.split(' ').apply(set)\n",
    "df_job['skills_set'] = df_job['skills'].apply(set)"
   ]
  },
  {
   "cell_type": "code",
   "execution_count": null,
   "metadata": {},
   "outputs": [],
   "source": [
    "\n",
    "print(df_job['skills_set'].head())\n",
    "print(extracted_df_user['Tech_Features_Set'].head())\n",
    "# Step 1: Add a dummy key to both DataFrames for the cross join\n",
    "extracted_df_user['key'] = 1\n",
    "df_job['key'] = 1\n",
    "\n",
    "# Step 2: Perform the cross join\n",
    "combined_df = pd.merge(extracted_df_user[['key', 'Tech_Features_Set']], df_job[['key', 'skills_set']], on='key').drop('key', axis=1)\n",
    "\n",
    "# Step 3: Combine the sets into one column (optional, depending on your exact needs)\n",
    "# If you wish to keep them separate for analysis, you can skip this step,\n",
    "# as 'combined_df' already contains both sets.\n",
    "combined_df['Combined_Skills'] = combined_df.apply(lambda row: row['Tech_Features_Set'].union(row['skills_set']), axis=1)\n",
    "\n",
    "# Now, 'combined_df' has a 'Combined_Skills' column with the union of user tech features and job skills.\n",
    "\n"
   ]
  }
 ],
 "metadata": {
  "kernelspec": {
   "display_name": "Python 3",
   "language": "python",
   "name": "python3"
  },
  "language_info": {
   "codemirror_mode": {
    "name": "ipython",
    "version": 3
   },
   "file_extension": ".py",
   "mimetype": "text/x-python",
   "name": "python",
   "nbconvert_exporter": "python",
   "pygments_lexer": "ipython3",
   "version": "3.10.6"
  }
 },
 "nbformat": 4,
 "nbformat_minor": 2
}
