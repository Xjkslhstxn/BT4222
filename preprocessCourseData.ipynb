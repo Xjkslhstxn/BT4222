{
 "cells": [
  {
   "cell_type": "code",
   "execution_count": 883,
   "metadata": {},
   "outputs": [],
   "source": [
    "import numpy as np\n",
    "import matplotlib.pyplot as plt\n",
    "import pandas as pd"
   ]
  },
  {
   "cell_type": "code",
   "execution_count": 884,
   "metadata": {},
   "outputs": [],
   "source": [
    "Udemy_df = pd.read_excel('Data/Course Data/Udemy_clean.xlsx')\n",
    "CodeAcademy_df = pd.read_excel('Data/Course Data/CodeAcademy.xlsx')\n",
    "Pluralsight_df = pd.read_excel('Data/Course Data/PluralSight.xlsx')\n",
    "Coursera_df = pd.read_csv('Data/Course Data/CourseraDataset_Clean.csv')"
   ]
  },
  {
   "cell_type": "markdown",
   "metadata": {},
   "source": [
    "# Udemy"
   ]
  },
  {
   "cell_type": "code",
   "execution_count": 885,
   "metadata": {},
   "outputs": [
    {
     "data": {
      "text/html": [
       "<div>\n",
       "<style scoped>\n",
       "    .dataframe tbody tr th:only-of-type {\n",
       "        vertical-align: middle;\n",
       "    }\n",
       "\n",
       "    .dataframe tbody tr th {\n",
       "        vertical-align: top;\n",
       "    }\n",
       "\n",
       "    .dataframe thead th {\n",
       "        text-align: right;\n",
       "    }\n",
       "</style>\n",
       "<table border=\"1\" class=\"dataframe\">\n",
       "  <thead>\n",
       "    <tr style=\"text-align: right;\">\n",
       "      <th></th>\n",
       "      <th>All</th>\n",
       "      <th>Title Url</th>\n",
       "      <th>Course Info</th>\n",
       "      <th>Rating</th>\n",
       "      <th>Reviews</th>\n",
       "      <th>Duration</th>\n",
       "      <th>\\nLevels</th>\n",
       "    </tr>\n",
       "  </thead>\n",
       "  <tbody>\n",
       "    <tr>\n",
       "      <th>0</th>\n",
       "      <td>Ultimate AWS Certified Solutions Architect Ass...</td>\n",
       "      <td>https://www.udemy.com/course/aws-certified-sol...</td>\n",
       "      <td>Ultimate AWS Certified Solutions Architect Ass...</td>\n",
       "      <td>4.7</td>\n",
       "      <td>5214188</td>\n",
       "      <td>27.5</td>\n",
       "      <td>All Levels</td>\n",
       "    </tr>\n",
       "    <tr>\n",
       "      <th>1</th>\n",
       "      <td>[NEW] Ultimate AWS Certified Cloud Practitione...</td>\n",
       "      <td>https://www.udemy.com/course/aws-certified-clo...</td>\n",
       "      <td>[NEW] Ultimate AWS Certified Cloud Practitione...</td>\n",
       "      <td>4.7</td>\n",
       "      <td>5193568</td>\n",
       "      <td>15</td>\n",
       "      <td>Beginner</td>\n",
       "    </tr>\n",
       "    <tr>\n",
       "      <th>2</th>\n",
       "      <td>Learn Ethical Hacking From Scratch\\nBecome an ...</td>\n",
       "      <td>https://www.udemy.com/course/learn-ethical-hac...</td>\n",
       "      <td>Learn Ethical Hacking From Scratch\\nBecome an ...</td>\n",
       "      <td>4.6</td>\n",
       "      <td>5121803</td>\n",
       "      <td>16</td>\n",
       "      <td>All Levels</td>\n",
       "    </tr>\n",
       "  </tbody>\n",
       "</table>\n",
       "</div>"
      ],
      "text/plain": [
       "                                                 All  \\\n",
       "0  Ultimate AWS Certified Solutions Architect Ass...   \n",
       "1  [NEW] Ultimate AWS Certified Cloud Practitione...   \n",
       "2  Learn Ethical Hacking From Scratch\\nBecome an ...   \n",
       "\n",
       "                                           Title Url  \\\n",
       "0  https://www.udemy.com/course/aws-certified-sol...   \n",
       "1  https://www.udemy.com/course/aws-certified-clo...   \n",
       "2  https://www.udemy.com/course/learn-ethical-hac...   \n",
       "\n",
       "                                         Course Info  Rating  Reviews  \\\n",
       "0  Ultimate AWS Certified Solutions Architect Ass...     4.7  5214188   \n",
       "1  [NEW] Ultimate AWS Certified Cloud Practitione...     4.7  5193568   \n",
       "2  Learn Ethical Hacking From Scratch\\nBecome an ...     4.6  5121803   \n",
       "\n",
       "  Duration    \\nLevels  \n",
       "0    27.5   All Levels  \n",
       "1      15     Beginner  \n",
       "2      16   All Levels  "
      ]
     },
     "execution_count": 885,
     "metadata": {},
     "output_type": "execute_result"
    }
   ],
   "source": [
    "Udemy_df.head(3)"
   ]
  },
  {
   "cell_type": "code",
   "execution_count": 886,
   "metadata": {},
   "outputs": [],
   "source": [
    "# Keep Course Info, Rating, Duration, and Levels\n",
    "Udemy_df = Udemy_df.drop(['All', 'Title Url'], axis=1)\n",
    "# Rename columns to match other datasets\n",
    "Udemy_df = Udemy_df.rename(columns={'Title':'Course Info', 'Rating':'Course Rating', 'Duration':'Course Duration', '\\nLevels':'Course Level'})\n",
    "\n",
    "# Extract text before the first \\n for Course Info to become title\n",
    "Udemy_df['Course Title'] = Udemy_df['Course Info'].str.split('\\n').str[0]\n",
    "\n",
    "# change order of columns\n",
    "Udemy_df = Udemy_df[['Course Title', 'Course Info', 'Course Rating', 'Course Duration', 'Course Level']]\n",
    "\n",
    "# add a column for the source of the data\n",
    "Udemy_df['Source'] = 'Udemy'"
   ]
  },
  {
   "cell_type": "code",
   "execution_count": 887,
   "metadata": {},
   "outputs": [
    {
     "data": {
      "text/html": [
       "<div>\n",
       "<style scoped>\n",
       "    .dataframe tbody tr th:only-of-type {\n",
       "        vertical-align: middle;\n",
       "    }\n",
       "\n",
       "    .dataframe tbody tr th {\n",
       "        vertical-align: top;\n",
       "    }\n",
       "\n",
       "    .dataframe thead th {\n",
       "        text-align: right;\n",
       "    }\n",
       "</style>\n",
       "<table border=\"1\" class=\"dataframe\">\n",
       "  <thead>\n",
       "    <tr style=\"text-align: right;\">\n",
       "      <th></th>\n",
       "      <th>Course Title</th>\n",
       "      <th>Course Info</th>\n",
       "      <th>Course Rating</th>\n",
       "      <th>Course Duration</th>\n",
       "      <th>Course Level</th>\n",
       "      <th>Source</th>\n",
       "    </tr>\n",
       "  </thead>\n",
       "  <tbody>\n",
       "    <tr>\n",
       "      <th>0</th>\n",
       "      <td>Ultimate AWS Certified Solutions Architect Ass...</td>\n",
       "      <td>Ultimate AWS Certified Solutions Architect Ass...</td>\n",
       "      <td>4.7</td>\n",
       "      <td>27.5</td>\n",
       "      <td>All Levels</td>\n",
       "      <td>Udemy</td>\n",
       "    </tr>\n",
       "    <tr>\n",
       "      <th>1</th>\n",
       "      <td>[NEW] Ultimate AWS Certified Cloud Practitione...</td>\n",
       "      <td>[NEW] Ultimate AWS Certified Cloud Practitione...</td>\n",
       "      <td>4.7</td>\n",
       "      <td>15</td>\n",
       "      <td>Beginner</td>\n",
       "      <td>Udemy</td>\n",
       "    </tr>\n",
       "    <tr>\n",
       "      <th>2</th>\n",
       "      <td>Learn Ethical Hacking From Scratch</td>\n",
       "      <td>Learn Ethical Hacking From Scratch\\nBecome an ...</td>\n",
       "      <td>4.6</td>\n",
       "      <td>16</td>\n",
       "      <td>All Levels</td>\n",
       "      <td>Udemy</td>\n",
       "    </tr>\n",
       "    <tr>\n",
       "      <th>3</th>\n",
       "      <td>AZ-900: Microsoft Azure Fundamentals Exam Prep...</td>\n",
       "      <td>AZ-900: Microsoft Azure Fundamentals Exam Prep...</td>\n",
       "      <td>4.6</td>\n",
       "      <td>7.5</td>\n",
       "      <td>Beginner</td>\n",
       "      <td>Udemy</td>\n",
       "    </tr>\n",
       "    <tr>\n",
       "      <th>4</th>\n",
       "      <td>Ultimate AWS Certified Developer Associate 202...</td>\n",
       "      <td>Ultimate AWS Certified Developer Associate 202...</td>\n",
       "      <td>4.7</td>\n",
       "      <td>33.5</td>\n",
       "      <td>All Levels</td>\n",
       "      <td>Udemy</td>\n",
       "    </tr>\n",
       "  </tbody>\n",
       "</table>\n",
       "</div>"
      ],
      "text/plain": [
       "                                        Course Title  \\\n",
       "0  Ultimate AWS Certified Solutions Architect Ass...   \n",
       "1  [NEW] Ultimate AWS Certified Cloud Practitione...   \n",
       "2                 Learn Ethical Hacking From Scratch   \n",
       "3  AZ-900: Microsoft Azure Fundamentals Exam Prep...   \n",
       "4  Ultimate AWS Certified Developer Associate 202...   \n",
       "\n",
       "                                         Course Info  Course Rating  \\\n",
       "0  Ultimate AWS Certified Solutions Architect Ass...            4.7   \n",
       "1  [NEW] Ultimate AWS Certified Cloud Practitione...            4.7   \n",
       "2  Learn Ethical Hacking From Scratch\\nBecome an ...            4.6   \n",
       "3  AZ-900: Microsoft Azure Fundamentals Exam Prep...            4.6   \n",
       "4  Ultimate AWS Certified Developer Associate 202...            4.7   \n",
       "\n",
       "  Course Duration Course Level Source  \n",
       "0           27.5    All Levels  Udemy  \n",
       "1             15      Beginner  Udemy  \n",
       "2             16    All Levels  Udemy  \n",
       "3            7.5      Beginner  Udemy  \n",
       "4           33.5    All Levels  Udemy  "
      ]
     },
     "execution_count": 887,
     "metadata": {},
     "output_type": "execute_result"
    }
   ],
   "source": [
    "Udemy_df.head(5)"
   ]
  },
  {
   "cell_type": "code",
   "execution_count": 888,
   "metadata": {},
   "outputs": [
    {
     "name": "stdout",
     "output_type": "stream",
     "text": [
      "['All Levels' 'Beginner' 'Intermediate' 'Expert' 'intermediate'\n",
      " 'Not applicable']\n",
      "['27.5 ' '15 ' '16 ' '7.5 ' '33.5 ' '6 ' '15.5 ' '31 ' '23 ' '40 ' '14.5 '\n",
      " '4.5 ' '16.5 ' '79.5 ' '18 ' '13.5 ' '5 ' '3 ' '9 ' '20.5 ' '36 ' '22 '\n",
      " '7 ' 'Not applicable' '11 ' '9.5 ' '10.5 ' '24.5 ' '2.5 ' '55 ' '17 '\n",
      " '29 ' '1.5 ' '22.5 ' '3.5 ' '26 ' '24 ' '8 ' '26.5 ' '25.5 ' '12.5 '\n",
      " '6.5 ' '28.5 ' '4 ' '17.5 ' '14 ' '20 ' '21 ' '18.5 ' '13 ' '77 ' '8.5 '\n",
      " '19.5 ' '21.5 ' '32 ' '10 ' '38 ' '31.5 ' '2 ' '12 ' '81 ' '114 ' '5.5 '\n",
      " '40.5 ' '44.5 ' '48.5 ' '23.5 ' '50.5 ' '27 ' '38.5 ' '19 ' '78.5 '\n",
      " '34.5 ' '11.5 ' '36.5 ' '53 ' '29.5 ' '43.5 ' '34 ' '63.5 ' '61.5 ' '47 '\n",
      " '41.5 ' '25 ' '62 ' '30.5 ' '45.5 ' 10 '57 ' '72.5 ' '87.5 ' '35.5 '\n",
      " '28 ' '39.5 ' '58 ' '52.5 ' '100.5 ' '48 ' '45 ' '30 ' '66.5 ' '71.5 '\n",
      " '46 ' '54 ' '42 ' '57.5 ' 1 '91 ' '46.5 ' '50 ' '105.5 ' '63 ' '66 '\n",
      " '33 ' '32.5 ' '145 ' '37 ' '77.5 ' '74 ' '116.5 ' '277 ' '136.5 ' '133 '\n",
      " '90 ' '252.5 ' '56 ' '49.5 ' '131.5 ' '39 ']\n",
      "[4.7 4.6 4.8 4.5 4.9 5.  3.6 3.7 4.4 4.3 3.8 2.7]\n"
     ]
    }
   ],
   "source": [
    "# print all unique values in the column\n",
    "print(Udemy_df['Course Level'].unique())\n",
    "print(Udemy_df['Course Duration'].unique())\n",
    "print(Udemy_df['Course Rating'].unique())"
   ]
  },
  {
   "cell_type": "code",
   "execution_count": 889,
   "metadata": {},
   "outputs": [
    {
     "data": {
      "text/html": [
       "<div>\n",
       "<style scoped>\n",
       "    .dataframe tbody tr th:only-of-type {\n",
       "        vertical-align: middle;\n",
       "    }\n",
       "\n",
       "    .dataframe tbody tr th {\n",
       "        vertical-align: top;\n",
       "    }\n",
       "\n",
       "    .dataframe thead th {\n",
       "        text-align: right;\n",
       "    }\n",
       "</style>\n",
       "<table border=\"1\" class=\"dataframe\">\n",
       "  <thead>\n",
       "    <tr style=\"text-align: right;\">\n",
       "      <th></th>\n",
       "      <th>Course Title</th>\n",
       "      <th>Course Info</th>\n",
       "      <th>Course Rating</th>\n",
       "      <th>Course Duration</th>\n",
       "      <th>Course Level</th>\n",
       "      <th>Source</th>\n",
       "    </tr>\n",
       "  </thead>\n",
       "  <tbody>\n",
       "    <tr>\n",
       "      <th>0</th>\n",
       "      <td>Ultimate AWS Certified Solutions Architect Ass...</td>\n",
       "      <td>Ultimate AWS Certified Solutions Architect Ass...</td>\n",
       "      <td>4.7</td>\n",
       "      <td>27.5</td>\n",
       "      <td>All Levels</td>\n",
       "      <td>Udemy</td>\n",
       "    </tr>\n",
       "    <tr>\n",
       "      <th>1</th>\n",
       "      <td>[NEW] Ultimate AWS Certified Cloud Practitione...</td>\n",
       "      <td>[NEW] Ultimate AWS Certified Cloud Practitione...</td>\n",
       "      <td>4.7</td>\n",
       "      <td>15</td>\n",
       "      <td>Beginner</td>\n",
       "      <td>Udemy</td>\n",
       "    </tr>\n",
       "    <tr>\n",
       "      <th>2</th>\n",
       "      <td>Learn Ethical Hacking From Scratch</td>\n",
       "      <td>Learn Ethical Hacking From Scratch\\nBecome an ...</td>\n",
       "      <td>4.6</td>\n",
       "      <td>16</td>\n",
       "      <td>All Levels</td>\n",
       "      <td>Udemy</td>\n",
       "    </tr>\n",
       "  </tbody>\n",
       "</table>\n",
       "</div>"
      ],
      "text/plain": [
       "                                        Course Title  \\\n",
       "0  Ultimate AWS Certified Solutions Architect Ass...   \n",
       "1  [NEW] Ultimate AWS Certified Cloud Practitione...   \n",
       "2                 Learn Ethical Hacking From Scratch   \n",
       "\n",
       "                                         Course Info  Course Rating  \\\n",
       "0  Ultimate AWS Certified Solutions Architect Ass...            4.7   \n",
       "1  [NEW] Ultimate AWS Certified Cloud Practitione...            4.7   \n",
       "2  Learn Ethical Hacking From Scratch\\nBecome an ...            4.6   \n",
       "\n",
       "  Course Duration Course Level Source  \n",
       "0           27.5    All Levels  Udemy  \n",
       "1             15      Beginner  Udemy  \n",
       "2             16    All Levels  Udemy  "
      ]
     },
     "execution_count": 889,
     "metadata": {},
     "output_type": "execute_result"
    }
   ],
   "source": [
    "Udemy_df.head(3)"
   ]
  },
  {
   "cell_type": "code",
   "execution_count": 890,
   "metadata": {},
   "outputs": [
    {
     "data": {
      "text/plain": [
       "Course Title       0\n",
       "Course Info        0\n",
       "Course Rating      0\n",
       "Course Duration    0\n",
       "Course Level       0\n",
       "Source             0\n",
       "dtype: int64"
      ]
     },
     "execution_count": 890,
     "metadata": {},
     "output_type": "execute_result"
    }
   ],
   "source": [
    "# check NA\n",
    "Udemy_df.isna().sum()"
   ]
  },
  {
   "cell_type": "code",
   "execution_count": 891,
   "metadata": {},
   "outputs": [],
   "source": [
    "# Export to csv\n",
    "Udemy_df.to_csv('Data/Course Data/Udemy_clean.csv', index=False)"
   ]
  },
  {
   "cell_type": "markdown",
   "metadata": {},
   "source": [
    "# Pluralsight"
   ]
  },
  {
   "cell_type": "code",
   "execution_count": 892,
   "metadata": {},
   "outputs": [
    {
     "data": {
      "text/html": [
       "<div>\n",
       "<style scoped>\n",
       "    .dataframe tbody tr th:only-of-type {\n",
       "        vertical-align: middle;\n",
       "    }\n",
       "\n",
       "    .dataframe tbody tr th {\n",
       "        vertical-align: top;\n",
       "    }\n",
       "\n",
       "    .dataframe thead th {\n",
       "        text-align: right;\n",
       "    }\n",
       "</style>\n",
       "<table border=\"1\" class=\"dataframe\">\n",
       "  <thead>\n",
       "    <tr style=\"text-align: right;\">\n",
       "      <th></th>\n",
       "      <th>Course Name</th>\n",
       "      <th>Course Name Url</th>\n",
       "      <th>Duration</th>\n",
       "      <th>Level</th>\n",
       "      <th>Reviews</th>\n",
       "      <th>Author</th>\n",
       "      <th>Course Description</th>\n",
       "    </tr>\n",
       "  </thead>\n",
       "  <tbody>\n",
       "    <tr>\n",
       "      <th>0</th>\n",
       "      <td>Windows PowerShell and Regular Expressions</td>\n",
       "      <td>https://www.pluralsight.com/courses/powershell...</td>\n",
       "      <td>2h 13m</td>\n",
       "      <td>Intermediate</td>\n",
       "      <td>28</td>\n",
       "      <td>by Jeff Hicks</td>\n",
       "      <td>If you are a PowerShell Pro who needs to know ...</td>\n",
       "    </tr>\n",
       "    <tr>\n",
       "      <th>1</th>\n",
       "      <td>Ethernet Operation and Switch Configuration</td>\n",
       "      <td>https://www.pluralsight.com/courses/ethernet-o...</td>\n",
       "      <td>3h 4m</td>\n",
       "      <td>Intermediate</td>\n",
       "      <td>56</td>\n",
       "      <td>by Ross Bagurdes</td>\n",
       "      <td>Since Ethernet is a widely used protocol in da...</td>\n",
       "    </tr>\n",
       "    <tr>\n",
       "      <th>2</th>\n",
       "      <td>Cisco Enterprise Networks: Basic Networking an...</td>\n",
       "      <td>https://www.pluralsight.com/courses/cisco-ente...</td>\n",
       "      <td>1h 45m</td>\n",
       "      <td>Intermediate</td>\n",
       "      <td>103</td>\n",
       "      <td>by Ben Piper</td>\n",
       "      <td>Master the fundamental network principles need...</td>\n",
       "    </tr>\n",
       "  </tbody>\n",
       "</table>\n",
       "</div>"
      ],
      "text/plain": [
       "                                         Course Name  \\\n",
       "0         Windows PowerShell and Regular Expressions   \n",
       "1        Ethernet Operation and Switch Configuration   \n",
       "2  Cisco Enterprise Networks: Basic Networking an...   \n",
       "\n",
       "                                     Course Name Url Duration          Level  \\\n",
       "0  https://www.pluralsight.com/courses/powershell...   2h 13m  Intermediate    \n",
       "1  https://www.pluralsight.com/courses/ethernet-o...    3h 4m  Intermediate    \n",
       "2  https://www.pluralsight.com/courses/cisco-ente...   1h 45m  Intermediate    \n",
       "\n",
       "   Reviews            Author  \\\n",
       "0       28     by Jeff Hicks   \n",
       "1       56  by Ross Bagurdes   \n",
       "2      103      by Ben Piper   \n",
       "\n",
       "                                  Course Description  \n",
       "0  If you are a PowerShell Pro who needs to know ...  \n",
       "1  Since Ethernet is a widely used protocol in da...  \n",
       "2  Master the fundamental network principles need...  "
      ]
     },
     "execution_count": 892,
     "metadata": {},
     "output_type": "execute_result"
    }
   ],
   "source": [
    "Pluralsight_df.head(3)"
   ]
  },
  {
   "cell_type": "code",
   "execution_count": 893,
   "metadata": {},
   "outputs": [
    {
     "data": {
      "text/html": [
       "<div>\n",
       "<style scoped>\n",
       "    .dataframe tbody tr th:only-of-type {\n",
       "        vertical-align: middle;\n",
       "    }\n",
       "\n",
       "    .dataframe tbody tr th {\n",
       "        vertical-align: top;\n",
       "    }\n",
       "\n",
       "    .dataframe thead th {\n",
       "        text-align: right;\n",
       "    }\n",
       "</style>\n",
       "<table border=\"1\" class=\"dataframe\">\n",
       "  <thead>\n",
       "    <tr style=\"text-align: right;\">\n",
       "      <th></th>\n",
       "      <th>Course Title</th>\n",
       "      <th>Course Info</th>\n",
       "      <th>Course Duration</th>\n",
       "      <th>Course Level</th>\n",
       "      <th>Course Rating</th>\n",
       "    </tr>\n",
       "  </thead>\n",
       "  <tbody>\n",
       "    <tr>\n",
       "      <th>0</th>\n",
       "      <td>Windows PowerShell and Regular Expressions</td>\n",
       "      <td>If you are a PowerShell Pro who needs to know ...</td>\n",
       "      <td>2h 13m</td>\n",
       "      <td>Intermediate</td>\n",
       "      <td>Not applicable</td>\n",
       "    </tr>\n",
       "    <tr>\n",
       "      <th>1</th>\n",
       "      <td>Ethernet Operation and Switch Configuration</td>\n",
       "      <td>Since Ethernet is a widely used protocol in da...</td>\n",
       "      <td>3h 4m</td>\n",
       "      <td>Intermediate</td>\n",
       "      <td>Not applicable</td>\n",
       "    </tr>\n",
       "    <tr>\n",
       "      <th>2</th>\n",
       "      <td>Cisco Enterprise Networks: Basic Networking an...</td>\n",
       "      <td>Master the fundamental network principles need...</td>\n",
       "      <td>1h 45m</td>\n",
       "      <td>Intermediate</td>\n",
       "      <td>Not applicable</td>\n",
       "    </tr>\n",
       "  </tbody>\n",
       "</table>\n",
       "</div>"
      ],
      "text/plain": [
       "                                        Course Title  \\\n",
       "0         Windows PowerShell and Regular Expressions   \n",
       "1        Ethernet Operation and Switch Configuration   \n",
       "2  Cisco Enterprise Networks: Basic Networking an...   \n",
       "\n",
       "                                         Course Info Course Duration  \\\n",
       "0  If you are a PowerShell Pro who needs to know ...          2h 13m   \n",
       "1  Since Ethernet is a widely used protocol in da...           3h 4m   \n",
       "2  Master the fundamental network principles need...          1h 45m   \n",
       "\n",
       "    Course Level   Course Rating  \n",
       "0  Intermediate   Not applicable  \n",
       "1  Intermediate   Not applicable  \n",
       "2  Intermediate   Not applicable  "
      ]
     },
     "execution_count": 893,
     "metadata": {},
     "output_type": "execute_result"
    }
   ],
   "source": [
    "# Get 'Course Title', 'Course Info', 'Course Rating', 'Course Duration', 'Course Level'\n",
    "Pluralsight_df = Pluralsight_df[['Course Name', 'Course Description', 'Duration',  'Level']]\n",
    "# Rename columns to match other datasets\n",
    "Pluralsight_df = Pluralsight_df.rename(columns={'Course Name':'Course Title', 'Level':'Course Level', 'Duration':'Course Duration', 'Course Description':'Course Info'})\n",
    "# Add 'Course Rating' column\n",
    "Pluralsight_df['Course Rating'] = 'Not applicable'\n",
    "Pluralsight_df.head(3)"
   ]
  },
  {
   "cell_type": "code",
   "execution_count": 894,
   "metadata": {},
   "outputs": [
    {
     "name": "stdout",
     "output_type": "stream",
     "text": [
      "['Intermediate' 'Beginner' 'Expert']\n",
      "['2h 13m' '3h 4m' '1h 45m' '1h 25m' '2h 59m' '3h 39m' '3h 48m' '2h 2m'\n",
      " '29m' '2h 47m' '1h 53m' '2h 24m' '2h 6m' '1h 41m' '2h 1m' '3h 2m'\n",
      " '1h 47m' '2h 37m' '2h 5m' '1h 9m' '2h 16m' '1h 28m' '5h 8m' '20m'\n",
      " '1h 36m' '2h 22m' '2h 45m' '1h 33m' '41m' '1h 15m' '2h 4m' '35m' '2h 18m'\n",
      " '6h 8m' '2h 46m' '7m' '1h 56m' '1h 34m' '4h 36m' '3h 6m' '3h 11m'\n",
      " '1h 57m' '3h 1m' '4h 39m' '1h 38m' '1h 49m' '2h 11m' '3h 36m' '2h 21m'\n",
      " '2h' '5h 21m' '1h 58m' '2h 29m' '2h 9m' '2h 8m' '1h 29m' '47m' '21m'\n",
      " '1h 2m' '1h 30m' '1h 31m' '6h 13m' '2h 52m' '5h 16m' '48m' '2h 25m' '42m'\n",
      " '4h 26m' '1h 51m' '3h 3m' '25m' '8h 11m' '2h 42m' '2h 34m' '2h 38m'\n",
      " '6h 43m' '1h 10m' '3h 44m' '3h 7m' '3h 49m' '15m' '4h 45m' '50m' '2h 7m'\n",
      " '2h 27m' '1h 17m' '1h 19m' '28m' '4h 15m' '1h 43m' '4m' '1h' '1h 13m'\n",
      " '1h 48m' '4h 34m' '3h 52m' '5h 52m' '1h 50m' '36m' '1h 20m' '5h 18m'\n",
      " '2h 39m' '6h 22m' '51m' '3h 22m' '3h 51m' '4h 14m' '1h 55m' '44m' '40m'\n",
      " '3h 20m' '2h 14m' '2h 31m' '1h 27m' '23m' '4h 8m' '4h 18m' '1h 40m'\n",
      " '1h 54m' '1h 59m' '1h 42m' '1h 32m' '1h 35m' '3h 21m' '2h 17m' '1h 3m'\n",
      " '3h 35m' '2h 51m' '1h 8m' '3h' '3h 40m' '3h 24m']\n",
      "[2.22 3.07 1.75 1.42 2.98 3.65 3.8  2.03 0.48 2.78 1.88 2.4  2.1  1.68\n",
      " 2.02 3.03 1.78 2.62 2.08 1.15 2.27 1.47 5.13 0.33 1.6  2.37 2.75 1.55\n",
      " 0.68 1.25 2.07 0.58 2.3  6.13 2.77 0.12 1.93 1.57 4.6  3.1  3.18 1.95\n",
      " 3.02 4.65 1.63 1.82 2.18 3.6  2.35 2.   5.35 1.97 2.48 2.15 2.13 1.48\n",
      " 0.78 0.35 1.03 1.5  1.52 6.22 2.87 5.27 0.8  2.42 0.7  4.43 1.85 3.05\n",
      " 0.42 8.18 2.7  2.57 2.63 6.72 1.17 3.73 3.12 3.82 0.25 4.75 0.83 2.12\n",
      " 2.45 1.28 1.32 0.47 4.25 1.72 0.07 1.   1.22 1.8  4.57 3.87 5.87 1.83\n",
      " 0.6  1.33 5.3  2.65 6.37 0.85 3.37 3.85 4.23 1.92 0.73 0.67 3.33 2.23\n",
      " 2.52 1.45 0.38 4.13 4.3  1.67 1.9  1.98 1.7  1.53 1.58 3.35 2.28 1.05\n",
      " 3.58 2.85 1.13 3.   3.67 3.4 ]\n"
     ]
    }
   ],
   "source": [
    "# Remove leading and trailing whitespaces\n",
    "Pluralsight_df['Course Level'] = Pluralsight_df['Course Level'].str.strip()\n",
    "# Change 'Advanced' to 'Expert'\n",
    "Pluralsight_df['Course Level'] = Pluralsight_df['Course Level'].str.replace('Advanced', 'Expert')\n",
    "# Concatenate Title and Info\n",
    "Pluralsight_df['Course Info'] = Pluralsight_df['Course Title'] + '\\n' + Pluralsight_df['Course Info']\n",
    "\n",
    "print(Pluralsight_df['Course Level'].unique())\n",
    "print(Pluralsight_df['Course Duration'].unique())\n",
    "# Change the format of the duration to match the other datasets\n",
    "def convert_to_hours(time_str):\n",
    "    hours = 0\n",
    "    parts = time_str.split(' ')\n",
    "    for part in parts:\n",
    "        if 'h' in part:\n",
    "            hours += float(part.replace('h', ''))\n",
    "        elif 'm' in part:\n",
    "            hours += float(part.replace('m', '')) / 60\n",
    "    return hours\n",
    "\n",
    "Pluralsight_df['Course Duration'] = Pluralsight_df['Course Duration'].apply(convert_to_hours).round(2)\n",
    "print(Pluralsight_df['Course Duration'].unique())\n",
    "\n",
    "# change order of columns\n",
    "Pluralsight_df = Pluralsight_df[['Course Title', 'Course Info', 'Course Rating', 'Course Duration', 'Course Level']]"
   ]
  },
  {
   "cell_type": "code",
   "execution_count": 895,
   "metadata": {},
   "outputs": [
    {
     "data": {
      "text/html": [
       "<div>\n",
       "<style scoped>\n",
       "    .dataframe tbody tr th:only-of-type {\n",
       "        vertical-align: middle;\n",
       "    }\n",
       "\n",
       "    .dataframe tbody tr th {\n",
       "        vertical-align: top;\n",
       "    }\n",
       "\n",
       "    .dataframe thead th {\n",
       "        text-align: right;\n",
       "    }\n",
       "</style>\n",
       "<table border=\"1\" class=\"dataframe\">\n",
       "  <thead>\n",
       "    <tr style=\"text-align: right;\">\n",
       "      <th></th>\n",
       "      <th>Course Title</th>\n",
       "      <th>Course Info</th>\n",
       "      <th>Course Rating</th>\n",
       "      <th>Course Duration</th>\n",
       "      <th>Course Level</th>\n",
       "      <th>Source</th>\n",
       "    </tr>\n",
       "  </thead>\n",
       "  <tbody>\n",
       "    <tr>\n",
       "      <th>0</th>\n",
       "      <td>Windows PowerShell and Regular Expressions</td>\n",
       "      <td>Windows PowerShell and Regular Expressions\\nIf...</td>\n",
       "      <td>Not applicable</td>\n",
       "      <td>2.22</td>\n",
       "      <td>Intermediate</td>\n",
       "      <td>Pluralsight</td>\n",
       "    </tr>\n",
       "    <tr>\n",
       "      <th>1</th>\n",
       "      <td>Ethernet Operation and Switch Configuration</td>\n",
       "      <td>Ethernet Operation and Switch Configuration\\nS...</td>\n",
       "      <td>Not applicable</td>\n",
       "      <td>3.07</td>\n",
       "      <td>Intermediate</td>\n",
       "      <td>Pluralsight</td>\n",
       "    </tr>\n",
       "    <tr>\n",
       "      <th>2</th>\n",
       "      <td>Cisco Enterprise Networks: Basic Networking an...</td>\n",
       "      <td>Cisco Enterprise Networks: Basic Networking an...</td>\n",
       "      <td>Not applicable</td>\n",
       "      <td>1.75</td>\n",
       "      <td>Intermediate</td>\n",
       "      <td>Pluralsight</td>\n",
       "    </tr>\n",
       "  </tbody>\n",
       "</table>\n",
       "</div>"
      ],
      "text/plain": [
       "                                        Course Title  \\\n",
       "0         Windows PowerShell and Regular Expressions   \n",
       "1        Ethernet Operation and Switch Configuration   \n",
       "2  Cisco Enterprise Networks: Basic Networking an...   \n",
       "\n",
       "                                         Course Info   Course Rating  \\\n",
       "0  Windows PowerShell and Regular Expressions\\nIf...  Not applicable   \n",
       "1  Ethernet Operation and Switch Configuration\\nS...  Not applicable   \n",
       "2  Cisco Enterprise Networks: Basic Networking an...  Not applicable   \n",
       "\n",
       "   Course Duration  Course Level       Source  \n",
       "0             2.22  Intermediate  Pluralsight  \n",
       "1             3.07  Intermediate  Pluralsight  \n",
       "2             1.75  Intermediate  Pluralsight  "
      ]
     },
     "execution_count": 895,
     "metadata": {},
     "output_type": "execute_result"
    }
   ],
   "source": [
    "# add a column for the source of the data\n",
    "Pluralsight_df['Source'] = 'Pluralsight'\n",
    "Pluralsight_df.head(3)"
   ]
  },
  {
   "cell_type": "code",
   "execution_count": 896,
   "metadata": {},
   "outputs": [
    {
     "data": {
      "text/plain": [
       "Course Title       0\n",
       "Course Info        0\n",
       "Course Rating      0\n",
       "Course Duration    0\n",
       "Course Level       0\n",
       "Source             0\n",
       "dtype: int64"
      ]
     },
     "execution_count": 896,
     "metadata": {},
     "output_type": "execute_result"
    }
   ],
   "source": [
    "# check NA\n",
    "Pluralsight_df.isna().sum()"
   ]
  },
  {
   "cell_type": "code",
   "execution_count": 897,
   "metadata": {},
   "outputs": [],
   "source": [
    "Pluralsight_df.to_csv('Data/Course Data/PluralSight_clean.csv', index=False)"
   ]
  },
  {
   "cell_type": "markdown",
   "metadata": {},
   "source": [
    "# CodeAcademy"
   ]
  },
  {
   "cell_type": "code",
   "execution_count": 898,
   "metadata": {},
   "outputs": [
    {
     "data": {
      "text/html": [
       "<div>\n",
       "<style scoped>\n",
       "    .dataframe tbody tr th:only-of-type {\n",
       "        vertical-align: middle;\n",
       "    }\n",
       "\n",
       "    .dataframe tbody tr th {\n",
       "        vertical-align: top;\n",
       "    }\n",
       "\n",
       "    .dataframe thead th {\n",
       "        text-align: right;\n",
       "    }\n",
       "</style>\n",
       "<table border=\"1\" class=\"dataframe\">\n",
       "  <thead>\n",
       "    <tr style=\"text-align: right;\">\n",
       "      <th></th>\n",
       "      <th>Course Name</th>\n",
       "      <th>Course Name Url</th>\n",
       "      <th>Course Description</th>\n",
       "      <th>Level</th>\n",
       "      <th>Type</th>\n",
       "      <th>Duration</th>\n",
       "      <th>Category</th>\n",
       "    </tr>\n",
       "  </thead>\n",
       "  <tbody>\n",
       "    <tr>\n",
       "      <th>0</th>\n",
       "      <td>Defending Against AI-Generated Attacks</td>\n",
       "      <td>https://www.codecademy.com/learn/defending-aga...</td>\n",
       "      <td>Dive into the dangerous world of AI phishing a...</td>\n",
       "      <td>NaN</td>\n",
       "      <td>Course</td>\n",
       "      <td>With Certificate</td>\n",
       "      <td>AI</td>\n",
       "    </tr>\n",
       "    <tr>\n",
       "      <th>1</th>\n",
       "      <td>Intro to AI Transformers</td>\n",
       "      <td>https://www.codecademy.com/learn/intro-to-ai-t...</td>\n",
       "      <td>Learn about what transformers are (the T of GP...</td>\n",
       "      <td>Intermediate</td>\n",
       "      <td>Free course</td>\n",
       "      <td>1 hour</td>\n",
       "      <td>AI</td>\n",
       "    </tr>\n",
       "    <tr>\n",
       "      <th>2</th>\n",
       "      <td>Intro to Midjourney</td>\n",
       "      <td>https://www.codecademy.com/learn/intro-to-midj...</td>\n",
       "      <td>Dive into the world of generative image-based-...</td>\n",
       "      <td>Beginner Friendly</td>\n",
       "      <td>Free course</td>\n",
       "      <td>&lt; 1 hour</td>\n",
       "      <td>AI</td>\n",
       "    </tr>\n",
       "  </tbody>\n",
       "</table>\n",
       "</div>"
      ],
      "text/plain": [
       "                              Course Name  \\\n",
       "0  Defending Against AI-Generated Attacks   \n",
       "1                Intro to AI Transformers   \n",
       "2                     Intro to Midjourney   \n",
       "\n",
       "                                     Course Name Url  \\\n",
       "0  https://www.codecademy.com/learn/defending-aga...   \n",
       "1  https://www.codecademy.com/learn/intro-to-ai-t...   \n",
       "2  https://www.codecademy.com/learn/intro-to-midj...   \n",
       "\n",
       "                                  Course Description              Level  \\\n",
       "0  Dive into the dangerous world of AI phishing a...                NaN   \n",
       "1  Learn about what transformers are (the T of GP...       Intermediate   \n",
       "2  Dive into the world of generative image-based-...  Beginner Friendly   \n",
       "\n",
       "          Type          Duration Category  \n",
       "0       Course  With Certificate       AI  \n",
       "1  Free course            1 hour       AI  \n",
       "2  Free course          < 1 hour       AI  "
      ]
     },
     "execution_count": 898,
     "metadata": {},
     "output_type": "execute_result"
    }
   ],
   "source": [
    "CodeAcademy_df.head(3)"
   ]
  },
  {
   "cell_type": "code",
   "execution_count": 899,
   "metadata": {},
   "outputs": [],
   "source": [
    "# Extract Course Name, Course Description, Level, and Duration\n",
    "CodeAcademy_df = CodeAcademy_df[['Course Name', 'Course Description', 'Level', 'Duration']]\n",
    "# Rename columns to match other datasets\n",
    "CodeAcademy_df = CodeAcademy_df.rename(columns={'Course Name':'Course Title', 'Course Description':'Course Info', 'Level':'Course Level', 'Duration':'Course Duration'})\n",
    "CodeAcademy_df['Course Rating'] = 'Not applicable'\n",
    "CodeAcademy_df['Source'] = 'CodeAcademy'"
   ]
  },
  {
   "cell_type": "code",
   "execution_count": 900,
   "metadata": {},
   "outputs": [
    {
     "data": {
      "text/html": [
       "<div>\n",
       "<style scoped>\n",
       "    .dataframe tbody tr th:only-of-type {\n",
       "        vertical-align: middle;\n",
       "    }\n",
       "\n",
       "    .dataframe tbody tr th {\n",
       "        vertical-align: top;\n",
       "    }\n",
       "\n",
       "    .dataframe thead th {\n",
       "        text-align: right;\n",
       "    }\n",
       "</style>\n",
       "<table border=\"1\" class=\"dataframe\">\n",
       "  <thead>\n",
       "    <tr style=\"text-align: right;\">\n",
       "      <th></th>\n",
       "      <th>Course Title</th>\n",
       "      <th>Course Info</th>\n",
       "      <th>Course Level</th>\n",
       "      <th>Course Duration</th>\n",
       "      <th>Course Rating</th>\n",
       "      <th>Source</th>\n",
       "    </tr>\n",
       "  </thead>\n",
       "  <tbody>\n",
       "    <tr>\n",
       "      <th>0</th>\n",
       "      <td>Defending Against AI-Generated Attacks</td>\n",
       "      <td>Dive into the dangerous world of AI phishing a...</td>\n",
       "      <td>NaN</td>\n",
       "      <td>With Certificate</td>\n",
       "      <td>Not applicable</td>\n",
       "      <td>CodeAcademy</td>\n",
       "    </tr>\n",
       "    <tr>\n",
       "      <th>1</th>\n",
       "      <td>Intro to AI Transformers</td>\n",
       "      <td>Learn about what transformers are (the T of GP...</td>\n",
       "      <td>Intermediate</td>\n",
       "      <td>1 hour</td>\n",
       "      <td>Not applicable</td>\n",
       "      <td>CodeAcademy</td>\n",
       "    </tr>\n",
       "    <tr>\n",
       "      <th>2</th>\n",
       "      <td>Intro to Midjourney</td>\n",
       "      <td>Dive into the world of generative image-based-...</td>\n",
       "      <td>Beginner Friendly</td>\n",
       "      <td>&lt; 1 hour</td>\n",
       "      <td>Not applicable</td>\n",
       "      <td>CodeAcademy</td>\n",
       "    </tr>\n",
       "  </tbody>\n",
       "</table>\n",
       "</div>"
      ],
      "text/plain": [
       "                             Course Title  \\\n",
       "0  Defending Against AI-Generated Attacks   \n",
       "1                Intro to AI Transformers   \n",
       "2                     Intro to Midjourney   \n",
       "\n",
       "                                         Course Info       Course Level  \\\n",
       "0  Dive into the dangerous world of AI phishing a...                NaN   \n",
       "1  Learn about what transformers are (the T of GP...       Intermediate   \n",
       "2  Dive into the world of generative image-based-...  Beginner Friendly   \n",
       "\n",
       "    Course Duration   Course Rating       Source  \n",
       "0  With Certificate  Not applicable  CodeAcademy  \n",
       "1            1 hour  Not applicable  CodeAcademy  \n",
       "2          < 1 hour  Not applicable  CodeAcademy  "
      ]
     },
     "execution_count": 900,
     "metadata": {},
     "output_type": "execute_result"
    }
   ],
   "source": [
    "CodeAcademy_df.head(3)"
   ]
  },
  {
   "cell_type": "code",
   "execution_count": 901,
   "metadata": {},
   "outputs": [
    {
     "name": "stdout",
     "output_type": "stream",
     "text": [
      "[nan 'Intermediate' 'Beginner Friendly' 'Advanced']\n",
      "['With Certificate' '1 hour' '< 1 hour' '2 hours' '5 hours' '4 hours' nan\n",
      " '3 hours' '17 hours' '7 hours' '8 hours' '6 hours' '13 hours' '15 hours'\n",
      " '10 hours' '9 hours' '16 hours' '11 hours' '14 hours']\n"
     ]
    }
   ],
   "source": [
    "print(CodeAcademy_df['Course Level'].unique())\n",
    "print(CodeAcademy_df['Course Duration'].unique())"
   ]
  },
  {
   "cell_type": "code",
   "execution_count": 902,
   "metadata": {},
   "outputs": [
    {
     "name": "stdout",
     "output_type": "stream",
     "text": [
      "[nan 'Intermediate' 'Beginner Friendly' 'Advanced']\n",
      "['With Certificate' '1 hour' '< 1 hour' '2 hours' '5 hours' '4 hours' nan\n",
      " '3 hours' '17 hours' '7 hours' '8 hours' '6 hours' '13 hours' '15 hours'\n",
      " '10 hours' '9 hours' '16 hours' '11 hours' '14 hours']\n",
      "['Not applicable' 'Intermediate' 'Beginner' 'Expert']\n",
      "['Not applicable' '1' '2' '5' '4' '3' '17' '7' '8' '6' '13' '15' '10' '9'\n",
      " '16' '11' '14']\n"
     ]
    },
    {
     "name": "stderr",
     "output_type": "stream",
     "text": [
      "<>:17: SyntaxWarning: invalid escape sequence '\\d'\n",
      "<>:17: SyntaxWarning: invalid escape sequence '\\d'\n",
      "/var/folders/sg/0xjmcw_15nq41ctx8fknnyhw0000gn/T/ipykernel_27632/1271706889.py:17: SyntaxWarning: invalid escape sequence '\\d'\n",
      "  CodeAcademy_df['Course Duration'] = CodeAcademy_df['Course Duration'].str.extract('(\\d+)')\n"
     ]
    }
   ],
   "source": [
    "# Concatenate Title and Info\n",
    "CodeAcademy_df['Course Info'] = CodeAcademy_df['Course Title'] + '\\n' + CodeAcademy_df['Course Info']\n",
    "\n",
    "print(CodeAcademy_df['Course Level'].unique())\n",
    "print(CodeAcademy_df['Course Duration'].unique())\n",
    "\n",
    "# Course Level: 'All Levels' 'Beginner' 'Intermediate' 'Expert' 'Not applicable'\n",
    "# change nan to 'Not applicable'\n",
    "CodeAcademy_df['Course Level'] = CodeAcademy_df['Course Level'].replace(np.nan, 'Not applicable')\n",
    "# change 'Beginner Friendly' to 'Beginner'\n",
    "CodeAcademy_df['Course Level'] = CodeAcademy_df['Course Level'].replace('Beginner Friendly', 'Beginner')\n",
    "# change 'Advanced' to 'Expert'\n",
    "CodeAcademy_df['Course Level'] = CodeAcademy_df['Course Level'].replace('Advanced', 'Expert')\n",
    "\n",
    "# Standardize 'Course Duration' to 'hours'\n",
    "# remove all the text and keep only the number\n",
    "CodeAcademy_df['Course Duration'] = CodeAcademy_df['Course Duration'].str.extract('(\\d+)')\n",
    "# change nan to not applicable\n",
    "CodeAcademy_df['Course Duration'] = CodeAcademy_df['Course Duration'].replace(np.nan, 'Not applicable')\n",
    "\n",
    "print(CodeAcademy_df['Course Level'].unique())\n",
    "print(CodeAcademy_df['Course Duration'].unique())\n",
    "\n",
    "# change order of columns\n",
    "CodeAcademy_df = CodeAcademy_df[['Course Title', 'Course Info', 'Course Rating', 'Course Duration', 'Course Level', 'Source']]"
   ]
  },
  {
   "cell_type": "code",
   "execution_count": 903,
   "metadata": {},
   "outputs": [
    {
     "data": {
      "text/html": [
       "<div>\n",
       "<style scoped>\n",
       "    .dataframe tbody tr th:only-of-type {\n",
       "        vertical-align: middle;\n",
       "    }\n",
       "\n",
       "    .dataframe tbody tr th {\n",
       "        vertical-align: top;\n",
       "    }\n",
       "\n",
       "    .dataframe thead th {\n",
       "        text-align: right;\n",
       "    }\n",
       "</style>\n",
       "<table border=\"1\" class=\"dataframe\">\n",
       "  <thead>\n",
       "    <tr style=\"text-align: right;\">\n",
       "      <th></th>\n",
       "      <th>Course Title</th>\n",
       "      <th>Course Info</th>\n",
       "      <th>Course Rating</th>\n",
       "      <th>Course Duration</th>\n",
       "      <th>Course Level</th>\n",
       "      <th>Source</th>\n",
       "    </tr>\n",
       "  </thead>\n",
       "  <tbody>\n",
       "    <tr>\n",
       "      <th>0</th>\n",
       "      <td>Defending Against AI-Generated Attacks</td>\n",
       "      <td>Defending Against AI-Generated Attacks\\nDive i...</td>\n",
       "      <td>Not applicable</td>\n",
       "      <td>Not applicable</td>\n",
       "      <td>Not applicable</td>\n",
       "      <td>CodeAcademy</td>\n",
       "    </tr>\n",
       "    <tr>\n",
       "      <th>1</th>\n",
       "      <td>Intro to AI Transformers</td>\n",
       "      <td>Intro to AI Transformers\\nLearn about what tra...</td>\n",
       "      <td>Not applicable</td>\n",
       "      <td>1</td>\n",
       "      <td>Intermediate</td>\n",
       "      <td>CodeAcademy</td>\n",
       "    </tr>\n",
       "    <tr>\n",
       "      <th>2</th>\n",
       "      <td>Intro to Midjourney</td>\n",
       "      <td>Intro to Midjourney\\nDive into the world of ge...</td>\n",
       "      <td>Not applicable</td>\n",
       "      <td>1</td>\n",
       "      <td>Beginner</td>\n",
       "      <td>CodeAcademy</td>\n",
       "    </tr>\n",
       "  </tbody>\n",
       "</table>\n",
       "</div>"
      ],
      "text/plain": [
       "                             Course Title  \\\n",
       "0  Defending Against AI-Generated Attacks   \n",
       "1                Intro to AI Transformers   \n",
       "2                     Intro to Midjourney   \n",
       "\n",
       "                                         Course Info   Course Rating  \\\n",
       "0  Defending Against AI-Generated Attacks\\nDive i...  Not applicable   \n",
       "1  Intro to AI Transformers\\nLearn about what tra...  Not applicable   \n",
       "2  Intro to Midjourney\\nDive into the world of ge...  Not applicable   \n",
       "\n",
       "  Course Duration    Course Level       Source  \n",
       "0  Not applicable  Not applicable  CodeAcademy  \n",
       "1               1    Intermediate  CodeAcademy  \n",
       "2               1        Beginner  CodeAcademy  "
      ]
     },
     "execution_count": 903,
     "metadata": {},
     "output_type": "execute_result"
    }
   ],
   "source": [
    "CodeAcademy_df.head(3)"
   ]
  },
  {
   "cell_type": "code",
   "execution_count": 904,
   "metadata": {},
   "outputs": [
    {
     "data": {
      "text/plain": [
       "Course Title       0\n",
       "Course Info        0\n",
       "Course Rating      0\n",
       "Course Duration    0\n",
       "Course Level       0\n",
       "Source             0\n",
       "dtype: int64"
      ]
     },
     "execution_count": 904,
     "metadata": {},
     "output_type": "execute_result"
    }
   ],
   "source": [
    "# Check for missing values\n",
    "CodeAcademy_df.isnull().sum()"
   ]
  },
  {
   "cell_type": "code",
   "execution_count": 905,
   "metadata": {},
   "outputs": [],
   "source": [
    "# Export to csv\n",
    "CodeAcademy_df.to_csv('Data/Course Data/CodeAcademy_clean.csv', index=False)"
   ]
  },
  {
   "cell_type": "markdown",
   "metadata": {},
   "source": [
    "# Coursera"
   ]
  },
  {
   "cell_type": "code",
   "execution_count": 906,
   "metadata": {},
   "outputs": [
    {
     "data": {
      "text/html": [
       "<div>\n",
       "<style scoped>\n",
       "    .dataframe tbody tr th:only-of-type {\n",
       "        vertical-align: middle;\n",
       "    }\n",
       "\n",
       "    .dataframe tbody tr th {\n",
       "        vertical-align: top;\n",
       "    }\n",
       "\n",
       "    .dataframe thead th {\n",
       "        text-align: right;\n",
       "    }\n",
       "</style>\n",
       "<table border=\"1\" class=\"dataframe\">\n",
       "  <thead>\n",
       "    <tr style=\"text-align: right;\">\n",
       "      <th></th>\n",
       "      <th>Course Title</th>\n",
       "      <th>Rating</th>\n",
       "      <th>Level</th>\n",
       "      <th>Schedule</th>\n",
       "      <th>What you will learn</th>\n",
       "      <th>Skill gain</th>\n",
       "      <th>Modules</th>\n",
       "      <th>Instructor</th>\n",
       "      <th>Offered By</th>\n",
       "      <th>Keyword</th>\n",
       "      <th>Course Url</th>\n",
       "      <th>Duration to complete (Approx.)</th>\n",
       "      <th>Number of Review</th>\n",
       "    </tr>\n",
       "  </thead>\n",
       "  <tbody>\n",
       "    <tr>\n",
       "      <th>0</th>\n",
       "      <td>Fashion as Design</td>\n",
       "      <td>4.8</td>\n",
       "      <td>Beginner level</td>\n",
       "      <td>Flexible schedule</td>\n",
       "      <td>Not specified</td>\n",
       "      <td>Art History, Art, History, Creativity</td>\n",
       "      <td>Introduction, Heroes, Silhouettes, Coutures, L...</td>\n",
       "      <td>Anna Burckhardt, Paola Antonelli, Michelle Mil...</td>\n",
       "      <td>The Museum of Modern Art</td>\n",
       "      <td>Arts and Humanities</td>\n",
       "      <td>https://www.coursera.org/learn/fashion-design</td>\n",
       "      <td>20.0</td>\n",
       "      <td>2813</td>\n",
       "    </tr>\n",
       "    <tr>\n",
       "      <th>1</th>\n",
       "      <td>Modern American Poetry</td>\n",
       "      <td>4.4</td>\n",
       "      <td>Beginner level</td>\n",
       "      <td>Flexible schedule</td>\n",
       "      <td>Not specified</td>\n",
       "      <td>Not specified</td>\n",
       "      <td>Orientation, Module 1, Module 2, Module 3, Mod...</td>\n",
       "      <td>Cary Nelson</td>\n",
       "      <td>University of Illinois at Urbana-Champaign</td>\n",
       "      <td>Arts and Humanities</td>\n",
       "      <td>https://www.coursera.org/learn/modern-american...</td>\n",
       "      <td>34.0</td>\n",
       "      <td>100</td>\n",
       "    </tr>\n",
       "    <tr>\n",
       "      <th>2</th>\n",
       "      <td>Pixel Art for Video Games</td>\n",
       "      <td>4.5</td>\n",
       "      <td>Beginner level</td>\n",
       "      <td>Flexible schedule</td>\n",
       "      <td>Not specified</td>\n",
       "      <td>Not specified</td>\n",
       "      <td>Week 1: Introduction to Pixel Art, Week 2: Pix...</td>\n",
       "      <td>Andrew Dennis, Ricardo Guimaraes</td>\n",
       "      <td>Michigan State University</td>\n",
       "      <td>Arts and Humanities</td>\n",
       "      <td>https://www.coursera.org/learn/pixel-art-video...</td>\n",
       "      <td>9.0</td>\n",
       "      <td>227</td>\n",
       "    </tr>\n",
       "  </tbody>\n",
       "</table>\n",
       "</div>"
      ],
      "text/plain": [
       "                Course Title  Rating           Level           Schedule  \\\n",
       "0          Fashion as Design     4.8  Beginner level  Flexible schedule   \n",
       "1     Modern American Poetry     4.4  Beginner level  Flexible schedule   \n",
       "2  Pixel Art for Video Games     4.5  Beginner level  Flexible schedule   \n",
       "\n",
       "  What you will learn                             Skill gain  \\\n",
       "0       Not specified  Art History, Art, History, Creativity   \n",
       "1       Not specified                          Not specified   \n",
       "2       Not specified                          Not specified   \n",
       "\n",
       "                                             Modules  \\\n",
       "0  Introduction, Heroes, Silhouettes, Coutures, L...   \n",
       "1  Orientation, Module 1, Module 2, Module 3, Mod...   \n",
       "2  Week 1: Introduction to Pixel Art, Week 2: Pix...   \n",
       "\n",
       "                                          Instructor  \\\n",
       "0  Anna Burckhardt, Paola Antonelli, Michelle Mil...   \n",
       "1                                        Cary Nelson   \n",
       "2                   Andrew Dennis, Ricardo Guimaraes   \n",
       "\n",
       "                                   Offered By              Keyword  \\\n",
       "0                    The Museum of Modern Art  Arts and Humanities   \n",
       "1  University of Illinois at Urbana-Champaign  Arts and Humanities   \n",
       "2                   Michigan State University  Arts and Humanities   \n",
       "\n",
       "                                          Course Url  \\\n",
       "0      https://www.coursera.org/learn/fashion-design   \n",
       "1  https://www.coursera.org/learn/modern-american...   \n",
       "2  https://www.coursera.org/learn/pixel-art-video...   \n",
       "\n",
       "   Duration to complete (Approx.)  Number of Review  \n",
       "0                            20.0              2813  \n",
       "1                            34.0               100  \n",
       "2                             9.0               227  "
      ]
     },
     "execution_count": 906,
     "metadata": {},
     "output_type": "execute_result"
    }
   ],
   "source": [
    "Coursera_df.head(3)"
   ]
  },
  {
   "cell_type": "code",
   "execution_count": 907,
   "metadata": {},
   "outputs": [
    {
     "name": "stdout",
     "output_type": "stream",
     "text": [
      "162\n"
     ]
    },
    {
     "data": {
      "text/plain": [
       "9                                    悖论：思维的魔方\n",
       "10                                拍摄：像剪辑师一样拍摄\n",
       "18                                 中国哲学经典著作导读\n",
       "23                                     游戏产业概论\n",
       "180             東坡詞 (Ci Poetry of Su Dong Po)\n",
       "                        ...                  \n",
       "7917                2. データに基づいた意思決定を行うための問いかけ\n",
       "7998                        医学统计学与SPSS软件（基础篇）\n",
       "8243    论文写作初阶（Academic Writing and Research）\n",
       "8320                                    大学生瑜伽\n",
       "8342                                   人群与网络 \n",
       "Name: Course Title, Length: 162, dtype: object"
      ]
     },
     "execution_count": 907,
     "metadata": {},
     "output_type": "execute_result"
    }
   ],
   "source": [
    "# Check if title has Chinese characters\n",
    "print(Coursera_df['Course Title'].str.contains(r'[\\u4e00-\\u9fff]').sum())\n",
    "# Print all these titles\n",
    "Coursera_df[Coursera_df['Course Title'].str.contains(r'[\\u4e00-\\u9fff]')]['Course Title']"
   ]
  },
  {
   "cell_type": "code",
   "execution_count": 908,
   "metadata": {},
   "outputs": [],
   "source": [
    "# Remove these rows with Chinese characters\n",
    "Coursera_df = Coursera_df[~Coursera_df['Course Title'].str.contains(r'[\\u4e00-\\u9fff]')]"
   ]
  },
  {
   "cell_type": "code",
   "execution_count": 909,
   "metadata": {},
   "outputs": [
    {
     "name": "stdout",
     "output_type": "stream",
     "text": [
      "['Arts and Humanities' 'Business' 'Computer Science' 'DataScience'\n",
      " 'Health' 'Information Technology' 'Math and Logic' 'Personal Development'\n",
      " 'Physical Science and Engineering' 'Social Sciences']\n"
     ]
    },
    {
     "data": {
      "text/plain": [
       "Computer Science                    975\n",
       "DataScience                         959\n",
       "Health                              956\n",
       "Social Sciences                     951\n",
       "Personal Development                925\n",
       "Business                            922\n",
       "Information Technology              833\n",
       "Physical Science and Engineering    779\n",
       "Math and Logic                      473\n",
       "Arts and Humanities                 435\n",
       "Name: Keyword, dtype: int64"
      ]
     },
     "execution_count": 909,
     "metadata": {},
     "output_type": "execute_result"
    }
   ],
   "source": [
    "# check keyword\n",
    "print(Coursera_df['Keyword'].unique())\n",
    "\n",
    "# check how many columns for each keyword\n",
    "it_df = Coursera_df['Keyword'].value_counts()\n",
    "it_df\n",
    "# Information Technology              833\n",
    "# DataScience                         959\n",
    "# Computer Science                    975"
   ]
  },
  {
   "cell_type": "code",
   "execution_count": 910,
   "metadata": {},
   "outputs": [
    {
     "data": {
      "text/plain": [
       "Index(['Course Title', 'Rating', 'Level', 'Schedule', 'What you will learn',\n",
       "       'Skill gain', 'Modules', 'Instructor', 'Offered By', 'Keyword',\n",
       "       'Course Url', 'Duration to complete (Approx.)', 'Number of Review'],\n",
       "      dtype='object')"
      ]
     },
     "execution_count": 910,
     "metadata": {},
     "output_type": "execute_result"
    }
   ],
   "source": [
    "# check Coursera_df columns\n",
    "Coursera_df.columns"
   ]
  },
  {
   "cell_type": "code",
   "execution_count": 911,
   "metadata": {},
   "outputs": [],
   "source": [
    "# Get 'Course Title', 'Course Info', 'Course Rating', 'Course Duration', 'Course Level'\n",
    "Coursera_df = Coursera_df[['Course Title', 'What you will learn','Skill gain' ,'Rating', 'Duration to complete (Approx.)', 'Level']]\n",
    "# Merge 'What you will learn' and 'Skill gain' into 'Course Info'\n",
    "Coursera_df['Course Info'] = Coursera_df['What you will learn'] + '\\n' + Coursera_df['Skill gain']\n",
    "# Remove 'What you will learn' and 'Skill gain' columns\n",
    "Coursera_df = Coursera_df.drop(['What you will learn', 'Skill gain'], axis=1)\n",
    "# rename columns\n",
    "Coursera_df = Coursera_df.rename(columns={'Rating':'Course Rating', 'Duration to complete (Approx.)':'Course Duration', 'Level':'Course Level'})\n",
    "# for course level, change 'Beginner level' to 'Beginner', change \"Intermeediate level\" to \"Intermediate\", \"Not specified\" to \"Not applicable\", 'Advacned level' to 'Expert'\n",
    "Coursera_df['Course Level'] = Coursera_df['Course Level'].replace('Beginner level', 'Beginner')\n",
    "Coursera_df['Course Level'] = Coursera_df['Course Level'].replace('Intermediate level', 'Intermediate')\n",
    "Coursera_df['Course Level'] = Coursera_df['Course Level'].replace('Not specified', 'Not applicable')\n",
    "Coursera_df['Course Level'] = Coursera_df['Course Level'].replace('Advanced level', 'Expert')\n",
    "\n",
    "# add a column for the source of the data\n",
    "Coursera_df['Source'] = 'Coursera'\n",
    "# change order of columns\n",
    "Coursera_df = Coursera_df[['Course Title', 'Course Info', 'Course Rating', 'Course Duration', 'Course Level', 'Source']]"
   ]
  },
  {
   "cell_type": "code",
   "execution_count": 912,
   "metadata": {},
   "outputs": [
    {
     "name": "stdout",
     "output_type": "stream",
     "text": [
      "['Beginner' 'Intermediate' 'Not applicable' 'Expert']\n"
     ]
    }
   ],
   "source": [
    "# check course level unique values\n",
    "print(Coursera_df['Course Level'].unique())"
   ]
  },
  {
   "cell_type": "code",
   "execution_count": 913,
   "metadata": {},
   "outputs": [
    {
     "data": {
      "text/html": [
       "<div>\n",
       "<style scoped>\n",
       "    .dataframe tbody tr th:only-of-type {\n",
       "        vertical-align: middle;\n",
       "    }\n",
       "\n",
       "    .dataframe tbody tr th {\n",
       "        vertical-align: top;\n",
       "    }\n",
       "\n",
       "    .dataframe thead th {\n",
       "        text-align: right;\n",
       "    }\n",
       "</style>\n",
       "<table border=\"1\" class=\"dataframe\">\n",
       "  <thead>\n",
       "    <tr style=\"text-align: right;\">\n",
       "      <th></th>\n",
       "      <th>Course Title</th>\n",
       "      <th>Course Info</th>\n",
       "      <th>Course Rating</th>\n",
       "      <th>Course Duration</th>\n",
       "      <th>Course Level</th>\n",
       "      <th>Source</th>\n",
       "    </tr>\n",
       "  </thead>\n",
       "  <tbody>\n",
       "    <tr>\n",
       "      <th>0</th>\n",
       "      <td>Fashion as Design</td>\n",
       "      <td>Not specified\\nArt History, Art, History, Crea...</td>\n",
       "      <td>4.8</td>\n",
       "      <td>20.0</td>\n",
       "      <td>Beginner</td>\n",
       "      <td>Coursera</td>\n",
       "    </tr>\n",
       "    <tr>\n",
       "      <th>1</th>\n",
       "      <td>Modern American Poetry</td>\n",
       "      <td>Not specified\\nNot specified</td>\n",
       "      <td>4.4</td>\n",
       "      <td>34.0</td>\n",
       "      <td>Beginner</td>\n",
       "      <td>Coursera</td>\n",
       "    </tr>\n",
       "    <tr>\n",
       "      <th>2</th>\n",
       "      <td>Pixel Art for Video Games</td>\n",
       "      <td>Not specified\\nNot specified</td>\n",
       "      <td>4.5</td>\n",
       "      <td>9.0</td>\n",
       "      <td>Beginner</td>\n",
       "      <td>Coursera</td>\n",
       "    </tr>\n",
       "  </tbody>\n",
       "</table>\n",
       "</div>"
      ],
      "text/plain": [
       "                Course Title  \\\n",
       "0          Fashion as Design   \n",
       "1     Modern American Poetry   \n",
       "2  Pixel Art for Video Games   \n",
       "\n",
       "                                         Course Info  Course Rating  \\\n",
       "0  Not specified\\nArt History, Art, History, Crea...            4.8   \n",
       "1                       Not specified\\nNot specified            4.4   \n",
       "2                       Not specified\\nNot specified            4.5   \n",
       "\n",
       "   Course Duration Course Level    Source  \n",
       "0             20.0     Beginner  Coursera  \n",
       "1             34.0     Beginner  Coursera  \n",
       "2              9.0     Beginner  Coursera  "
      ]
     },
     "execution_count": 913,
     "metadata": {},
     "output_type": "execute_result"
    }
   ],
   "source": [
    "Coursera_df.head(3)"
   ]
  },
  {
   "cell_type": "code",
   "execution_count": 914,
   "metadata": {},
   "outputs": [
    {
     "data": {
      "text/plain": [
       "Course Title       0\n",
       "Course Info        0\n",
       "Course Rating      0\n",
       "Course Duration    0\n",
       "Course Level       0\n",
       "Source             0\n",
       "dtype: int64"
      ]
     },
     "execution_count": 914,
     "metadata": {},
     "output_type": "execute_result"
    }
   ],
   "source": [
    "# check na\n",
    "Coursera_df.isnull().sum()"
   ]
  },
  {
   "cell_type": "code",
   "execution_count": 915,
   "metadata": {},
   "outputs": [],
   "source": [
    "# Export to csv\n",
    "Coursera_df.to_csv('Data/Course Data/Coursera_clean.csv', index=False)"
   ]
  },
  {
   "cell_type": "markdown",
   "metadata": {},
   "source": [
    "# Merge All Dataset"
   ]
  },
  {
   "cell_type": "code",
   "execution_count": 916,
   "metadata": {},
   "outputs": [
    {
     "data": {
      "text/html": [
       "<div>\n",
       "<style scoped>\n",
       "    .dataframe tbody tr th:only-of-type {\n",
       "        vertical-align: middle;\n",
       "    }\n",
       "\n",
       "    .dataframe tbody tr th {\n",
       "        vertical-align: top;\n",
       "    }\n",
       "\n",
       "    .dataframe thead th {\n",
       "        text-align: right;\n",
       "    }\n",
       "</style>\n",
       "<table border=\"1\" class=\"dataframe\">\n",
       "  <thead>\n",
       "    <tr style=\"text-align: right;\">\n",
       "      <th></th>\n",
       "      <th>Course Title</th>\n",
       "      <th>Course Info</th>\n",
       "      <th>Course Rating</th>\n",
       "      <th>Course Duration</th>\n",
       "      <th>Course Level</th>\n",
       "      <th>Source</th>\n",
       "    </tr>\n",
       "  </thead>\n",
       "  <tbody>\n",
       "    <tr>\n",
       "      <th>0</th>\n",
       "      <td>Ultimate AWS Certified Solutions Architect Ass...</td>\n",
       "      <td>Ultimate AWS Certified Solutions Architect Ass...</td>\n",
       "      <td>4.7</td>\n",
       "      <td>27.5</td>\n",
       "      <td>All Levels</td>\n",
       "      <td>Udemy</td>\n",
       "    </tr>\n",
       "    <tr>\n",
       "      <th>1</th>\n",
       "      <td>[NEW] Ultimate AWS Certified Cloud Practitione...</td>\n",
       "      <td>[NEW] Ultimate AWS Certified Cloud Practitione...</td>\n",
       "      <td>4.7</td>\n",
       "      <td>15</td>\n",
       "      <td>Beginner</td>\n",
       "      <td>Udemy</td>\n",
       "    </tr>\n",
       "    <tr>\n",
       "      <th>2</th>\n",
       "      <td>Learn Ethical Hacking From Scratch</td>\n",
       "      <td>Learn Ethical Hacking From Scratch\\nBecome an ...</td>\n",
       "      <td>4.6</td>\n",
       "      <td>16</td>\n",
       "      <td>All Levels</td>\n",
       "      <td>Udemy</td>\n",
       "    </tr>\n",
       "  </tbody>\n",
       "</table>\n",
       "</div>"
      ],
      "text/plain": [
       "                                        Course Title  \\\n",
       "0  Ultimate AWS Certified Solutions Architect Ass...   \n",
       "1  [NEW] Ultimate AWS Certified Cloud Practitione...   \n",
       "2                 Learn Ethical Hacking From Scratch   \n",
       "\n",
       "                                         Course Info Course Rating  \\\n",
       "0  Ultimate AWS Certified Solutions Architect Ass...           4.7   \n",
       "1  [NEW] Ultimate AWS Certified Cloud Practitione...           4.7   \n",
       "2  Learn Ethical Hacking From Scratch\\nBecome an ...           4.6   \n",
       "\n",
       "  Course Duration Course Level Source  \n",
       "0           27.5    All Levels  Udemy  \n",
       "1             15      Beginner  Udemy  \n",
       "2             16    All Levels  Udemy  "
      ]
     },
     "execution_count": 916,
     "metadata": {},
     "output_type": "execute_result"
    }
   ],
   "source": [
    "# Combine all datasets\n",
    "Course_df = pd.concat([Udemy_df, Pluralsight_df, CodeAcademy_df, Coursera_df])\n",
    "Course_df.head(3)"
   ]
  },
  {
   "cell_type": "code",
   "execution_count": 917,
   "metadata": {},
   "outputs": [
    {
     "name": "stdout",
     "output_type": "stream",
     "text": [
      "Course Title       0\n",
      "Course Info        0\n",
      "Course Rating      0\n",
      "Course Duration    0\n",
      "Course Level       0\n",
      "Source             0\n",
      "dtype: int64\n",
      "[4.7 4.6 4.8 4.5 4.9 5.0 3.6 3.7 4.4 4.3 3.8 2.7 'Not applicable' 0.0 4.1\n",
      " 4.2 3.9 4.0 3.0 3.4 3.1 3.3 3.5 3.2]\n",
      "[27.5 15.0 16.0 7.5 33.5 6.0 15.5 31.0 23.0 40.0 14.5 4.5 16.5 79.5 18.0\n",
      " 13.5 5.0 3.0 9.0 20.5 36.0 22.0 7.0 'Not applicable' 11.0 9.5 10.5 24.5\n",
      " 2.5 55.0 17.0 29.0 1.5 22.5 3.5 26.0 24.0 8.0 26.5 25.5 12.5 6.5 28.5 4.0\n",
      " 17.5 14.0 20.0 21.0 18.5 13.0 77.0 8.5 19.5 21.5 32.0 10.0 38.0 31.5 2.0\n",
      " 12.0 81.0 114.0 5.5 40.5 44.5 48.5 23.5 50.5 27.0 38.5 19.0 78.5 34.5\n",
      " 11.5 36.5 53.0 29.5 43.5 34.0 63.5 61.5 47.0 41.5 25.0 62.0 30.5 45.5\n",
      " 57.0 72.5 87.5 35.5 28.0 39.5 58.0 52.5 100.5 48.0 45.0 30.0 66.5 71.5\n",
      " 46.0 54.0 42.0 57.5 1.0 91.0 46.5 50.0 105.5 63.0 66.0 33.0 32.5 145.0\n",
      " 37.0 77.5 74.0 116.5 277.0 136.5 133.0 90.0 252.5 56.0 49.5 131.5 39.0\n",
      " 2.22 3.07 1.75 1.42 2.98 3.65 3.8 2.03 0.48 2.78 1.88 2.4 2.1 1.68 2.02\n",
      " 3.03 1.78 2.62 2.08 1.15 2.27 1.47 5.13 0.33 1.6 2.37 2.75 1.55 0.68 1.25\n",
      " 2.07 0.58 2.3 6.13 2.77 0.12 1.93 1.57 4.6 3.1 3.18 1.95 3.02 4.65 1.63\n",
      " 1.82 2.18 3.6 2.35 5.35 1.97 2.48 2.15 2.13 1.48 0.78 0.35 1.03 1.52 6.22\n",
      " 2.87 5.27 0.8 2.42 0.7 4.43 1.85 3.05 0.42 8.18 2.7 2.57 2.63 6.72 1.17\n",
      " 3.73 3.12 3.82 0.25 4.75 0.83 2.12 2.45 1.28 1.32 0.47 4.25 1.72 0.07\n",
      " 1.22 1.8 4.57 3.87 5.87 1.83 0.6 1.33 5.3 2.65 6.37 0.85 3.37 3.85 4.23\n",
      " 1.92 0.73 0.67 3.33 2.23 2.52 1.45 0.38 4.13 4.3 1.67 1.9 1.98 1.7 1.53\n",
      " 1.58 3.35 2.28 1.05 3.58 2.85 1.13 3.67 3.4 52.0 80.0 93.0 127.0 65.0\n",
      " 94.0 44.0 88.0 35.0 240.0 120.0 320.0 160.0 84.0 280.0 60.0 41.0 82.0\n",
      " 200.0 72.0 49.0 64.0 69.0 420.0 43.0 168.0 192.0 144.0 89.0 108.0 100.0\n",
      " 59.0 61.0 122.0 480.0 224.0 71.0 75.0 70.0 95.0 2.25 96.0 85.0 180.0 68.0\n",
      " 103.0 73.0]\n",
      "['All Levels' 'Beginner' 'Intermediate' 'Expert' 'intermediate'\n",
      " 'Not applicable']\n",
      "['Udemy' 'Pluralsight' 'CodeAcademy' 'Coursera']\n"
     ]
    }
   ],
   "source": [
    "# convert all the number in Course Duration to float\n",
    "Course_df['Course Duration'] = Course_df['Course Duration'].replace('Not applicable', np.nan)\n",
    "Course_df['Course Duration'] = Course_df['Course Duration'].astype(float).round(2)\n",
    "Course_df['Course Duration'] = Course_df['Course Duration'].replace(np.nan, 'Not applicable')\n",
    "\n",
    "# check for missing values\n",
    "print(Course_df.isnull().sum())\n",
    "\n",
    "# check unique values for Course Rating, Course Duration, and Course Level, Source\n",
    "print(Course_df['Course Rating'].unique())\n",
    "print(Course_df['Course Duration'].unique())\n",
    "print(Course_df['Course Level'].unique())\n",
    "print(Course_df['Source'].unique())"
   ]
  },
  {
   "cell_type": "code",
   "execution_count": 918,
   "metadata": {},
   "outputs": [
    {
     "data": {
      "text/plain": [
       "(15227, 6)"
      ]
     },
     "execution_count": 918,
     "metadata": {},
     "output_type": "execute_result"
    }
   ],
   "source": [
    "Course_df.shape"
   ]
  },
  {
   "cell_type": "code",
   "execution_count": 919,
   "metadata": {},
   "outputs": [
    {
     "data": {
      "text/plain": [
       "Coursera       8208\n",
       "Udemy          6208\n",
       "CodeAcademy     632\n",
       "Pluralsight     179\n",
       "Name: Source, dtype: int64"
      ]
     },
     "execution_count": 919,
     "metadata": {},
     "output_type": "execute_result"
    }
   ],
   "source": [
    "# Check each source how many courses\n",
    "Course_df['Source'].value_counts()"
   ]
  },
  {
   "cell_type": "code",
   "execution_count": 920,
   "metadata": {},
   "outputs": [],
   "source": [
    "# Export to csv\n",
    "Course_df.to_csv('Data/Course Data/Course_clean.csv', index=False)"
   ]
  },
  {
   "cell_type": "code",
   "execution_count": 921,
   "metadata": {},
   "outputs": [
    {
     "data": {
      "text/plain": [
       "0.46095750968674065"
      ]
     },
     "execution_count": 921,
     "metadata": {},
     "output_type": "execute_result"
    }
   ],
   "source": [
    "# Check ratio of IT related courses\n",
    "# Count Udemy, CodeAcaemy, Pluralsight total courses\n",
    "Udemy_count = Udemy_df.shape[0]\n",
    "CodeAcademy_count = CodeAcademy_df.shape[0]\n",
    "Pluralsight_count = Pluralsight_df.shape[0]\n",
    "Coursera_count = it_df['Information Technology'] + it_df['DataScience'] + it_df['Computer Science']\n",
    "\n",
    "# Count total courses\n",
    "Total_IT_courses = Udemy_count + CodeAcademy_count + Pluralsight_count\n",
    "Total_IT_courses\n",
    "\n",
    "# Calculate the IT related course ratio\n",
    "Total_IT_courses / Course_df.shape[0]\n"
   ]
  }
 ],
 "metadata": {
  "kernelspec": {
   "display_name": "Python 3",
   "language": "python",
   "name": "python3"
  },
  "language_info": {
   "codemirror_mode": {
    "name": "ipython",
    "version": 3
   },
   "file_extension": ".py",
   "mimetype": "text/x-python",
   "name": "python",
   "nbconvert_exporter": "python",
   "pygments_lexer": "ipython3",
   "version": "3.12.0"
  }
 },
 "nbformat": 4,
 "nbformat_minor": 2
}
